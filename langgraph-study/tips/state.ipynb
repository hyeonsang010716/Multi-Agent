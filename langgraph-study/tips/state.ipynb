{
 "cells": [
  {
   "cell_type": "markdown",
   "metadata": {},
   "source": [
    "## State를 어떻게 정의 하냐에 따라서 대화가 저장 될 수가 있고 저장이 안 될 수도 있다."
   ]
  },
  {
   "cell_type": "code",
   "execution_count": 6,
   "metadata": {},
   "outputs": [
    {
     "name": "stdout",
     "output_type": "stream",
     "text": [
      "{'counter': 1, 'alphabet': ['Hello']}\n",
      "{'counter': 2, 'alphabet': ['Hello']}\n",
      "{'counter': 3, 'alphabet': ['Hello']}\n"
     ]
    }
   ],
   "source": [
    "from typing import TypedDict\n",
    "from langgraph.graph import StateGraph\n",
    "\n",
    "class State(TypedDict):\n",
    "    counter: int\n",
    "    alphabet: list[str]\n",
    "\n",
    "graph_builder = StateGraph(State)\n",
    "\n",
    "from typing import Annotated\n",
    "from typing_extensions import TypedDict\n",
    "\n",
    "from langgraph.graph import StateGraph, START, END\n",
    "import operator\n",
    "\n",
    "class State(TypedDict):\n",
    "    counter: int\n",
    "    alphabet: list[str]\n",
    "\n",
    "def node_a(state: State):\n",
    "    state['counter'] += 1\n",
    "    state['alphabet']= [\"Hello\"]\n",
    "    return state\n",
    "\n",
    "graph_builder = StateGraph(State)\n",
    "\n",
    "graph_builder.add_node(\"chatbot\", node_a)\n",
    "\n",
    "graph_builder.add_edge(START, \"chatbot\")\n",
    "graph_builder.add_edge(\"chatbot\", END)\n",
    "\n",
    "graph = graph_builder.compile()\n",
    "\n",
    "# 초기 상태 정의\n",
    "initial_state = {\n",
    "    \"counter\": 0,\n",
    "    \"alphabet\": []\n",
    "}\n",
    "\n",
    "state = initial_state\n",
    "\n",
    "for _ in range(3):\n",
    "    state = graph.invoke(state)\n",
    "    print(state)"
   ]
  },
  {
   "cell_type": "markdown",
   "metadata": {},
   "source": [
    "#### Annotated는 업데이트 되는 상태를 쓸 수 있게 만든다.\n",
    "#### operator.add 를 쓰면 리스트가 업데이트 된다는 것을 의미함."
   ]
  },
  {
   "cell_type": "code",
   "execution_count": 7,
   "metadata": {},
   "outputs": [
    {
     "name": "stdout",
     "output_type": "stream",
     "text": [
      "{'counter': 1, 'alphabet': ['Hello']}\n",
      "{'counter': 2, 'alphabet': ['Hello', 'Hello']}\n",
      "{'counter': 3, 'alphabet': ['Hello', 'Hello', 'Hello']}\n"
     ]
    }
   ],
   "source": [
    "class State(TypedDict):\n",
    "    counter: int\n",
    "    alphabet: Annotated[list[str], operator.add]\n",
    "\n",
    "def node_a(state: State):\n",
    "    state['counter'] += 1\n",
    "    state['alphabet']= [\"Hello\"]\n",
    "    return state\n",
    "\n",
    "graph_builder = StateGraph(State)\n",
    "\n",
    "graph_builder.add_node(\"chatbot\", node_a)\n",
    "\n",
    "graph_builder.add_edge(START, \"chatbot\")\n",
    "graph_builder.add_edge(\"chatbot\", END)\n",
    "\n",
    "graph = graph_builder.compile()\n",
    "\n",
    "# 초기 상태 정의\n",
    "initial_state = {\n",
    "    \"counter\": 0,\n",
    "    \"alphabet\": []\n",
    "}\n",
    "\n",
    "state = initial_state\n",
    "\n",
    "for _ in range(3):\n",
    "    state = graph.invoke(state)\n",
    "    print(state)"
   ]
  },
  {
   "cell_type": "code",
   "execution_count": null,
   "metadata": {},
   "outputs": [],
   "source": []
  }
 ],
 "metadata": {
  "kernelspec": {
   "display_name": "llm",
   "language": "python",
   "name": "python3"
  },
  "language_info": {
   "codemirror_mode": {
    "name": "ipython",
    "version": 3
   },
   "file_extension": ".py",
   "mimetype": "text/x-python",
   "name": "python",
   "nbconvert_exporter": "python",
   "pygments_lexer": "ipython3",
   "version": "3.10.12"
  }
 },
 "nbformat": 4,
 "nbformat_minor": 2
}
