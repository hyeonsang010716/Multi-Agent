{
 "cells": [
  {
   "cell_type": "code",
   "execution_count": 8,
   "metadata": {},
   "outputs": [],
   "source": [
    "from typing import Annotated\n",
    "from langchain_community.tools.tavily_search import TavilySearchResults\n",
    "from langchain_experimental.tools import PythonREPLTool\n",
    "\n",
    "tavily_tool = TavilySearchResults(max_results=5)  # 웹서치\n",
    "python_repl_tool = PythonREPLTool()  # 차트 생성"
   ]
  },
  {
   "cell_type": "markdown",
   "metadata": {},
   "source": [
    "yfinance : 주식 정보를 가져오는 도구"
   ]
  },
  {
   "cell_type": "code",
   "execution_count": null,
   "metadata": {},
   "outputs": [
    {
     "data": {
      "text/plain": [
       "{'2024-11-08': 147.6300048828125,\n",
       " '2024-11-11': 145.25999450683594,\n",
       " '2024-11-12': 148.2899932861328,\n",
       " '2024-11-13': 146.27000427246094,\n",
       " '2024-11-14': 146.75999450683594}"
      ]
     },
     "execution_count": 1,
     "metadata": {},
     "output_type": "execute_result"
    }
   ],
   "source": [
    "import yfinance as yf\n",
    "from datetime import datetime, timedelta\n",
    "import pandas as pd\n",
    "\n",
    "ticker = yf.Ticker(\"NVDA\")  # NVDA\n",
    "historical_prices = ticker.history(\n",
    "    period=\"5d\", interval=\"1d\"\n",
    ")  # 1일 주가 정보를 5일치를 가져오겠다.\n",
    "\n",
    "last_5_days_close = historical_prices[\"Close\"].tail(5)\n",
    "last_5_days_close_dict = {\n",
    "    date.strftime(\"%Y-%m-%d\"): price for date, price in last_5_days_close.items()\n",
    "}\n",
    "# 연간 및 분기별 재무제표 데이터 가져오기\n",
    "last_5_days_close_dict"
   ]
  },
  {
   "cell_type": "markdown",
   "metadata": {},
   "source": [
    "재무 정보 데이터셋화 도구"
   ]
  },
  {
   "cell_type": "code",
   "execution_count": null,
   "metadata": {},
   "outputs": [],
   "source": [
    "from langchain.tools import BaseTool, StructuredTool, tool\n",
    "import yfinance as yf\n",
    "from datetime import datetime, timedelta\n",
    "import pandas as pd\n",
    "\n",
    "\n",
    "# 재무 분석 툴 설정\n",
    "@tool\n",
    "def stock_analysis(ticker: str) -> str:\n",
    "    \"\"\"\n",
    "    주어진 주식 티커에 대한 업데이트된 종합적인 재무 분석을 수행합니다.\n",
    "    최신 주가 정보, 재무 지표, 성장률, 밸류에이션 및 주요 비율을 제공합니다.\n",
    "    가장 최근 영업일 기준의 데이터를 사용합니다.\n",
    "\n",
    "    :param ticker: 분석할 주식의 티커 심볼\n",
    "    :return: 재무 분석 결과를 포함한 문자열\n",
    "    \"\"\"\n",
    "\n",
    "    def format_number(number):\n",
    "        if number is None or pd.isna(number):\n",
    "            return \"N/A\"\n",
    "        return f\"{number:,.0f}\"\n",
    "\n",
    "    def format_financial_summary(financials):\n",
    "        summary = {}\n",
    "        for date, data in financials.items():\n",
    "            date_str = date.strftime(\"%Y-%m-%d\")\n",
    "            summary[date_str] = {\n",
    "                \"총수익\": format_number(data.get(\"TotalRevenue\")),\n",
    "                \"영업이익\": format_number(data.get(\"OperatingIncome\")),\n",
    "                \"순이익\": format_number(data.get(\"NetIncome\")),\n",
    "                \"EBITDA\": format_number(data.get(\"EBITDA\")),\n",
    "                \"EPS(희석)\": (\n",
    "                    f\"${data.get('DilutedEPS'):.2f}\"\n",
    "                    if pd.notna(data.get(\"DilutedEPS\"))\n",
    "                    else \"N/A\"\n",
    "                ),\n",
    "            }\n",
    "        return summary\n",
    "\n",
    "    ticker = yf.Ticker(ticker)\n",
    "    historical_prices = ticker.history(period=\"5d\", interval=\"1d\")\n",
    "\n",
    "    last_5_days_close = historical_prices[\"Close\"].tail(5)\n",
    "    last_5_days_close_dict = {\n",
    "        date.strftime(\"%Y-%m-%d\"): price for date, price in last_5_days_close.items()\n",
    "    }\n",
    "    # 연간 및 분기별 재무제표 데이터 가져오기\n",
    "    annual_financials = ticker.get_financials()\n",
    "    quarterly_financials = ticker.get_financials(freq=\"quarterly\")\n",
    "\n",
    "    return str(\n",
    "        {\n",
    "            \"최근 5일간 종가\": last_5_days_close_dict,\n",
    "            \"연간 재무제표 요약\": format_financial_summary(annual_financials),\n",
    "            \"분기별 재무제표 요약\": format_financial_summary(quarterly_financials),\n",
    "        }\n",
    "    )"
   ]
  },
  {
   "cell_type": "markdown",
   "metadata": {},
   "source": [
    "Supervisor 정의"
   ]
  },
  {
   "cell_type": "code",
   "execution_count": null,
   "metadata": {},
   "outputs": [],
   "source": [
    "from langchain_core.prompts import ChatPromptTemplate, MessagesPlaceholder\n",
    "from langchain_openai import ChatOpenAI\n",
    "from pydantic import BaseModel\n",
    "from typing import Literal\n",
    "\n",
    "members = [\"Researcher\", \"Stock_Analyzer\", \"Chart_Generator\"]\n",
    "system_prompt = (\n",
    "    \"You are a supervisor tasked with managing a conversation between the\"\n",
    "    \" following workers:  {members}. Given the following user request,\"\n",
    "    \" respond with the worker to act next. Each worker will perform a\"\n",
    "    \" task and respond with their results and status. When finished,\"\n",
    "    \" respond with FINISH.\"\n",
    ")\n",
    "# Our team supervisor is an LLM node. It just picks the next agent to process\n",
    "# and decides when the work is completed\n",
    "options = [\"FINISH\"] + members\n",
    "\n",
    "\n",
    "class routeResponse(BaseModel):\n",
    "    next: Literal[\"FINISH\", \"Researcher\", \"Stock_Analyzer\", \"Chart_Generator\"]\n",
    "\n",
    "\n",
    "prompt = ChatPromptTemplate.from_messages(\n",
    "    [\n",
    "        (\"system\", system_prompt),\n",
    "        MessagesPlaceholder(variable_name=\"messages\"),\n",
    "        (\n",
    "            \"system\",\n",
    "            \"Given the conversation above, who should act next?\"\n",
    "            \" Or should we FINISH? Select one of: {options}\",\n",
    "        ),\n",
    "    ]\n",
    ").partial(options=str(options), members=\", \".join(members))\n",
    "\n",
    "\n",
    "llm = ChatOpenAI(model=\"gpt-4o-mini\")\n",
    "\n",
    "\n",
    "def supervisor_agent(state):\n",
    "    supervisor_chain = prompt | llm.with_structured_output(routeResponse)\n",
    "    return supervisor_chain.invoke(state)"
   ]
  },
  {
   "cell_type": "markdown",
   "metadata": {},
   "source": [
    "하위 에이전트 실행 함수"
   ]
  },
  {
   "cell_type": "code",
   "execution_count": 5,
   "metadata": {},
   "outputs": [],
   "source": [
    "from langchain_core.messages import HumanMessage\n",
    "\n",
    "def agent_node(state, agent, name):\n",
    "    result = agent.invoke(state)\n",
    "    return {\"messages\": [HumanMessage(content=result[\"messages\"][-1].content, name=name)]}"
   ]
  },
  {
   "cell_type": "code",
   "execution_count": 9,
   "metadata": {},
   "outputs": [
    {
     "data": {
      "text/plain": [
       "<langgraph.graph.state.StateGraph at 0x7ff0e0b1a9e0>"
      ]
     },
     "execution_count": 9,
     "metadata": {},
     "output_type": "execute_result"
    }
   ],
   "source": [
    "import functools\n",
    "import operator\n",
    "from typing import Sequence, TypedDict , Annotated\n",
    "\n",
    "from langchain_core.messages import BaseMessage\n",
    "\n",
    "from langgraph.graph import END, StateGraph, START\n",
    "from langgraph.prebuilt import create_react_agent\n",
    "\n",
    "class AgentState(TypedDict):\n",
    "    messages: Annotated[Sequence[BaseMessage], operator.add] # 메시지 저장\n",
    "    next: str # 다음 실행 agent 저장\n",
    "\n",
    "research_system_prompt = \"\"\"You are a helpful research analyst who is specialized in \n",
    "gathering valuable info for given stock.\"\"\"\n",
    "research_agent = create_react_agent(llm, tools=[tavily_tool], state_modifier=research_system_prompt)\n",
    "research_node = functools.partial(agent_node, agent=research_agent, name=\"Researcher\")\n",
    "\n",
    "# NOTE: THIS PERFORMS ARBITRARY CODE EXECUTION. PROCEED WITH CAUTION\n",
    "stock_system_prompt=\"\"\"You are a helpful Stock and financial analyst. Never hallucinate the given metrics.\"\"\"\n",
    "stock_agent = create_react_agent(llm, tools=[stock_analysis], state_modifier=stock_system_prompt)\n",
    "stock_node = functools.partial(agent_node, agent=stock_agent, name=\"Stock_Analyzer\")\n",
    "\n",
    "# NOTE: THIS PERFORMS ARBITRARY CODE EXECUTION. PROCEED WITH CAUTION\n",
    "chart_system_prompt=\"\"\"You are a helpful Stock Chart Generator. \n",
    "Only make accurate charts for given query. Chart design and accuracy should be state of the art.\n",
    "Never make any other mention.\"\"\"\n",
    "chart_agent = create_react_agent(llm, tools=[python_repl_tool], state_modifier=chart_system_prompt)\n",
    "chart_node = functools.partial(agent_node, agent=chart_agent, name=\"Chart_Generator\")\n",
    "\n",
    "workflow = StateGraph(AgentState)\n",
    "workflow.add_node(\"Researcher\", research_node)\n",
    "workflow.add_node(\"Stock_Analyzer\", stock_node)\n",
    "workflow.add_node(\"Chart_Generator\", chart_node)\n",
    "workflow.add_node(\"supervisor\", supervisor_agent)"
   ]
  },
  {
   "cell_type": "code",
   "execution_count": 12,
   "metadata": {},
   "outputs": [],
   "source": [
    "for member in members:\n",
    "    # We want our workers to ALWAYS \"report back\" to the supervisor when done\n",
    "    workflow.add_edge(member, \"supervisor\")\n",
    "# The supervisor populates the \"next\" field in the graph state\n",
    "# which routes to a node or finishes\n",
    "conditional_map = {k: k for k in members}\n",
    "conditional_map[\"FINISH\"] = END\n",
    "workflow.add_conditional_edges(\n",
    "    \"supervisor\", \n",
    "    lambda x: x[\"next\"], \n",
    "    conditional_map)\n",
    "# Finally, add entrypoint\n",
    "workflow.add_edge(START, \"supervisor\")\n",
    "\n",
    "graph = workflow.compile()"
   ]
  },
  {
   "cell_type": "code",
   "execution_count": 16,
   "metadata": {},
   "outputs": [
    {
     "data": {
      "image/jpeg": "[encoded data removed]",
      "text/plain": [
       "<IPython.core.display.Image object>"
      ]
     },
     "metadata": {},
     "output_type": "display_data"
    }
   ],
   "source": [
    "from IPython.display import Image, display\n",
    "\n",
    "try:\n",
    "    display(Image(graph.get_graph().draw_mermaid_png()))\n",
    "except Exception:\n",
    "    # This requires some extra dependencies and is optional\n",
    "    pass"
   ]
  },
  {
   "cell_type": "code",
   "execution_count": null,
   "metadata": {},
   "outputs": [],
   "source": [
    "for s in graph.stream({\"messages\": [HumanMessage(content=\"애플 주식은 상태는 어때?\")]}):\n",
    "    if \"__end__\" not in s:\n",
    "        print(s)\n",
    "        print(\"----\")"
   ]
  }
 ],
 "metadata": {
  "kernelspec": {
   "display_name": "llm",
   "language": "python",
   "name": "python3"
  },
  "language_info": {
   "codemirror_mode": {
    "name": "ipython",
    "version": 3
   },
   "file_extension": ".py",
   "mimetype": "text/x-python",
   "name": "python",
   "nbconvert_exporter": "python",
   "pygments_lexer": "ipython3",
   "version": "3.10.12"
  }
 },
 "nbformat": 4,
 "nbformat_minor": 2
}
