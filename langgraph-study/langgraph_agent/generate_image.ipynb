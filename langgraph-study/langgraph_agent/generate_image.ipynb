{
 "cells": [
  {
   "cell_type": "markdown",
   "metadata": {},
   "source": [
    "### 상태 , 모델 init"
   ]
  },
  {
   "cell_type": "code",
   "execution_count": 1,
   "metadata": {},
   "outputs": [],
   "source": [
    "from typing import Annotated, TypedDict, List, Dict, Sequence\n",
    "from langgraph.graph import StateGraph, START, END\n",
    "from langgraph.graph.message import add_messages\n",
    "from langchain_core.messages import BaseMessage\n",
    "\n",
    "# State definition\n",
    "class State(TypedDict):\n",
    "    messages: Annotated[Sequence[BaseMessage], add_messages] # 챗봇과 사용자 메시지 저장\n",
    "    outline: Dict[str, str] # 해당 토픽의 개요 저장\n",
    "    current_section: int # 현재 위치에 있는 섹션\n",
    "    section_content: str # 해당 섹션 글\n",
    "    section_image: str #해당 섹션 이미지\n",
    "    image_prompt: str # 이미지를 만들 때 사용하는 이미지 프롬프트\n",
    "    total_sections: int # 몇 개의 섹션을 만들지 정하는 변수\n",
    "    full_report: List[Dict[str, str]] # 최종 리포트를 작성할 때 저장하는 변수\n",
    "\n",
    "# Graph builder initialization\n",
    "graph_builder = StateGraph(State)\n",
    "\n",
    "from langchain_openai import ChatOpenAI\n",
    "\n",
    "llm = ChatOpenAI(model=\"gpt-4o-mini\")\n",
    "\n",
    "from langchain_community.tools.tavily_search import TavilySearchResults\n",
    "\n",
    "search = TavilySearchResults(max_results=3)"
   ]
  },
  {
   "cell_type": "markdown",
   "metadata": {},
   "source": [
    "create_model : pydantic 모델을 동적으로 사용하기 위해서 쓰는 코드\n",
    "\n",
    "이전 pydantic 모델은 정적이므로 한 번 사용하면 더 이상 사용 못함\n",
    "\n",
    "동적인 pydantic 모델을 사용하는 이유는 섹션의 수를 정하지 않았기 때문에 섹션 수에 맞춰서 pydantic을 늘려주기 위해서이다."
   ]
  },
  {
   "cell_type": "code",
   "execution_count": 2,
   "metadata": {},
   "outputs": [],
   "source": [
    "from pydantic import BaseModel, Field, create_model\n",
    "\n",
    "# 사용자로부터 입력받은 전체 섹션 수에 따라 Data model의 key와 value를 정의하기 위한 함수\n",
    "# create_model 함수는 Pydantic Data model의 이름과 key:value 값을 기반으로 동적인 Data model을 만들 수 있게 보조\n",
    "def create_outline_model(section_count: int):\n",
    "    fields = {f\"section{i}\": \n",
    "              (str, Field(description=f\"Title for section {i}\")) for i in range(1, section_count + 1)}\n",
    "    return create_model(\"DynamicOutline\", **fields)"
   ]
  },
  {
   "cell_type": "code",
   "execution_count": 3,
   "metadata": {},
   "outputs": [
    {
     "name": "stdout",
     "output_type": "stream",
     "text": [
      "key:section1\n",
      "\n",
      "value:annotation=str required=True description='Title for section 1'\n",
      "\n",
      "key:section2\n",
      "\n",
      "value:annotation=str required=True description='Title for section 2'\n",
      "\n",
      "key:section3\n",
      "\n",
      "value:annotation=str required=True description='Title for section 3'\n",
      "\n"
     ]
    }
   ],
   "source": [
    "fields = {f\"section{i}\": \n",
    "              (str, Field(description=f\"Title for section {i}\")) for i in range(1, 3 + 1)}\n",
    "\n",
    "DynamicOutline = create_model(\"DynamicOutline\", **fields)\n",
    "\n",
    "for key, value in DynamicOutline.model_fields.items():\n",
    "    print(f\"key:{key}\\n\")\n",
    "    print(f\"value:{value}\\n\")\n",
    "    "
   ]
  },
  {
   "cell_type": "code",
   "execution_count": 4,
   "metadata": {},
   "outputs": [
    {
     "name": "stdout",
     "output_type": "stream",
     "text": [
      "key:section1\n",
      "\n",
      "value:annotation=str required=True description='Title for section 1'\n",
      "\n",
      "key:section2\n",
      "\n",
      "value:annotation=str required=True description='Title for section 2'\n",
      "\n",
      "key:section3\n",
      "\n",
      "value:annotation=str required=True description='Title for section 3'\n",
      "\n",
      "key:section4\n",
      "\n",
      "value:annotation=str required=True description='Title for section 4'\n",
      "\n",
      "key:section5\n",
      "\n",
      "value:annotation=str required=True description='Title for section 5'\n",
      "\n"
     ]
    }
   ],
   "source": [
    "DynamicOutline = create_outline_model(5)\n",
    "for key, value in DynamicOutline.model_fields.items():\n",
    "    print(f\"key:{key}\\n\")\n",
    "    print(f\"value:{value}\\n\")"
   ]
  },
  {
   "cell_type": "code",
   "execution_count": 5,
   "metadata": {},
   "outputs": [],
   "source": [
    "from langchain_core.messages import HumanMessage, AIMessage\n",
    "from langchain_core.output_parsers import JsonOutputParser\n",
    "from langchain_core.prompts import PromptTemplate\n",
    "\n",
    "# Outline generation node\n",
    "def outline_generator(state: State):\n",
    "    DynamicOutline = create_outline_model(state[\"total_sections\"])\n",
    "    outline_parser = JsonOutputParser(pydantic_object=DynamicOutline)\n",
    "\n",
    "    outline_prompt = PromptTemplate(\n",
    "        template=\"\"\"\n",
    "        Create an outline for a detailed report with exactly {section_count} main sections.\n",
    "        {format_instructions}\n",
    "        The topic is: {topic}\n",
    "        \"\"\",\n",
    "        input_variables=[\"section_count\", \"topic\"],\n",
    "        partial_variables={\"format_instructions\": outline_parser.get_format_instructions()},\n",
    "    )\n",
    "    \n",
    "    chain = outline_prompt | llm | outline_parser\n",
    "    \n",
    "    outline = chain.invoke({\n",
    "        \"section_count\": state[\"total_sections\"], \n",
    "        \"topic\": state[\"messages\"][-1].content\n",
    "    })\n",
    "    return {\"outline\": outline}"
   ]
  },
  {
   "cell_type": "code",
   "execution_count": 6,
   "metadata": {},
   "outputs": [],
   "source": [
    "def contents_writer(state: State):\n",
    "    if \"error\" in state:\n",
    "        return {\"messages\": [AIMessage(content=f\"An error occurred: {state['error']}\")]}\n",
    "    \n",
    "    if state[\"current_section\"] > state[\"total_sections\"]:\n",
    "        return {\"messages\": [AIMessage(content=\"Report completed.\")]}\n",
    "        \n",
    "    current_section_key = f\"section{state['current_section']}\"\n",
    "    current_topic = state[\"outline\"][current_section_key]\n",
    "    search_results = search.invoke(current_topic)    \n",
    "    \n",
    "    previous_sections_content = []\n",
    "    for i in range(1, state['current_section']):\n",
    "        section_key = f\"section{i}\"\n",
    "        if section_key in state[\"section_content\"]:\n",
    "            previous_sections_content.append(f\"\"\"\n",
    "            Section {i}: \n",
    "            {state['outline'][section_key]}\n",
    "            {state['section_content'][section_key]}\n",
    "            \"\"\")\n",
    "    \n",
    "    previous_sections = \"\\n\\n\".join(previous_sections_content)\n",
    "    \n",
    "    section_prompt = PromptTemplate(\n",
    "        template=\"\"\"\n",
    "        Write a detailed section for the topic: {topic}. \n",
    "        \n",
    "        Use the following search results for information: {search_results}\n",
    "        \n",
    "        Previous sections:\n",
    "        {previous_sections}\n",
    "        Write only the content for this section, \n",
    "        do not include any image prompts or suggestions.\n",
    "        Detailed statistics or information is needed, \n",
    "        so you should include collected information from search result.\"\"\",\n",
    "        input_variables=[\"topic\", \"search_results\", \"previous_sections\"],\n",
    "    )\n",
    "    section_content = llm.invoke(section_prompt.format(\n",
    "        topic=current_topic,\n",
    "        search_results=search_results,\n",
    "        previous_sections=previous_sections\n",
    "    ))\n",
    "\n",
    "    return {\n",
    "        \"section_content\": section_content.content,\n",
    "        \"current_section\": state[\"current_section\"]\n",
    "    }\n"
   ]
  },
  {
   "cell_type": "markdown",
   "metadata": {},
   "source": [
    "dall-e API 사용하는 방법과 이미지 생성 프롬프트"
   ]
  },
  {
   "cell_type": "code",
   "execution_count": 7,
   "metadata": {},
   "outputs": [],
   "source": [
    "from openai import OpenAI\n",
    "from langchain_core.tools import tool\n",
    "\n",
    "client = OpenAI()\n",
    "\n",
    "def generate_image(prompt):\n",
    "    \"\"\"Generate an image using DALL-E based on the given prompt.\"\"\"\n",
    "    response = client.images.generate(\n",
    "        model=\"dall-e-3\",\n",
    "        prompt=prompt,\n",
    "        size=\"1024x1024\",\n",
    "        quality=\"standard\",\n",
    "        n=1\n",
    "    )\n",
    "    return response.data[0].url\n",
    "\n",
    "def image_generator(state: State):\n",
    "\n",
    "    prompt_template = PromptTemplate(\n",
    "        template=\"\"\"\n",
    "        Based on the following section content, create a prompt for generating an infographic that represents this section.\n",
    "        \n",
    "        Section content: \n",
    "        \n",
    "        {section_content}\n",
    "        \n",
    "        Image generation prompt(under 500 characters):\"\"\",\n",
    "        input_variables=[\"section_content\"],\n",
    "    )\n",
    "    \n",
    "    image_prompt = llm.invoke(prompt_template.format(section_content=state[\"section_content\"]))\n",
    "    image_url = generate_image(image_prompt.content)\n",
    "\n",
    "    current_section = {\n",
    "        \"title\": state['outline'][f\"section{state['current_section']}\"],\n",
    "        \"content\": state['section_content'],\n",
    "        \"image_url\": image_url,\n",
    "        \"image_prompt\": image_prompt.content if isinstance(image_prompt, AIMessage) else image_prompt\n",
    "    }\n",
    "\n",
    "    updated_full_report = state.get(\"full_report\", []) + [current_section]\n",
    "\n",
    "    print(f\"Completed section {state['current_section']} of {state['total_sections']}\")\n",
    "\n",
    "    return {\n",
    "        \"image_prompt\": image_prompt.content if isinstance(image_prompt, AIMessage) else image_prompt,\n",
    "        \"section_image\": image_url,\n",
    "        \"current_section\": state[\"current_section\"] + 1,\n",
    "        \"full_report\": updated_full_report\n",
    "    }\n"
   ]
  },
  {
   "cell_type": "code",
   "execution_count": 8,
   "metadata": {},
   "outputs": [],
   "source": [
    "from docx import Document\n",
    "from docx.shared import Inches\n",
    "import requests\n",
    "from io import BytesIO\n",
    "\n",
    "def report_generator(state: State):\n",
    "    doc = Document()\n",
    "    doc.add_heading(f\"Report: {state['messages'][0].content}\", 0)\n",
    "\n",
    "    for section in state['full_report']:\n",
    "        doc.add_heading(section['title'], level=1)\n",
    "        doc.add_paragraph(section['content'])\n",
    "        \n",
    "        # 이미지 추가\n",
    "        if section['image_url'] != \"Image generation failed\":\n",
    "            try:\n",
    "                response = requests.get(section['image_url'])\n",
    "                image = BytesIO(response.content)\n",
    "                doc.add_picture(image, width=Inches(6))\n",
    "                doc.add_paragraph(f\"Image prompt: {section['image_prompt']}\")\n",
    "            except Exception as e:\n",
    "                doc.add_paragraph(f\"Failed to add image: {str(e)}\")\n",
    "\n",
    "        doc.add_page_break()\n",
    "\n",
    "    # 보고서 저장\n",
    "    filename = f\"report_{state['messages'][0].content}.docx\".replace(\" \", \"_\")\n",
    "    doc.save(filename)\n",
    "\n",
    "    return {\n",
    "        \"messages\": [AIMessage(content=f\"Report finalized and saved as {filename}.\")],\n",
    "        \"report_file\": filename\n",
    "    }\n"
   ]
  },
  {
   "cell_type": "code",
   "execution_count": 9,
   "metadata": {},
   "outputs": [],
   "source": [
    "# Add nodes\n",
    "graph_builder.add_node(\"outline_generator\", outline_generator)\n",
    "graph_builder.add_node(\"contents_writer\", contents_writer)\n",
    "graph_builder.add_node(\"image_generator\", image_generator)\n",
    "graph_builder.add_node(\"report_generator\", report_generator)\n",
    "\n",
    "# Add edges\n",
    "graph_builder.add_edge(START, \"outline_generator\")\n",
    "graph_builder.add_edge(\"outline_generator\", \"contents_writer\")\n",
    "graph_builder.add_edge(\"contents_writer\", \"image_generator\")\n",
    "graph_builder.add_edge(\"report_generator\", END)\n",
    "# Add conditional edges\n",
    "def should_continue_writing(state: State):\n",
    "    if state[\"current_section\"] <= state[\"total_sections\"]:\n",
    "        return \"write_section\"\n",
    "    else:\n",
    "        return \"finalize_report\"\n",
    "\n",
    "graph_builder.add_conditional_edges(\n",
    "    \"image_generator\",\n",
    "    should_continue_writing,\n",
    "    {\n",
    "        \"write_section\": \"contents_writer\",\n",
    "        \"finalize_report\": \"report_generator\"\n",
    "    }\n",
    ")\n",
    "\n",
    "# Compile graph\n",
    "graph = graph_builder.compile()"
   ]
  },
  {
   "cell_type": "code",
   "execution_count": 11,
   "metadata": {},
   "outputs": [
    {
     "data": {
      "image/jpeg": "[encoded data removed]",
      "text/plain": [
       "<IPython.core.display.Image object>"
      ]
     },
     "metadata": {},
     "output_type": "display_data"
    }
   ],
   "source": [
    "from IPython.display import Image, display\n",
    "\n",
    "try:\n",
    "    display(Image(graph.get_graph(xray=True).draw_mermaid_png()))\n",
    "except Exception:\n",
    "    # This requires some extra dependencies and is optional\n",
    "    pass"
   ]
  },
  {
   "cell_type": "code",
   "execution_count": 25,
   "metadata": {},
   "outputs": [
    {
     "name": "stdout",
     "output_type": "stream",
     "text": [
      "현재 작업 디렉토리: /home/hyeonsang/study/langgraph-study/langgraph_agent\n"
     ]
    }
   ],
   "source": [
    "import os\n",
    "\n",
    "current_directory = os.getcwd()\n",
    "print(f\"현재 작업 디렉토리: {current_directory}\")"
   ]
  },
  {
   "cell_type": "code",
   "execution_count": 26,
   "metadata": {},
   "outputs": [
    {
     "name": "stdout",
     "output_type": "stream",
     "text": [
      "Completed section 1 of 3\n",
      "Completed section 2 of 3\n",
      "Completed section 3 of 3\n",
      "\n",
      "=== 보고서 생성 완료 ===\n"
     ]
    }
   ],
   "source": [
    "from langchain_core.messages import HumanMessage\n",
    "\n",
    "# 사용자 입력 받기\n",
    "topic = input(\"보고서 주제를 입력하세요: \")\n",
    "total_sections = int(input(\"생성할 섹션의 수를 입력하세요: \"))\n",
    "\n",
    "# 초기 상태 설정\n",
    "initial_state = {\n",
    "    \"messages\": [HumanMessage(content=topic)],\n",
    "    \"total_sections\": total_sections,\n",
    "    \"current_section\": 1,\n",
    "}\n",
    "\n",
    "# 그래프 실행\n",
    "for chunk in graph.stream(initial_state,stream_mode=\"update\"):\n",
    "    print(chunk)\n",
    "\n",
    "print(\"\\n=== 보고서 생성 완료 ===\")"
   ]
  },
  {
   "cell_type": "code",
   "execution_count": null,
   "metadata": {},
   "outputs": [],
   "source": []
  }
 ],
 "metadata": {
  "kernelspec": {
   "display_name": "llm",
   "language": "python",
   "name": "python3"
  },
  "language_info": {
   "codemirror_mode": {
    "name": "ipython",
    "version": 3
   },
   "file_extension": ".py",
   "mimetype": "text/x-python",
   "name": "python",
   "nbconvert_exporter": "python",
   "pygments_lexer": "ipython3",
   "version": "3.10.12"
  }
 },
 "nbformat": 4,
 "nbformat_minor": 2
}
