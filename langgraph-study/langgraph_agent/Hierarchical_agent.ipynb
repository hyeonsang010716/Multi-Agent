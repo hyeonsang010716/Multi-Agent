{
 "cells": [
  {
   "cell_type": "markdown",
   "metadata": {},
   "source": [
    "!pip install pydub"
   ]
  },
  {
   "cell_type": "code",
   "execution_count": 37,
   "metadata": {},
   "outputs": [
    {
     "name": "stdout",
     "output_type": "stream",
     "text": [
      "/home/hyeonsang/study/langgraph-study/langgraph_agent\n"
     ]
    }
   ],
   "source": [
    "import os\n",
    "print(os.getcwd())  # 현재 작업 디렉토리\n"
   ]
  },
  {
   "cell_type": "markdown",
   "metadata": {},
   "source": [
    "웹 서칭 도구들 세팅"
   ]
  },
  {
   "cell_type": "code",
   "execution_count": 23,
   "metadata": {},
   "outputs": [],
   "source": [
    "from typing import Annotated, List\n",
    "\n",
    "from langchain_community.document_loaders import WebBaseLoader\n",
    "from langchain_community.tools.tavily_search import TavilySearchResults\n",
    "from langchain_core.tools import tool\n",
    "\n",
    "tavily_tool = TavilySearchResults(max_results=5)\n",
    "\n",
    "\n",
    "@tool\n",
    "def scrape_webpages(urls: List[str]) -> str:\n",
    "    \"\"\"Use requests and bs4 to scrape the provided web pages for detailed information.\"\"\"\n",
    "    loader = WebBaseLoader(urls)\n",
    "    docs = loader.load()\n",
    "    return \"\\n\\n\".join(\n",
    "        [\n",
    "            f'\\n{doc.page_content}\\n'\n",
    "            for doc in docs\n",
    "        ]\n",
    "    )"
   ]
  },
  {
   "cell_type": "markdown",
   "metadata": {},
   "source": [
    "TTS 도구 세팅"
   ]
  },
  {
   "cell_type": "code",
   "execution_count": 24,
   "metadata": {},
   "outputs": [],
   "source": [
    "from langchain_core.tools import tool\n",
    "from openai import OpenAI\n",
    "from pathlib import Path\n",
    "\n",
    "@tool\n",
    "def text_to_speech(text: str, voice: str, output_filename: str) -> str:\n",
    "    \"\"\"\n",
    "    Converts text to speech using OpenAI's TTS API, saving the audio file locally with a dynamic filename.\n",
    "\n",
    "    Args:\n",
    "        text (str): The text to convert to speech.\n",
    "        voice (str): The voice model to use for speech synthesis. Options include:\n",
    "                     - 'alloy', 'echo', 'fable', 'onyx', 'nova', 'shimmer'.\n",
    "        output_filename (str): The name for the output audio file, including file extension (e.g., 'output.mp3').\n",
    "\n",
    "    Returns:\n",
    "        str: The path to the saved audio file.\n",
    "    \"\"\"\n",
    "    client = OpenAI()\n",
    "    speech_file_path = Path(output_filename)\n",
    "    response = client.audio.speech.create(model=\"tts-1-hd\", voice=voice, input=text)\n",
    "    response.write_to_file(speech_file_path)\n",
    "    return str(speech_file_path)\n"
   ]
  },
  {
   "cell_type": "markdown",
   "metadata": {},
   "source": [
    "여러 개의 오디오 파일을 하나의 팟캐스트로 만들기 위한 도구\n",
    "\n",
    "pydub 라이브러리를 설치해야함."
   ]
  },
  {
   "cell_type": "code",
   "execution_count": 25,
   "metadata": {},
   "outputs": [],
   "source": [
    "from langchain_core.tools import tool\n",
    "from pydub import AudioSegment\n",
    "from typing import List\n",
    "\n",
    "@tool\n",
    "def edit_podcast_audio(segments: List[str], pauses_between_segments: int = 100, output_filename: str = \"final_podcast_episode.mp3\") -> str:\n",
    "    \"\"\"\n",
    "    Edits a podcast episode by combining audio segments with specified pauses between them, ensuring consistent volume.\n",
    "\n",
    "    Args:\n",
    "        segments (List[str]): List of paths to audio segment files.\n",
    "        pauses_between_segments (int): Duration of pause between segments in milliseconds. Default is 1000.\n",
    "        output_filename (str): The name for the output podcast file, including file extension (e.g., 'episode.mp3').\n",
    "\n",
    "    Returns:\n",
    "        str: The path to the saved podcast episode.\n",
    "    \"\"\"\n",
    "    podcast_episode = AudioSegment.silent(duration=0)  # Initialize an empty audio segment\n",
    "\n",
    "    for segment_path in segments:\n",
    "        segment = AudioSegment.from_file(segment_path)  # Load the segment\n",
    "        podcast_episode += AudioSegment.silent(duration=pauses_between_segments) + segment  # Append with pause\n",
    "\n",
    "    podcast_episode = podcast_episode.normalize()  # Normalize volume\n",
    "    podcast_episode.export(output_filename, format='mp3')  # Export the edited podcast\n",
    "\n",
    "    return output_filename\n"
   ]
  },
  {
   "cell_type": "markdown",
   "metadata": {},
   "source": [
    "도구 init"
   ]
  },
  {
   "cell_type": "markdown",
   "metadata": {},
   "source": [
    "하위 에이전트와 supervisor 에이전트 정의"
   ]
  },
  {
   "cell_type": "code",
   "execution_count": 26,
   "metadata": {},
   "outputs": [],
   "source": [
    "from typing import List, Optional\n",
    "from langchain.output_parsers.openai_functions import JsonOutputFunctionsParser\n",
    "from langchain_core.prompts import ChatPromptTemplate, MessagesPlaceholder\n",
    "from langchain_openai import ChatOpenAI\n",
    "\n",
    "from langgraph.graph import END, StateGraph, START\n",
    "from langchain_core.messages import HumanMessage\n",
    "\n",
    "# 하위 노드 정의\n",
    "def agent_node(state, agent, name):\n",
    "    result = agent.invoke(state)\n",
    "    return {\"messages\": [HumanMessage(content=result[\"messages\"][-1].content, name=name)]}\n",
    "\n",
    "# Supervisor 노드 정의\n",
    "def create_team_supervisor(llm: ChatOpenAI, system_prompt, members) -> str:\n",
    "    \"\"\"An LLM-based router.\"\"\"\n",
    "    options = [\"FINISH\"] + members\n",
    "\n",
    "    #OpenAI Function calling JSON 정의\n",
    "    #bind_functions 를 사용해야 더 정교한 연결이 가능하기 때문에 bind_tools를 사용하지 않고 bind_functions를 사용함.\n",
    "    function_def = {\n",
    "        \"name\": \"route\",\n",
    "        \"description\": \"Select the next role.\",\n",
    "        \"parameters\": {\n",
    "            \"title\": \"routeSchema\",\n",
    "            \"type\": \"object\",\n",
    "            \"properties\": {\n",
    "                \"next\": {\n",
    "                    \"title\": \"Next\",\n",
    "                    \"anyOf\": [\n",
    "                        {\"enum\": options},\n",
    "                    ],\n",
    "                },\n",
    "            },\n",
    "            \"required\": [\"next\"],\n",
    "        },\n",
    "    }\n",
    "    prompt = ChatPromptTemplate.from_messages(\n",
    "        [\n",
    "            (\"system\", system_prompt),\n",
    "            MessagesPlaceholder(variable_name=\"messages\"),\n",
    "            (\n",
    "                \"system\",\n",
    "                \"Given the conversation above, who should act next?\"\n",
    "                \" Or should we FINISH? Select one of: {options}\",\n",
    "            ),\n",
    "        ]\n",
    "    ).partial(options=str(options), team_members=\", \".join(members))\n",
    "    return (\n",
    "        prompt\n",
    "        | llm.bind_functions(functions=[function_def], function_call=\"route\")\n",
    "        | JsonOutputFunctionsParser()\n",
    "    )"
   ]
  },
  {
   "cell_type": "markdown",
   "metadata": {},
   "source": [
    "### Research Team 생성"
   ]
  },
  {
   "cell_type": "code",
   "execution_count": 27,
   "metadata": {},
   "outputs": [],
   "source": [
    "import functools\n",
    "import operator\n",
    "from typing_extensions import TypedDict\n",
    "\n",
    "from langchain_core.messages import BaseMessage, HumanMessage\n",
    "from langchain_openai.chat_models import ChatOpenAI\n",
    "from langgraph.prebuilt import create_react_agent\n",
    "\n",
    "# ResearchTeam graph state\n",
    "class ResearchTeamState(TypedDict):\n",
    "    messages: Annotated[List[BaseMessage], operator.add] # 대화 기로고\n",
    "    team_members: List[str] # 어떤 Agent들을 가지고 있는지 상태\n",
    "    next: str # 다음 방문할 노드가 뭔지 상태 저장\n",
    "\n",
    "\n",
    "llm = ChatOpenAI(model=\"gpt-4o-mini\")\n",
    "\n",
    "search_system = \"\"\"\n",
    "You are a search specialist in a research team. \n",
    "Your role is to use the Tavily search tool to find relevant and up-to-date information on the given topic to generate the podcast.\n",
    "\n",
    "Your tasks:\n",
    "1. Analyze the user's request or question.\n",
    "2. Formulate effective search queries based on the request.\n",
    "3. Use the Tavily search tool to find information.\n",
    "4. Summarize the most relevant findings concisely.\n",
    "5. If the search results are insufficient, consider refining your search query and trying again.\n",
    "\n",
    "Always strive for accuracy and relevance in your search results. \n",
    "If you can't find satisfactory information, be honest about the limitations of your search.\n",
    "\"\"\"\n",
    "\n",
    "search_agent = create_react_agent(llm, tools=[tavily_tool], state_modifier=search_system)\n",
    "search_node = functools.partial(agent_node, agent=search_agent, name=\"Search\")\n",
    "\n",
    "webscraper_system = \"\"\"\n",
    "You are a web scraping specialist in a research team. \n",
    "Your role is to extract detailed information from specific web pages using the scrape_webpages tool.\n",
    "\n",
    "Your tasks:\n",
    "1. Analyze the URLs or web pages provided, usually as a result of the Search agent's findings.\n",
    "2. Use the scrape_webpages tool to extract relevant content from these pages.\n",
    "3. Process and summarize the scraped content, focusing on the most pertinent information related to the research topic.\n",
    "4. If the scraped content is not satisfactory, consider requesting different URLs from the Search agent or suggesting refinements to the search query.\n",
    "\n",
    "Ensure that you respect website terms of service and ethical scraping practices. Always summarize and contextualize the information you scrape, don't just return raw data.\n",
    "\"\"\"\n",
    "\n",
    "research_agent = create_react_agent(llm, tools=[scrape_webpages], state_modifier=webscraper_system)\n",
    "research_node = functools.partial(agent_node, agent=research_agent, name=\"WebScraper\")\n",
    "\n",
    "supervisor_agent = create_team_supervisor(\n",
    "    llm,\n",
    "    \"You are a supervisor tasked with managing a conversation between the\"\n",
    "    \" following workers:  Search, WebScraper. Given the following user request,\"\n",
    "    \" respond with the worker to act next. Each worker will perform a\"\n",
    "    \" task and respond with their results and status. When finished,\"\n",
    "    \" respond with FINISH.\",\n",
    "    [\"Search\", \"WebScraper\"],\n",
    ")"
   ]
  },
  {
   "cell_type": "markdown",
   "metadata": {},
   "source": [
    "하위 노드와 supervisor 노드 연결"
   ]
  },
  {
   "cell_type": "code",
   "execution_count": 28,
   "metadata": {},
   "outputs": [],
   "source": [
    "research_graph = StateGraph(ResearchTeamState)\n",
    "research_graph.add_node(\"Search\", search_node)\n",
    "research_graph.add_node(\"WebScraper\", research_node)\n",
    "research_graph.add_node(\"supervisor\", supervisor_agent)\n",
    "\n",
    "# Define the control flow\n",
    "research_graph.add_edge(\"Search\", \"supervisor\")\n",
    "research_graph.add_edge(\"WebScraper\", \"supervisor\")\n",
    "research_graph.add_conditional_edges(\n",
    "    \"supervisor\",\n",
    "    lambda x: x[\"next\"],\n",
    "    {\"Search\": \"Search\", \"WebScraper\": \"WebScraper\", \"FINISH\": END},\n",
    ")\n",
    "\n",
    "\n",
    "research_graph.add_edge(START, \"supervisor\")\n",
    "chain = research_graph.compile()\n",
    "\n",
    "\n",
    "# The following functions interoperate between the top level graph state\n",
    "# and the state of the research sub-graph\n",
    "# this makes it so that the states of each graph don't get intermixed\n",
    "def enter_chain(message: str):\n",
    "    results = {\n",
    "        \"messages\": [HumanMessage(content=message)],\n",
    "    }\n",
    "    return results\n",
    "\n",
    "\n",
    "research_chain = enter_chain | chain"
   ]
  },
  {
   "cell_type": "markdown",
   "metadata": {},
   "source": [
    "Research Team 구조"
   ]
  },
  {
   "cell_type": "code",
   "execution_count": 29,
   "metadata": {},
   "outputs": [
    {
     "data": {
      "image/jpeg": "[encoded data removed]",
      "text/plain": [
       "<IPython.core.display.Image object>"
      ]
     },
     "metadata": {},
     "output_type": "display_data"
    }
   ],
   "source": [
    "from IPython.display import Image, display\n",
    "\n",
    "display(Image(chain.get_graph(xray=True).draw_mermaid_png()))"
   ]
  },
  {
   "cell_type": "markdown",
   "metadata": {},
   "source": [
    "PodCast Team 생성"
   ]
  },
  {
   "cell_type": "code",
   "execution_count": 30,
   "metadata": {},
   "outputs": [],
   "source": [
    "# PodcastTeam 그래프 상태\n",
    "class PodcastTeamState(TypedDict):\n",
    "    messages: Annotated[List[BaseMessage], operator.add]\n",
    "    team_members: List[str]\n",
    "    next: str\n",
    "    script: List[dict]\n",
    "    audio_segments: List[str]\n",
    "\n",
    "podcast_plan_system=\"\"\"\n",
    "You are tasked with creating a structured script for a podcast episode. \n",
    "The script should consist of a series of interactions between the host and the guest based on the provided topic and information from the research.\n",
    "IMPORTANT NOTE: The podcast should have 2 or more speakers to have a conversation.\n",
    "\n",
    "For each part of the dialogue, clearly specify whether it's the host speaking or the guest. Also, assign a suitable voice model for text-to-speech conversion for each segment. Use the following voice models based on the character:\n",
    "\n",
    "- Host segments: Use the 'alloy' voice model.\n",
    "- Guest segments: Use the 'fable' voice model.\n",
    "\n",
    "The output should be a list where each item is a dictionary with keys 'speaker', 'text', and 'voice', indicating the speaker (host or guest), their line of dialogue, and the voice model to use.\n",
    "\n",
    "Example output format:\n",
    "[\n",
    "    {\"speaker\": \"host\", \"text\": \"Welcome to our podcast, where we explore the latest in technology.\", \"voice\": \"alloy\"},\n",
    "    {\"speaker\": \"guest\", \"text\": \"Thank you for having me, it's great to be here to share my experiences.\", \"voice\": \"fable\"},\n",
    "    {\"speaker\": \"host\", \"text\": \"Can you tell us about your current project?\", \"voice\": \"alloy\"},\n",
    "    {\"speaker\": \"guest\", \"text\": \"Certainly! I've been working on a new AI platform that...\", \"voice\": \"fable\"},\n",
    "    ...\n",
    "]\n",
    "\n",
    "Your task is to generate a similar structured script in **KOREAN**,\n",
    "ensuring each dialogue segment between the host and guest is well-defined and allocates the appropriate voice model for the text-to-speech conversion process.\n",
    "\n",
    "\"\"\"\n",
    "podcast_planner_agent = create_react_agent(\n",
    "    llm, state_modifier=podcast_plan_system,tools=[tavily_tool]\n",
    ")\n",
    "podcast_planner_node = functools.partial(agent_node, agent=podcast_planner_agent, name=\"PodcastPlanner\")\n",
    "\n",
    "# AudioProducer 에이전트\n",
    "audio_producer_system=\"\"\"\n",
    "You are responsible for producing the final audio for the podcast episode. \n",
    "Take the structured script provided by the Podcast Planner, which contains segments marked with 'speaker' (either 'host' or 'guest'), the 'text' for each segment, and the 'voice' model to use.\n",
    "\n",
    "For each segment, use the 'text_to_speech' tool to generate audio, specifying the 'text' and 'voice' as provided. \n",
    "Ensure each segment is saved as a separate audio file.\n",
    "\n",
    "After generating all segments, use the 'edit_podcast_audio' tool to combine these audio files into one seamless podcast episode. \n",
    "The audio files should be combined in the order they are provided in the script, with appropriate pauses between segments to simulate a natural conversation flow.\n",
    "\n",
    "Your output should be the path to the final combined podcast episode audio file.\n",
    "\"\"\"\n",
    "audio_producer_agent = create_react_agent(\n",
    "    llm,\n",
    "    [text_to_speech, edit_podcast_audio], state_modifier=audio_producer_system\n",
    ")\n",
    "audio_producer_node = functools.partial(agent_node, agent=audio_producer_agent, name=\"AudioProducer\")\n",
    "\n",
    "# 팀 감독자 생성\n",
    "podcast_supervisor = create_team_supervisor(\n",
    "    llm,\n",
    "    \"\"\"You are a supervisor tasked with managing the podcast creation process.\n",
    "    Your team consists of a PodcastPlanner and an AudioProducer.\n",
    "    Given the current state, decide which team member should act next or if the process is complete.\n",
    "    Respond with 'PodcastPlanner', 'AudioProducer', or 'FINISH'.\"\"\",\n",
    "    [\"PodcastPlanner\", \"AudioProducer\"]\n",
    ")"
   ]
  },
  {
   "cell_type": "markdown",
   "metadata": {},
   "source": [
    "PodCast Team 하위 노드와 supervisor 연결"
   ]
  },
  {
   "cell_type": "code",
   "execution_count": 31,
   "metadata": {},
   "outputs": [],
   "source": [
    "podcast_graph = StateGraph(PodcastTeamState)\n",
    "podcast_graph.add_node(\"PodcastPlanner\", podcast_planner_node)\n",
    "podcast_graph.add_node(\"AudioProducer\", audio_producer_node)\n",
    "podcast_graph.add_node(\"supervisor\", podcast_supervisor)\n",
    "\n",
    "# 제어 흐름 정의\n",
    "podcast_graph.add_edge(\"PodcastPlanner\", \"supervisor\")\n",
    "podcast_graph.add_edge(\"AudioProducer\", \"supervisor\")\n",
    "podcast_graph.add_conditional_edges(\n",
    "    \"supervisor\",\n",
    "    lambda x: x[\"next\"],\n",
    "    {\"PodcastPlanner\": \"PodcastPlanner\", \"AudioProducer\": \"AudioProducer\", \"FINISH\": END},\n",
    ")\n",
    "podcast_graph.add_edge(START, \"supervisor\")\n",
    "\n",
    "chain = podcast_graph.compile()\n",
    "\n",
    "# 상위 레벨 그래프 상태와 팟캐스트 서브그래프 상태 간의 상호 운용을 위한 함수\n",
    "def enter_chain(message: str):\n",
    "    results = {\n",
    "        \"messages\": [HumanMessage(content=message)],\n",
    "        \"team_members\": [\"PodcastPlanner\", \"AudioProducer\"],\n",
    "        \"next\": \"\",\n",
    "        \"script\": [],\n",
    "        \"audio_segments\": []\n",
    "    }\n",
    "    return results\n",
    "\n",
    "podcast_chain = enter_chain | chain"
   ]
  },
  {
   "cell_type": "markdown",
   "metadata": {},
   "source": [
    "팟캐스트 팀 구조"
   ]
  },
  {
   "cell_type": "code",
   "execution_count": 32,
   "metadata": {},
   "outputs": [
    {
     "data": {
      "image/jpeg": "[encoded data removed]",
      "text/plain": [
       "<IPython.core.display.Image object>"
      ]
     },
     "metadata": {},
     "output_type": "display_data"
    }
   ],
   "source": [
    "from IPython.display import Image, display\n",
    "\n",
    "display(Image(podcast_chain.get_graph().draw_mermaid_png()))"
   ]
  },
  {
   "cell_type": "markdown",
   "metadata": {},
   "source": [
    "Research Team 과 PodCasat Team 을 관리하는 supervisor Team 생성"
   ]
  },
  {
   "cell_type": "code",
   "execution_count": 33,
   "metadata": {},
   "outputs": [],
   "source": [
    "from langchain_core.messages import BaseMessage\n",
    "from langchain_openai.chat_models import ChatOpenAI\n",
    "\n",
    "llm = ChatOpenAI(model=\"gpt-4o-mini\")\n",
    "\n",
    "supervisor_node = create_team_supervisor(\n",
    "    llm,\n",
    "    \"You are a supervisor tasked with managing a conversation between the\"\n",
    "    \" following teams: {team_members}. Given the following user request,\"\n",
    "    \" respond with the worker to act next. Each worker will perform a\"\n",
    "    \" task and respond with their results and status. When finished,\"\n",
    "    \" respond with FINISH.\",\n",
    "    [\"ResearchTeam\", \"PodcastTeam\"],\n",
    ")"
   ]
  },
  {
   "cell_type": "markdown",
   "metadata": {},
   "source": [
    "PodCast Team 과 Research Team를 관리하는 supervisor 연결"
   ]
  },
  {
   "cell_type": "code",
   "execution_count": 34,
   "metadata": {},
   "outputs": [],
   "source": [
    "# Top-level graph state\n",
    "class State(TypedDict):\n",
    "    messages: Annotated[List[BaseMessage], operator.add]\n",
    "    next: str\n",
    "\n",
    "\n",
    "def get_last_message(state: State) -> str:\n",
    "    return state[\"messages\"][-1].content\n",
    "\n",
    "\n",
    "def join_graph(response: dict):\n",
    "    return {\"messages\": [response[\"messages\"][-1]]}\n",
    "\n",
    "\n",
    "# Define the graph.\n",
    "super_graph = StateGraph(State)\n",
    "# First add the nodes, which will do the work\n",
    "super_graph.add_node(\"ResearchTeam\", get_last_message | research_chain | join_graph)\n",
    "super_graph.add_node(\n",
    "    \"PodcastTeam\", get_last_message | podcast_chain | join_graph\n",
    ")\n",
    "super_graph.add_node(\"supervisor\", supervisor_node)\n",
    "\n",
    "# Define the graph connections, which controls how the logic\n",
    "# propagates through the program\n",
    "super_graph.add_edge(\"ResearchTeam\", \"supervisor\")\n",
    "super_graph.add_edge(\"PodcastTeam\", \"supervisor\")\n",
    "super_graph.add_conditional_edges(\n",
    "    \"supervisor\",\n",
    "    lambda x: x[\"next\"],\n",
    "    {\n",
    "        \"PodcastTeam\": \"PodcastTeam\",\n",
    "        \"ResearchTeam\": \"ResearchTeam\",\n",
    "        \"FINISH\": END,\n",
    "    },\n",
    ")\n",
    "super_graph.add_edge(START, \"supervisor\")\n",
    "super_graph = super_graph.compile()"
   ]
  },
  {
   "cell_type": "code",
   "execution_count": 35,
   "metadata": {},
   "outputs": [
    {
     "data": {
      "image/jpeg": "[encoded data removed]",
      "text/plain": [
       "<IPython.core.display.Image object>"
      ]
     },
     "metadata": {},
     "output_type": "display_data"
    }
   ],
   "source": [
    "from IPython.display import Image, display\n",
    "\n",
    "display(Image(super_graph.get_graph().draw_mermaid_png()))"
   ]
  },
  {
   "cell_type": "code",
   "execution_count": 36,
   "metadata": {},
   "outputs": [
    {
     "name": "stdout",
     "output_type": "stream",
     "text": [
      "{'supervisor': {'next': 'ResearchTeam'}}\n",
      "---\n",
      "{'ResearchTeam': {'messages': [HumanMessage(content=\"### OpenAI o1 모델\\n\\nOpenAI는 최근에 o1이라는 새로운 모델을 출시했습니다. 이 모델은 '추론' 능력을 가진 첫 번째 모델로, 복잡한 질문에 대해 더 빠르고 정확하게 답변할 수 있도록 훈련되었습니다. o1은 코딩과 수학과 같은 복잡한 문제를 더 잘 해결할 수 있으며, 답변을 제공하기 전에 자신의 추론 과정을 설명할 수 있는 능력을 가지고 있습니다. 이 모델은 기존 GPT-4o 모델과 비교했을 때, 인간 수준의 지능에 가까운 문제 해결 능력을 목표로 하고 있습니다.\\n\\n- **출시일**: o1은 2024년 9월 12일에 출시될 예정입니다.\\n- **기능**: o1은 내부의 '사고 과정'을 보여주지 않기로 결정했지만, 이 기능은 모델의 답변 품질을 평가하고 디버깅하는 데 도움이 됩니다. 이는 경쟁자들이 o1의 답변을 모방하는 데 사용할 수 있는 데이터를 보호하기 위한 조치입니다.\\n- **성능**: o1은 경쟁 프로그래밍 질문에서 89번째 백분위에 랭크되었습니다. 이는 이전 모델들보다 더 뛰어난 성능을 의미합니다.\\n\\n더 자세한 내용은 다음 링크에서 확인할 수 있습니다:\\n- [OpenAI o1 모델에 대한 정보 (The Verge)](https://www.theverge.com/2024/9/12/24242439/openai-o1-model-reasoning-strawberry-chatgpt)\\n- [OpenAI 공식 블로그](https://openai.com/index/learning-to-reason-with-llms/)\\n\\n### OpenAI AI 에이전트\\n\\nOpenAI는 AI 에이전트 기술에 대한 연구를 진행하고 있으며, 이를 통해 다양한 문제를 해결하는 능력을 가진 AI 시스템을 개발하고 있습니다. 이러한 AI 에이전트는 협업을 통해 복잡한 작업을 수행하며, 사용자들에게 보다 효율적인 작업 환경을 제공합니다.\\n\\n- **Swarm AI**: 최근 OpenAI는 'Swarm AI'라는 개념을 도입하였습니다. 이는 여러 AI 에이전트가 협력하여 문제를 해결하는 방식입니다. Swarm AI는 특정 문제를 해결하기 위해 여러 AI가 함께 작동하도록 설계되어 있으며, 이를 통해 문제 해결의 효율성을 높입니다.\\n\\nAI 에이전트와 관련된 더 많은 정보는 다음 링크에서 확인할 수 있습니다:\\n- [AI 에이전트 관련 기사 (Magic AI Prompts)](https://www.magicaiprompts.com/blog/openai-swarm-ai-agent-collaboration)\\n\\n이 정보가 도움이 되었기를 바랍니다. 추가 질문이 있으시면 언제든지 말씀해 주세요!\", additional_kwargs={}, response_metadata={}, name='Search')]}}\n",
      "---\n",
      "{'supervisor': {'next': 'PodcastTeam'}}\n",
      "---\n",
      "{'PodcastTeam': {'messages': [HumanMessage(content=\"### OpenAI o1 모델\\n\\nOpenAI는 최근에 o1이라는 새로운 모델을 출시했습니다. 이 모델은 '추론' 능력을 가진 첫 번째 모델로, 복잡한 질문에 대해 더 빠르고 정확하게 답변할 수 있도록 훈련되었습니다. o1은 코딩과 수학과 같은 복잡한 문제를 더 잘 해결할 수 있으며, 답변을 제공하기 전에 자신의 추론 과정을 설명할 수 있는 능력을 가지고 있습니다. 이 모델은 기존 GPT-4o 모델과 비교했을 때, 인간 수준의 지능에 가까운 문제 해결 능력을 목표로 하고 있습니다.\\n\\n- **출시일**: o1은 2024년 9월 12일에 출시될 예정입니다.\\n- **기능**: o1은 내부의 '사고 과정'을 보여주지 않기로 결정했지만, 이 기능은 모델의 답변 품질을 평가하고 디버깅하는 데 도움이 됩니다. 이는 경쟁자들이 o1의 답변을 모방하는 데 사용할 수 있는 데이터를 보호하기 위한 조치입니다.\\n- **성능**: o1은 경쟁 프로그래밍 질문에서 89번째 백분위에 랭크되었습니다. 이는 이전 모델들보다 더 뛰어난 성능을 의미합니다.\\n\\n더 자세한 내용은 다음 링크에서 확인할 수 있습니다:\\n- [OpenAI o1 모델에 대한 정보 (The Verge)](https://www.theverge.com/2024/9/12/24242439/openai-o1-model-reasoning-strawberry-chatgpt)\\n- [OpenAI 공식 블로그](https://openai.com/index/learning-to-reason-with-llms/)\\n\\n### OpenAI AI 에이전트\\n\\nOpenAI는 AI 에이전트 기술에 대한 연구를 진행하고 있으며, 이를 통해 다양한 문제를 해결하는 능력을 가진 AI 시스템을 개발하고 있습니다. 이러한 AI 에이전트는 협업을 통해 복잡한 작업을 수행하며, 사용자들에게 보다 효율적인 작업 환경을 제공합니다.\\n\\n- **Swarm AI**: 최근 OpenAI는 'Swarm AI'라는 개념을 도입하였습니다. 이는 여러 AI 에이전트가 협력하여 문제를 해결하는 방식입니다. Swarm AI는 특정 문제를 해결하기 위해 여러 AI가 함께 작동하도록 설계되어 있으며, 이를 통해 문제 해결의 효율성을 높입니다.\\n\\nAI 에이전트와 관련된 더 많은 정보는 다음 링크에서 확인할 수 있습니다:\\n- [AI 에이전트 관련 기사 (Magic AI Prompts)](https://www.magicaiprompts.com/blog/openai-swarm-ai-agent-collaboration)\\n\\n이 정보가 도움이 되었기를 바랍니다. 추가 질문이 있으시면 언제든지 말씀해 주세요!\", additional_kwargs={}, response_metadata={})]}}\n",
      "---\n",
      "{'supervisor': {'next': 'PodcastTeam'}}\n",
      "---\n",
      "{'PodcastTeam': {'messages': [HumanMessage(content=\"### OpenAI o1 모델\\n\\nOpenAI는 최근에 o1이라는 새로운 모델을 출시했습니다. 이 모델은 '추론' 능력을 가진 첫 번째 모델로, 복잡한 질문에 대해 더 빠르고 정확하게 답변할 수 있도록 훈련되었습니다. o1은 코딩과 수학과 같은 복잡한 문제를 더 잘 해결할 수 있으며, 답변을 제공하기 전에 자신의 추론 과정을 설명할 수 있는 능력을 가지고 있습니다. 이 모델은 기존 GPT-4o 모델과 비교했을 때, 인간 수준의 지능에 가까운 문제 해결 능력을 목표로 하고 있습니다.\\n\\n- **출시일**: o1은 2024년 9월 12일에 출시될 예정입니다.\\n- **기능**: o1은 내부의 '사고 과정'을 보여주지 않기로 결정했지만, 이 기능은 모델의 답변 품질을 평가하고 디버깅하는 데 도움이 됩니다. 이는 경쟁자들이 o1의 답변을 모방하는 데 사용할 수 있는 데이터를 보호하기 위한 조치입니다.\\n- **성능**: o1은 경쟁 프로그래밍 질문에서 89번째 백분위에 랭크되었습니다. 이는 이전 모델들보다 더 뛰어난 성능을 의미합니다.\\n\\n더 자세한 내용은 다음 링크에서 확인할 수 있습니다:\\n- [OpenAI o1 모델에 대한 정보 (The Verge)](https://www.theverge.com/2024/9/12/24242439/openai-o1-model-reasoning-strawberry-chatgpt)\\n- [OpenAI 공식 블로그](https://openai.com/index/learning-to-reason-with-llms/)\\n\\n### OpenAI AI 에이전트\\n\\nOpenAI는 AI 에이전트 기술에 대한 연구를 진행하고 있으며, 이를 통해 다양한 문제를 해결하는 능력을 가진 AI 시스템을 개발하고 있습니다. 이러한 AI 에이전트는 협업을 통해 복잡한 작업을 수행하며, 사용자들에게 보다 효율적인 작업 환경을 제공합니다.\\n\\n- **Swarm AI**: 최근 OpenAI는 'Swarm AI'라는 개념을 도입하였습니다. 이는 여러 AI 에이전트가 협력하여 문제를 해결하는 방식입니다. Swarm AI는 특정 문제를 해결하기 위해 여러 AI가 함께 작동하도록 설계되어 있으며, 이를 통해 문제 해결의 효율성을 높입니다.\\n\\nAI 에이전트와 관련된 더 많은 정보는 다음 링크에서 확인할 수 있습니다:\\n- [AI 에이전트 관련 기사 (Magic AI Prompts)](https://www.magicaiprompts.com/blog/openai-swarm-ai-agent-collaboration)\\n\\n이 정보가 도움이 되었기를 바랍니다. 추가 질문이 있으시면 언제든지 말씀해 주세요!\", additional_kwargs={}, response_metadata={})]}}\n",
      "---\n",
      "{'supervisor': {'next': 'PodcastTeam'}}\n",
      "---\n",
      "{'PodcastTeam': {'messages': [HumanMessage(content=\"### OpenAI o1 모델\\n\\nOpenAI는 최근에 o1이라는 새로운 모델을 출시했습니다. 이 모델은 '추론' 능력을 가진 첫 번째 모델로, 복잡한 질문에 대해 더 빠르고 정확하게 답변할 수 있도록 훈련되었습니다. o1은 코딩과 수학과 같은 복잡한 문제를 더 잘 해결할 수 있으며, 답변을 제공하기 전에 자신의 추론 과정을 설명할 수 있는 능력을 가지고 있습니다. 이 모델은 기존 GPT-4o 모델과 비교했을 때, 인간 수준의 지능에 가까운 문제 해결 능력을 목표로 하고 있습니다.\\n\\n- **출시일**: o1은 2024년 9월 12일에 출시될 예정입니다.\\n- **기능**: o1은 내부의 '사고 과정'을 보여주지 않기로 결정했지만, 이 기능은 모델의 답변 품질을 평가하고 디버깅하는 데 도움이 됩니다. 이는 경쟁자들이 o1의 답변을 모방하는 데 사용할 수 있는 데이터를 보호하기 위한 조치입니다.\\n- **성능**: o1은 경쟁 프로그래밍 질문에서 89번째 백분위에 랭크되었습니다. 이는 이전 모델들보다 더 뛰어난 성능을 의미합니다.\\n\\n더 자세한 내용은 다음 링크에서 확인할 수 있습니다:\\n- [OpenAI o1 모델에 대한 정보 (The Verge)](https://www.theverge.com/2024/9/12/24242439/openai-o1-model-reasoning-strawberry-chatgpt)\\n- [OpenAI 공식 블로그](https://openai.com/index/learning-to-reason-with-llms/)\\n\\n### OpenAI AI 에이전트\\n\\nOpenAI는 AI 에이전트 기술에 대한 연구를 진행하고 있으며, 이를 통해 다양한 문제를 해결하는 능력을 가진 AI 시스템을 개발하고 있습니다. 이러한 AI 에이전트는 협업을 통해 복잡한 작업을 수행하며, 사용자들에게 보다 효율적인 작업 환경을 제공합니다.\\n\\n- **Swarm AI**: 최근 OpenAI는 'Swarm AI'라는 개념을 도입하였습니다. 이는 여러 AI 에이전트가 협력하여 문제를 해결하는 방식입니다. Swarm AI는 특정 문제를 해결하기 위해 여러 AI가 함께 작동하도록 설계되어 있으며, 이를 통해 문제 해결의 효율성을 높입니다.\\n\\nAI 에이전트와 관련된 더 많은 정보는 다음 링크에서 확인할 수 있습니다:\\n- [AI 에이전트 관련 기사 (Magic AI Prompts)](https://www.magicaiprompts.com/blog/openai-swarm-ai-agent-collaboration)\\n\\n이 정보가 도움이 되었기를 바랍니다. 추가 질문이 있으시면 언제든지 말씀해 주세요!\", additional_kwargs={}, response_metadata={})]}}\n",
      "---\n",
      "{'supervisor': {'next': 'PodcastTeam'}}\n",
      "---\n",
      "{'PodcastTeam': {'messages': [HumanMessage(content=\"### OpenAI o1 모델\\n\\nOpenAI는 최근에 o1이라는 새로운 모델을 출시했습니다. 이 모델은 '추론' 능력을 가진 첫 번째 모델로, 복잡한 질문에 대해 더 빠르고 정확하게 답변할 수 있도록 훈련되었습니다. o1은 코딩과 수학과 같은 복잡한 문제를 더 잘 해결할 수 있으며, 답변을 제공하기 전에 자신의 추론 과정을 설명할 수 있는 능력을 가지고 있습니다. 이 모델은 기존 GPT-4o 모델과 비교했을 때, 인간 수준의 지능에 가까운 문제 해결 능력을 목표로 하고 있습니다.\\n\\n- **출시일**: o1은 2024년 9월 12일에 출시될 예정입니다.\\n- **기능**: o1은 내부의 '사고 과정'을 보여주지 않기로 결정했지만, 이 기능은 모델의 답변 품질을 평가하고 디버깅하는 데 도움이 됩니다. 이는 경쟁자들이 o1의 답변을 모방하는 데 사용할 수 있는 데이터를 보호하기 위한 조치입니다.\\n- **성능**: o1은 경쟁 프로그래밍 질문에서 89번째 백분위에 랭크되었습니다. 이는 이전 모델들보다 더 뛰어난 성능을 의미합니다.\\n\\n더 자세한 내용은 다음 링크에서 확인할 수 있습니다:\\n- [OpenAI o1 모델에 대한 정보 (The Verge)](https://www.theverge.com/2024/9/12/24242439/openai-o1-model-reasoning-strawberry-chatgpt)\\n- [OpenAI 공식 블로그](https://openai.com/index/learning-to-reason-with-llms/)\\n\\n### OpenAI AI 에이전트\\n\\nOpenAI는 AI 에이전트 기술에 대한 연구를 진행하고 있으며, 이를 통해 다양한 문제를 해결하는 능력을 가진 AI 시스템을 개발하고 있습니다. 이러한 AI 에이전트는 협업을 통해 복잡한 작업을 수행하며, 사용자들에게 보다 효율적인 작업 환경을 제공합니다.\\n\\n- **Swarm AI**: 최근 OpenAI는 'Swarm AI'라는 개념을 도입하였습니다. 이는 여러 AI 에이전트가 협력하여 문제를 해결하는 방식입니다. Swarm AI는 특정 문제를 해결하기 위해 여러 AI가 함께 작동하도록 설계되어 있으며, 이를 통해 문제 해결의 효율성을 높입니다.\\n\\nAI 에이전트와 관련된 더 많은 정보는 다음 링크에서 확인할 수 있습니다:\\n- [AI 에이전트 관련 기사 (Magic AI Prompts)](https://www.magicaiprompts.com/blog/openai-swarm-ai-agent-collaboration)\\n\\n이 정보가 도움이 되었기를 바랍니다. 추가 질문이 있으시면 언제든지 말씀해 주세요!\", additional_kwargs={}, response_metadata={})]}}\n",
      "---\n",
      "{'supervisor': {'next': 'FINISH'}}\n",
      "---\n"
     ]
    }
   ],
   "source": [
    "for s in super_graph.stream(\n",
    "    {\n",
    "        \"messages\": [\n",
    "            HumanMessage(\n",
    "                content=\"OpenAI가 최근에 출시한 o1 모델과 AI 에이전트\"\n",
    "            )\n",
    "        ],\n",
    "    },\n",
    "    {\"recursion_limit\": 150},\n",
    "):\n",
    "    if \"__end__\" not in s:\n",
    "        print(s)\n",
    "        print(\"---\")"
   ]
  }
 ],
 "metadata": {
  "kernelspec": {
   "display_name": "llm",
   "language": "python",
   "name": "python3"
  },
  "language_info": {
   "codemirror_mode": {
    "name": "ipython",
    "version": 3
   },
   "file_extension": ".py",
   "mimetype": "text/x-python",
   "name": "python",
   "nbconvert_exporter": "python",
   "pygments_lexer": "ipython3",
   "version": "3.10.12"
  }
 },
 "nbformat": 4,
 "nbformat_minor": 2
}
