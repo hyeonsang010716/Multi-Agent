{
 "cells": [
  {
   "cell_type": "markdown",
   "metadata": {},
   "source": [
    "## Tool Node 사용 방법\n",
    "\n",
    "먼저 tool 세팅"
   ]
  },
  {
   "cell_type": "code",
   "execution_count": 3,
   "metadata": {},
   "outputs": [],
   "source": [
    "import feedparser\n",
    "from urllib.parse import quote\n",
    "from typing import List, Dict, Optional\n",
    "\n",
    "class GoogleNews:\n",
    "    \"\"\"\n",
    "    구글 뉴스를 검색하고 결과를 반환하는 클래스입니다.\n",
    "    \"\"\"\n",
    "\n",
    "    def __init__(self):\n",
    "        self.base_url = \"https://news.google.com/rss\"\n",
    "\n",
    "    def _fetch_news(self, url: str, k: int = 3) -> List[Dict[str, str]]:\n",
    "        news_data = feedparser.parse(url)\n",
    "        return [\n",
    "            {\"title\": entry.title, \"link\": entry.link}\n",
    "            for entry in news_data.entries[:k]\n",
    "        ]\n",
    "\n",
    "    def _collect_news(self, news_list: List[Dict[str, str]]) -> List[Dict[str, str]]:\n",
    "\n",
    "        if not news_list:\n",
    "            print(\"해당 키워드의 뉴스가 없습니다.\")\n",
    "            return []\n",
    "\n",
    "        result = []\n",
    "        for news in news_list:\n",
    "            result.append({\"url\": news[\"link\"], \"content\": news[\"title\"]})\n",
    "\n",
    "        return result\n",
    "\n",
    "    def search_latest(self, k: int = 3) -> List[Dict[str, str]]:\n",
    "        url = f\"{self.base_url}?hl=ko&gl=KR&ceid=KR:ko\"\n",
    "        news_list = self._fetch_news(url, k)\n",
    "        return self._collect_news(news_list)\n",
    "\n",
    "    def search_by_keyword(\n",
    "        self, keyword: Optional[str] = None, k: int = 3\n",
    "    ) -> List[Dict[str, str]]:\n",
    "        if keyword:\n",
    "            encoded_keyword = quote(keyword)\n",
    "            url = f\"{self.base_url}/search?q={encoded_keyword}&hl=ko&gl=KR&ceid=KR:ko\"\n",
    "        else:\n",
    "            url = f\"{self.base_url}?hl=ko&gl=KR&ceid=KR:ko\"\n",
    "        news_list = self._fetch_news(url, k)\n",
    "        return self._collect_news(news_list)"
   ]
  },
  {
   "cell_type": "code",
   "execution_count": 4,
   "metadata": {},
   "outputs": [],
   "source": [
    "from dotenv import load_dotenv\n",
    "\n",
    "from langchain_core.messages import AIMessage\n",
    "from langchain_core.tools import tool\n",
    "from langchain_experimental.tools.python.tool import PythonAstREPLTool\n",
    "from typing import List, Dict\n",
    "\n",
    "# API 키 정보 로드\n",
    "load_dotenv()\n",
    "\n",
    "# 도구 생성\n",
    "@tool\n",
    "def search_news(query: str) -> List[Dict[str, str]]:\n",
    "    \"\"\"Search Google News by input keyword\"\"\"\n",
    "    news_tool = GoogleNews()\n",
    "    return news_tool.search_by_keyword(query, k=5)\n",
    "\n",
    "\n",
    "@tool\n",
    "def python_code_interpreter(code: str):\n",
    "    \"\"\"Call to execute python code.\"\"\"\n",
    "    return PythonAstREPLTool().invoke(code)\n",
    "\n",
    "from langgraph.prebuilt import ToolNode, tools_condition\n",
    "\n",
    "# 도구 리스트 생성\n",
    "tools = [search_news, python_code_interpreter]\n",
    "\n",
    "# ToolNode 초기화\n",
    "tool_node = ToolNode(tools)\n",
    "\n"
   ]
  },
  {
   "cell_type": "markdown",
   "metadata": {},
   "source": [
    "Tool Node 수동 호출은 다음과 같은 포멧이어야 함."
   ]
  },
  {
   "cell_type": "code",
   "execution_count": 5,
   "metadata": {},
   "outputs": [
    {
     "data": {
      "text/plain": [
       "{'messages': [ToolMessage(content='[{\"url\": \"https://news.google.com/rss/articles/CBMiakFVX3lxTE5xUnhGTHN1TDhxTENWajh5Rk52dk1yUlhaU0RIYmFsQjA4Ukc1VGRKbHNMVkM2TloteUdYdkN6UnRFd3NWaUpScVJtQjRVNFBoSkVNd2tHejJqUGNSZDYxWWprM1hJalppLUE?oc=5\", \"content\": \"AI 교과서 ‘자율’→‘엄격 검정’ 돌변…출판사들 ‘졸속 후폭풍’ - 한겨레\"}, {\"url\": \"https://news.google.com/rss/articles/CBMiakFVX3lxTE1DSndQNnVQRk85N3VacVhjazRfaDhMM0dFZ0k1ZXU0b1F1WGZoQTJ0M1lQbFAyYTVWRXRsVlZlTmo2b3BXYkEzWlJaTkVmXy1RM2FPMGpSdjBnUUtKenk0RFJoWThUeWlMUFE?oc=5\", \"content\": \"\\\\\"GPT 성능 향상 속도 둔화\\\\\"...오픈AI, \\'오라이온\\' 개선 위해 전략 수정 - AI타임스\"}, {\"url\": \"https://news.google.com/rss/articles/CBMiiAFBVV95cUxOcngtSVhkeDhWSW1xbnZhVkowR200MDB5MjVzQkxybUhhSGJDbjJyMkVzMFg0X21QRVNscVpBazJuNDRNYlg2SUdGYk1UeDFCNnlZSlBLTjd6WGVHcGdhdjRZcXgwNXFFTUlBay1hRDJjRVRISDFWR1ZOWDRRQm56S3NXQ01mTTRB0gGcAUFVX3lxTE1UdExXTzU1NUxiSmZEZlFScGZkN1dvQUVZTmVXLVFxc2xMMUs2M0xjZ1lDdkFGMHNwakR3MUp0akJQLTZZa0twekFoTjgwNkplWkU0NUlYVTZYcG5kLVRQYktBTWZ5TWlNNHVtREJKU1BKLXlEZmtrUlV2cGlrMTY3R2pwRC04NVBjUFhQZnQ3TGdrOU9ZdjBJaEFsdA?oc=5\", \"content\": \"[쫌아는기자들] SBVA 이준표의 AI론, \\\\\"대전의 스탠다드에너지는 게임체인저가 될 수도 있다\\\\\" - 조선일보\"}, {\"url\": \"https://news.google.com/rss/articles/CBMiXEFVX3lxTE85R2VUdWRDbmVBeXg5UGswYVMwaTRCblZPX1R0RFY0RW5Yc1luWVc2WUJCcnFTdy1oTms2OFo4cmU0N2dTdW5FOXcySDNrTEdOcTEyNmZVd3lYUmw30gFeQVVfeXFMT2c2eUVkcDRqU09OQUJfWWdFNDVTQXhTd2NjU2R0dW5mMzQ2VjhTVG11cVlhMGEwNmtGQ3dBcFNoV3o3RjlaaDIxVmJral9wNWNaelhjaG1XVnN5XzN0Zw?oc=5\", \"content\": \"[기고] AI시대 예술에 대한 재정의 - 뉴스핌\"}, {\"url\": \"https://news.google.com/rss/articles/CBMiS0FVX3lxTE5uUklOWTBRRGJ3bUNFUnQyaUZRRXN3YURvVEpjbzRXTUZaaWNWSzlhZk0wQkJNRFVFSEd5bEkxZWVzS3pZMXFTbnVhdw?oc=5\", \"content\": \"동의대 AI로 한의학 임상 실습 교육 혁신 - 전자신문\"}]', name='search_news', tool_call_id='tool_call_id')]}"
      ]
     },
     "execution_count": 5,
     "metadata": {},
     "output_type": "execute_result"
    }
   ],
   "source": [
    "# 단일 도구 호출을 포함하는 AI 메시지 객체 생성\n",
    "# AIMessage 객체이어야 함\n",
    "message_with_single_tool_call = AIMessage(\n",
    "    content=\"\",\n",
    "    tool_calls=[\n",
    "        {\n",
    "            \"name\": \"search_news\",  # 도구 이름\n",
    "            \"args\": {\"query\": \"AI\"},  # 도구 인자\n",
    "            \"id\": \"tool_call_id\",  # 도구 호출 ID\n",
    "            \"type\": \"tool_call\",  # 도구 호출 유형\n",
    "        }\n",
    "    ],\n",
    ")\n",
    "\n",
    "# 도구 노드를 통한 메시지 처리 및 날씨 정보 요청 실행\n",
    "tool_node.invoke({\"messages\": [message_with_single_tool_call]})\n"
   ]
  },
  {
   "cell_type": "code",
   "execution_count": 6,
   "metadata": {},
   "outputs": [
    {
     "data": {
      "text/plain": [
       "{'messages': [ToolMessage(content='[{\"url\": \"https://news.google.com/rss/articles/CBMiakFVX3lxTE5xUnhGTHN1TDhxTENWajh5Rk52dk1yUlhaU0RIYmFsQjA4Ukc1VGRKbHNMVkM2TloteUdYdkN6UnRFd3NWaUpScVJtQjRVNFBoSkVNd2tHejJqUGNSZDYxWWprM1hJalppLUE?oc=5\", \"content\": \"AI 교과서 ‘자율’→‘엄격 검정’ 돌변…출판사들 ‘졸속 후폭풍’ - 한겨레\"}, {\"url\": \"https://news.google.com/rss/articles/CBMiakFVX3lxTE1DSndQNnVQRk85N3VacVhjazRfaDhMM0dFZ0k1ZXU0b1F1WGZoQTJ0M1lQbFAyYTVWRXRsVlZlTmo2b3BXYkEzWlJaTkVmXy1RM2FPMGpSdjBnUUtKenk0RFJoWThUeWlMUFE?oc=5\", \"content\": \"\\\\\"GPT 성능 향상 속도 둔화\\\\\"...오픈AI, \\'오라이온\\' 개선 위해 전략 수정 - AI타임스\"}, {\"url\": \"https://news.google.com/rss/articles/CBMiiAFBVV95cUxOcngtSVhkeDhWSW1xbnZhVkowR200MDB5MjVzQkxybUhhSGJDbjJyMkVzMFg0X21QRVNscVpBazJuNDRNYlg2SUdGYk1UeDFCNnlZSlBLTjd6WGVHcGdhdjRZcXgwNXFFTUlBay1hRDJjRVRISDFWR1ZOWDRRQm56S3NXQ01mTTRB0gGcAUFVX3lxTE1UdExXTzU1NUxiSmZEZlFScGZkN1dvQUVZTmVXLVFxc2xMMUs2M0xjZ1lDdkFGMHNwakR3MUp0akJQLTZZa0twekFoTjgwNkplWkU0NUlYVTZYcG5kLVRQYktBTWZ5TWlNNHVtREJKU1BKLXlEZmtrUlV2cGlrMTY3R2pwRC04NVBjUFhQZnQ3TGdrOU9ZdjBJaEFsdA?oc=5\", \"content\": \"[쫌아는기자들] SBVA 이준표의 AI론, \\\\\"대전의 스탠다드에너지는 게임체인저가 될 수도 있다\\\\\" - 조선일보\"}, {\"url\": \"https://news.google.com/rss/articles/CBMiXEFVX3lxTE85R2VUdWRDbmVBeXg5UGswYVMwaTRCblZPX1R0RFY0RW5Yc1luWVc2WUJCcnFTdy1oTms2OFo4cmU0N2dTdW5FOXcySDNrTEdOcTEyNmZVd3lYUmw30gFeQVVfeXFMT2c2eUVkcDRqU09OQUJfWWdFNDVTQXhTd2NjU2R0dW5mMzQ2VjhTVG11cVlhMGEwNmtGQ3dBcFNoV3o3RjlaaDIxVmJral9wNWNaelhjaG1XVnN5XzN0Zw?oc=5\", \"content\": \"[기고] AI시대 예술에 대한 재정의 - 뉴스핌\"}, {\"url\": \"https://news.google.com/rss/articles/CBMiS0FVX3lxTE5uUklOWTBRRGJ3bUNFUnQyaUZRRXN3YURvVEpjbzRXTUZaaWNWSzlhZk0wQkJNRFVFSEd5bEkxZWVzS3pZMXFTbnVhdw?oc=5\", \"content\": \"동의대 AI로 한의학 임상 실습 교육 혁신 - 전자신문\"}]', name='search_news', tool_call_id='tool_call_id'),\n",
       "  ToolMessage(content='10\\n', name='python_code_interpreter', tool_call_id='tool_call_id')]}"
      ]
     },
     "execution_count": 6,
     "metadata": {},
     "output_type": "execute_result"
    }
   ],
   "source": [
    "# 다중 도구 호출을 포함하는 AI 메시지 객체 생성 및 초기화\n",
    "message_with_multiple_tool_calls = AIMessage(\n",
    "    content=\"\",\n",
    "    tool_calls=[\n",
    "        {\n",
    "            \"name\": \"search_news\",\n",
    "            \"args\": {\"query\": \"AI\"},\n",
    "            \"id\": \"tool_call_id\",\n",
    "            \"type\": \"tool_call\",\n",
    "        },\n",
    "        {\n",
    "            \"name\": \"python_code_interpreter\",\n",
    "            \"args\": {\"code\": \"print(1+2+3+4)\"},\n",
    "            \"id\": \"tool_call_id\",\n",
    "            \"type\": \"tool_call\",\n",
    "        },\n",
    "    ],\n",
    ")\n",
    "\n",
    "# 생성된 메시지를 도구 노드에 전달하여 다중 도구 호출 실행\n",
    "tool_node.invoke({\"messages\": [message_with_multiple_tool_calls]})\n"
   ]
  },
  {
   "cell_type": "code",
   "execution_count": 7,
   "metadata": {},
   "outputs": [],
   "source": [
    "from langchain_openai import ChatOpenAI\n",
    "\n",
    "# LLM 모델 초기화 및 도구 바인딩\n",
    "model_with_tools = ChatOpenAI(model=\"gpt-4o-mini\", temperature=0).bind_tools(tools)"
   ]
  },
  {
   "cell_type": "markdown",
   "metadata": {},
   "source": [
    "도구 호출 확인"
   ]
  },
  {
   "cell_type": "code",
   "execution_count": 8,
   "metadata": {},
   "outputs": [
    {
     "data": {
      "text/plain": [
       "[{'name': 'python_code_interpreter',\n",
       "  'args': {'code': 'def first_n_primes(n):\\n    primes = []\\n    num = 2  # Starting from the first prime number\\n    while len(primes) < n:\\n        is_prime = True\\n        for i in range(2, int(num**0.5) + 1):\\n            if num % i == 0:\\n                is_prime = False\\n                break\\n        if is_prime:\\n            primes.append(num)\\n        num += 1\\n    return primes\\n\\n# Get the first 5 prime numbers\\nfirst_n_primes(5)'},\n",
       "  'id': 'call_hsF2W7kZJmblIaFUawzqF0bL',\n",
       "  'type': 'tool_call'}]"
      ]
     },
     "execution_count": 8,
     "metadata": {},
     "output_type": "execute_result"
    }
   ],
   "source": [
    "# 도구 호출 확인\n",
    "model_with_tools.invoke(\"처음 5개의 소수를 출력하는 python code 를 작성해줘\").tool_calls"
   ]
  },
  {
   "cell_type": "markdown",
   "metadata": {},
   "source": [
    "tool_bind 한 모델은 tool_calls가 자동 내포하고 있기 때문에 바로 tool_node로 가도 상관없다."
   ]
  },
  {
   "cell_type": "code",
   "execution_count": 9,
   "metadata": {},
   "outputs": [
    {
     "data": {
      "text/plain": [
       "{'messages': [ToolMessage(content='[2, 3, 5, 7, 11]', name='python_code_interpreter', tool_call_id='call_UQuhzXRog6EBnzRMs5C08aHj')]}"
      ]
     },
     "execution_count": 9,
     "metadata": {},
     "output_type": "execute_result"
    }
   ],
   "source": [
    "tool_node.invoke(\n",
    "    {\n",
    "        \"messages\": [\n",
    "            model_with_tools.invoke(\n",
    "                \"처음 5개의 소수를 출력하는 python code 를 작성해줘\"\n",
    "            )\n",
    "        ]\n",
    "    }\n",
    ")"
   ]
  },
  {
   "cell_type": "markdown",
   "metadata": {},
   "source": [
    "## 최종 완성 코드"
   ]
  },
  {
   "cell_type": "code",
   "execution_count": 10,
   "metadata": {},
   "outputs": [],
   "source": [
    "# LangGraph 워크플로우 상태 및 메시지 처리를 위한 타입 임포트\n",
    "from langgraph.graph import StateGraph, MessagesState, START, END\n",
    "\n",
    "\n",
    "# LLM 모델을 사용하여 메시지 처리 및 응답 생성, 도구 호출이 포함된 응답 반환\n",
    "def call_model(state: MessagesState):\n",
    "    messages = state[\"messages\"]\n",
    "    response = model_with_tools.invoke(messages)\n",
    "    return {\"messages\": [response]}\n",
    "\n",
    "\n",
    "# 메시지 상태 기반 워크플로우 그래프 초기화\n",
    "workflow = StateGraph(MessagesState)\n",
    "\n",
    "# 에이전트와 도구 노드 정의 및 워크플로우 그래프에 추가\n",
    "workflow.add_node(\"agent\", call_model)\n",
    "workflow.add_node(\"tools\", tool_node)\n",
    "\n",
    "# 워크플로우 시작점에서 에이전트 노드로 연결\n",
    "workflow.add_edge(START, \"agent\")\n",
    "\n",
    "# 에이전트 노드에서 조건부 분기 설정, 도구 노드 또는 종료 지점으로 연결\n",
    "workflow.add_conditional_edges(\"agent\", tools_condition)\n",
    "\n",
    "# 도구 노드에서 에이전트 노드로 순환 연결\n",
    "workflow.add_edge(\"tools\", \"agent\")\n",
    "\n",
    "# 에이전트 노드에서 종료 지점으로 연결\n",
    "workflow.add_edge(\"agent\", END)\n",
    "\n",
    "\n",
    "# 정의된 워크플로우 그래프 컴파일 및 실행 가능한 애플리케이션 생성\n",
    "app = workflow.compile()\n"
   ]
  },
  {
   "cell_type": "code",
   "execution_count": 11,
   "metadata": {},
   "outputs": [
    {
     "name": "stdout",
     "output_type": "stream",
     "text": [
      "================================\u001b[1m Human Message \u001b[0m=================================\n",
      "\n",
      "search google news about AI\n",
      "==================================\u001b[1m Ai Message \u001b[0m==================================\n",
      "Tool Calls:\n",
      "  search_news (call_ltg2DtSBVQL46zTVELEx56cM)\n",
      " Call ID: call_ltg2DtSBVQL46zTVELEx56cM\n",
      "  Args:\n",
      "    query: AI\n",
      "=================================\u001b[1m Tool Message \u001b[0m=================================\n",
      "Name: search_news\n",
      "\n",
      "[{\"url\": \"https://news.google.com/rss/articles/CBMiakFVX3lxTE1DSndQNnVQRk85N3VacVhjazRfaDhMM0dFZ0k1ZXU0b1F1WGZoQTJ0M1lQbFAyYTVWRXRsVlZlTmo2b3BXYkEzWlJaTkVmXy1RM2FPMGpSdjBnUUtKenk0RFJoWThUeWlMUFE?oc=5\", \"content\": \"\\\"GPT 성능 향상 속도 둔화\\\"...오픈AI, '오라이온' 개선 위해 전략 수정 - AI타임스\"}, {\"url\": \"https://news.google.com/rss/articles/CBMiVkFVX3lxTE5xWkdpNHlQUEthaldYQnMzaVluTVota0thOHFRbDA3VW5UZmtXOS0wRF9QM2RmZFprSkdyTVdPb012cWlMdEszS0YxcW1vbWFqa25UR2t3?oc=5\", \"content\": \"\\\"AI 성장 한계 직면\\\"…오픈AI, 기술 돌파구 마련 위해 新 전략 가동하나 - ZD넷 코리아\"}, {\"url\": \"https://news.google.com/rss/articles/CBMic0FVX3lxTFBJTDJ0bEJ0NWVNVTF3QlhFZGRlSnU0QkVyZklQcXdNVlZEbW5ZSGFIeEVZcG5qSDAwZ0s1dnh0OTNIWGVNSFdUSldZNm5EcDdFQi1vR19TQlg3TE9TWUF0Mi01SW1zdmZEajZHWXNPYnBadjA?oc=5\", \"content\": \"LLM 성능 확장의 법칙 한계 왔나?...오픈AI, 우회 기술 개발 집중 - 디지털투데이\"}, {\"url\": \"https://news.google.com/rss/articles/CBMiakFVX3lxTE5xUnhGTHN1TDhxTENWajh5Rk52dk1yUlhaU0RIYmFsQjA4Ukc1VGRKbHNMVkM2TloteUdYdkN6UnRFd3NWaUpScVJtQjRVNFBoSkVNd2tHejJqUGNSZDYxWWprM1hJalppLUE?oc=5\", \"content\": \"AI 교과서 ‘자율’→‘엄격 검정’ 돌변…출판사들 ‘졸속 후폭풍’ - 한겨레\"}, {\"url\": \"https://news.google.com/rss/articles/CBMiiAFBVV95cUxOcngtSVhkeDhWSW1xbnZhVkowR200MDB5MjVzQkxybUhhSGJDbjJyMkVzMFg0X21QRVNscVpBazJuNDRNYlg2SUdGYk1UeDFCNnlZSlBLTjd6WGVHcGdhdjRZcXgwNXFFTUlBay1hRDJjRVRISDFWR1ZOWDRRQm56S3NXQ01mTTRB0gGcAUFVX3lxTE1UdExXTzU1NUxiSmZEZlFScGZkN1dvQUVZTmVXLVFxc2xMMUs2M0xjZ1lDdkFGMHNwakR3MUp0akJQLTZZa0twekFoTjgwNkplWkU0NUlYVTZYcG5kLVRQYktBTWZ5TWlNNHVtREJKU1BKLXlEZmtrUlV2cGlrMTY3R2pwRC04NVBjUFhQZnQ3TGdrOU9ZdjBJaEFsdA?oc=5\", \"content\": \"[쫌아는기자들] SBVA 이준표의 AI론, \\\"대전의 스탠다드에너지는 게임체인저가 될 수도 있다\\\" - 조선일보\"}]\n",
      "==================================\u001b[1m Ai Message \u001b[0m==================================\n",
      "\n",
      "Here are some recent news articles about AI:\n",
      "\n",
      "1. **\"GPT 성능 향상 속도 둔화\"...오픈AI, '오라이온' 개선 위해 전략 수정** - [AI타임스](https://news.google.com/rss/articles/CBMiakFVX3lxTE1DSndQNnVQRk85N3VacVhjazRfaDhMM0dFZ0k1ZXU0b1F1WGZoQTJ0M1lQbFAyYTVWRXRsVlZlTmo2b3BXYkEzWlJaTkVmXy1RM2FPMGpSdjBnUUtKenk0RFJoWThUeWlMUFE?oc=5)\n",
      "\n",
      "2. **\"AI 성장 한계 직면\"...오픈AI, 기술 돌파구 마련 위해 新 전략 가동하나** - [ZD넷 코리아](https://news.google.com/rss/articles/CBMiVkFVX3lxTE5xWkdpNHlQUEthaldYQnMzaVluTVota0thOHFRbDA3VW5UZmtXOS0wRF9QM2RmZFprSkdyTVdPb012cWlMdEszS0YxcW1vbWFqa25UR2t3?oc=5)\n",
      "\n",
      "3. **\"LLM 성능 확장의 법칙 한계 왔나?...오픈AI, 우회 기술 개발 집중\"** - [디지털투데이](https://news.google.com/rss/articles/CBMic0FVX3lxTFBJTDJ0bEJ0NWVNVTF3QlhFZGRlSnU0QkVyZklQcXdNVlZEbW5ZSGFIeEVZcG5qSDAwZ0s1dnh0OTNIWGVNSFdUSldZNm5EcDdFQi1vR19TQlg3TE9TWUF0Mi01SW1zdmZEajZHWXNPYnBadjA?oc=5)\n",
      "\n",
      "4. **\"AI 교과서 ‘자율’→‘엄격 검정’ 돌변…출판사들 ‘졸속 후폭풍’\"** - [한겨레](https://news.google.com/rss/articles/CBMiakFVX3lxTE5xUnhGTHN1TDhxTENWajh5Rk52dk1yUlhaU0RIYmFsQjA4Ukc1VGRKbHNMVkM2TloteUdYdkN6UnRFd3NWaUpScVJtQjRVNFBoSkVNd2tHejJqUGNSZDYxWWprM1hJalppLUE?oc=5)\n",
      "\n",
      "5. **\"[쫌아는기자들] SBVA 이준표의 AI론, '대전의 스탠다드에너지는 게임체인저가 될 수도 있다'\"** - [조선일보](https://news.google.com/rss/articles/CBMiiAFBVV95cUxOcngtSVhkeDhWSW1xbnZhVkowR200MDB5MjVzQkxybUhhSGJDbjJyMkVzMFg0X21QRVNscVpBazJuNDRNYlg2SUdGYk1UeDFCNnlZSlBLTjd6WGVHcGdhdjRZcXgwNXFFTUlBay1hRDJjRVRISDFWR1ZOWDRRQm56S3NXQ01mTTRB0gGcAUFVX3lxTE1UdExXTzU1NUxiSmZEZlFScGZkN1dvQUVZTmVXLVFxc2xMMUs2M0xjZ1lDdkFGMHNwakR3MUp0akJQLTZZa0twekFoTjgwNkplWkU0NUlYVTZYcG5kLVRQYktBTWZ5TWlNNHVtREJKU1BKLXlEZmtrUlV2cGlrMTY3R2pwRC04NVBjUFhQZnQ3TGdrOU9ZdjBJaEFsdA?oc=5)\n",
      "\n",
      "Feel free to click on the links to read more about each article!\n"
     ]
    }
   ],
   "source": [
    "# 검색 질문 수행\n",
    "for chunk in app.stream(\n",
    "    {\"messages\": [(\"human\", \"search google news about AI\")]},\n",
    "    stream_mode=\"values\",\n",
    "):\n",
    "    chunk[\"messages\"][-1].pretty_print()\n"
   ]
  },
  {
   "cell_type": "code",
   "execution_count": null,
   "metadata": {},
   "outputs": [],
   "source": []
  }
 ],
 "metadata": {
  "kernelspec": {
   "display_name": "llm",
   "language": "python",
   "name": "python3"
  },
  "language_info": {
   "codemirror_mode": {
    "name": "ipython",
    "version": 3
   },
   "file_extension": ".py",
   "mimetype": "text/x-python",
   "name": "python",
   "nbconvert_exporter": "python",
   "pygments_lexer": "ipython3",
   "version": "3.10.12"
  }
 },
 "nbformat": 4,
 "nbformat_minor": 2
}
