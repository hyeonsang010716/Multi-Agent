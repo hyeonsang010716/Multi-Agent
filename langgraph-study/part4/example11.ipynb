{
 "cells": [
  {
   "cell_type": "markdown",
   "metadata": {},
   "source": [
    "## 여러 개 그래프 사용 구현"
   ]
  },
  {
   "cell_type": "code",
   "execution_count": 1,
   "metadata": {},
   "outputs": [
    {
     "data": {
      "text/plain": [
       "True"
      ]
     },
     "execution_count": 1,
     "metadata": {},
     "output_type": "execute_result"
    }
   ],
   "source": [
    "from dotenv import load_dotenv\n",
    "\n",
    "# API 키 정보 로드\n",
    "load_dotenv()"
   ]
  },
  {
   "cell_type": "markdown",
   "metadata": {},
   "source": [
    "1. child 그래프"
   ]
  },
  {
   "cell_type": "code",
   "execution_count": 8,
   "metadata": {},
   "outputs": [],
   "source": [
    "from langgraph.graph import START, END, StateGraph\n",
    "from typing import TypedDict\n",
    "\n",
    "\n",
    "# 서브그래프 상태 정의를 위한 TypedDict 클래스, 부모 그래프와 공유되는 name 키와 서브그래프 전용 family_name 키 포함\n",
    "class ChildState(TypedDict):\n",
    "    name: str  # 부모 그래프와 공유되는 상태 키\n",
    "    family_name: str\n",
    "\n",
    "\n",
    "# 서브그래프의 첫 번째 노드, family_name 키에 초기값 설정\n",
    "def subgraph_node_1(state: ChildState):\n",
    "    return {\"family_name\": \"조\"}\n",
    "\n",
    "\n",
    "# 서브그래프의 두 번째 노드, 서브그래프 전용 family_name 키와 공유 name 키를 결합하여 새로운 상태 생성\n",
    "def subgraph_node_2(state: ChildState):\n",
    "    # 서브그래프 내부에서만 사용 가능한 family_name 키와 공유 상태 키 name를 사용하여 업데이트 수행\n",
    "    return {\"name\": f'{state[\"name\"]} {state[\"family_name\"]}'}\n",
    "\n",
    "\n",
    "# 서브그래프 구조 정의 및 노드 간 연결 관계 설정\n",
    "subgraph_builder = StateGraph(ChildState)\n",
    "subgraph_builder.add_node(subgraph_node_1)\n",
    "subgraph_builder.add_node(subgraph_node_2)\n",
    "subgraph_builder.add_edge(START, \"subgraph_node_1\")\n",
    "subgraph_builder.add_edge(\"subgraph_node_1\", \"subgraph_node_2\")\n",
    "subgraph = subgraph_builder.compile()\n"
   ]
  },
  {
   "cell_type": "markdown",
   "metadata": {},
   "source": [
    "2. parent 그래프\n",
    "\n",
    "parent와 child 그래프 연결"
   ]
  },
  {
   "cell_type": "code",
   "execution_count": 10,
   "metadata": {},
   "outputs": [],
   "source": [
    "# 부모 그래프의 상태 정의를 위한 TypedDict 클래스, name 키만 포함\n",
    "class ParentState(TypedDict):\n",
    "    name: str\n",
    "    company: str\n",
    "\n",
    "\n",
    "# 부모 그래프의 첫 번째 노드, name 키의 값을 수정하여 새로운 상태 생성\n",
    "def node_1(state: ParentState):\n",
    "    return {\"name\": f'My name is {state[\"name\"]}'}\n",
    "\n",
    "\n",
    "# 부모 그래프 구조 정의 및 서브그래프를 포함한 노드 간 연결 관계 설정\n",
    "builder = StateGraph(ParentState)\n",
    "builder.add_node(\"node_1\", node_1)\n",
    "# 컴파일된 서브그래프를 부모 그래프의 노드로 추가\n",
    "builder.add_node(\"node_2\", subgraph)\n",
    "builder.add_edge(START, \"node_1\")\n",
    "builder.add_edge(\"node_1\", \"node_2\")\n",
    "builder.add_edge(\"node_2\", END)\n",
    "graph = builder.compile()\n"
   ]
  },
  {
   "cell_type": "code",
   "execution_count": 11,
   "metadata": {},
   "outputs": [
    {
     "name": "stdout",
     "output_type": "stream",
     "text": [
      "{'node_1': {'name': 'My name is 현상'}}\n",
      "{'node_2': {'name': 'My name is 현상 조'}}\n"
     ]
    }
   ],
   "source": [
    "for chunk in graph.stream({\"name\": \"현상\"}):\n",
    "    print(chunk)"
   ]
  },
  {
   "cell_type": "markdown",
   "metadata": {},
   "source": [
    "## 노드 연결 할 떄 주의할 점. (상태 공유가 안 되는 경우)"
   ]
  },
  {
   "cell_type": "code",
   "execution_count": 12,
   "metadata": {},
   "outputs": [
    {
     "name": "stdout",
     "output_type": "stream",
     "text": [
      "((), {'grandchild_1': {'my_grandchild_key': '([GrandChild] Hi, Teddy!)'}})\n"
     ]
    }
   ],
   "source": [
    "# 상태 관리를 위한 TypedDict와 StateGraph 관련 모듈 임포트\n",
    "from typing_extensions import TypedDict\n",
    "from langgraph.graph.state import StateGraph, START, END\n",
    "\n",
    "\n",
    "# 손자 노드의 상태를 정의하는 TypedDict 클래스, 문자열 타입의 my_grandchild_key 포함\n",
    "class GrandChildState(TypedDict):\n",
    "    my_grandchild_key: str\n",
    "\n",
    "\n",
    "# 손자 노드의 상태를 처리하는 함수, 입력된 문자열에 인사말 추가\n",
    "def grandchild_1(state: GrandChildState) -> GrandChildState:\n",
    "    # 자식 또는 부모 키는 여기서 접근 불가\n",
    "    return {\"my_grandchild_key\": f'([GrandChild] {state[\"my_grandchild_key\"]})'}\n",
    "\n",
    "\n",
    "# 손자 노드의 상태 그래프 초기화\n",
    "grandchild = StateGraph(GrandChildState)\n",
    "\n",
    "# 상태 그래프에 손자 노드 추가\n",
    "grandchild.add_node(\"grandchild_1\", grandchild_1)\n",
    "\n",
    "# 시작 노드에서 손자 노드로의 엣지 연결\n",
    "grandchild.add_edge(START, \"grandchild_1\")\n",
    "\n",
    "# 손자 노드에서 종료 노드로의 엣지 연결\n",
    "grandchild.add_edge(\"grandchild_1\", END)\n",
    "\n",
    "# 정의된 상태 그래프 컴파일 및 실행 가능한 그래프 생성\n",
    "grandchild_graph = grandchild.compile()\n",
    "\n",
    "# 그래프 호출\n",
    "for chunk in grandchild_graph.stream(\n",
    "    {\"my_grandchild_key\": \"Hi, Teddy!\"}, subgraphs=True\n",
    "):\n",
    "    print(chunk)"
   ]
  },
  {
   "cell_type": "markdown",
   "metadata": {},
   "source": [
    "child 노드가 grand 노드로 가려면 grand 상태가 필요하기 때문에 교체해주는 작업을 해줘야한다."
   ]
  },
  {
   "cell_type": "code",
   "execution_count": 14,
   "metadata": {},
   "outputs": [
    {
     "name": "stdout",
     "output_type": "stream",
     "text": [
      "(('child_1:8f01dbe2-e60c-d0cf-c781-7a036d7f2e17',), {'grandchild_1': {'my_grandchild_key': '([GrandChild] Hi, Teddy!)'}})\n",
      "((), {'child_1': {'my_child_key': '([Child] ([GrandChild] Hi, Teddy!))'}})\n"
     ]
    }
   ],
   "source": [
    "# 자식 상태 타입 정의를 위한 TypedDict 클래스\n",
    "class ChildState(TypedDict):\n",
    "    my_child_key: str\n",
    "\n",
    "\n",
    "# 손자 그래프 호출 및 상태 변환 함수, 자식 상태를 입력받아 변환된 자식 상태 반환\n",
    "def call_grandchild_graph(state: ChildState) -> ChildState:\n",
    "    # 참고: 부모 또는 손자 키는 여기서 접근 불가능\n",
    "    # 자식 상태 채널에서 손자 상태 채널로 상태 변환\n",
    "    grandchild_graph_input = {\"my_grandchild_key\": state[\"my_child_key\"]}\n",
    "    # 손자 상태 채널에서 자식 상태 채널로 상태 변환 후 결과 반환\n",
    "    grandchild_graph_output = grandchild_graph.invoke(grandchild_graph_input)\n",
    "    return {\"my_child_key\": f'([Child] {grandchild_graph_output[\"my_grandchild_key\"]})'}\n",
    "\n",
    "\n",
    "# 자식 상태 그래프 초기화\n",
    "child = StateGraph(ChildState)\n",
    "# 참고: 컴파일된 그래프 대신 함수 전달\n",
    "# 자식 그래프에 노드 추가 및 시작-종료 엣지 연결\n",
    "child.add_node(\"child_1\", call_grandchild_graph)\n",
    "child.add_edge(START, \"child_1\")\n",
    "child.add_edge(\"child_1\", END)\n",
    "# 자식 그래프 컴파일\n",
    "child_graph = child.compile()\n",
    "\n",
    "# child_graph 그래프 호출\n",
    "for chunk in child_graph.stream({\"my_child_key\": \"Hi, Teddy!\"}, subgraphs=True):\n",
    "    print(chunk)\n"
   ]
  },
  {
   "cell_type": "markdown",
   "metadata": {},
   "source": [
    "parent가 child로 가려면 마찬가지"
   ]
  },
  {
   "cell_type": "code",
   "execution_count": 15,
   "metadata": {},
   "outputs": [],
   "source": [
    "# 부모 상태 타입 정의를 위한 TypedDict 클래스\n",
    "class ParentState(TypedDict):\n",
    "    my_parent_key: str\n",
    "\n",
    "\n",
    "# 부모 상태의 my_parent_key 값에 '[Parent1]' 문자열을 추가하는 변환 함수\n",
    "def parent_1(state: ParentState) -> ParentState:\n",
    "    # 참고: 자식 또는 손자 키는 여기서 접근 불가\n",
    "    return {\"my_parent_key\": f'([Parent1] {state[\"my_parent_key\"]})'}\n",
    "\n",
    "\n",
    "# 부모 상태의 my_parent_key 값에 '[Parent2]' 문자열을 추가하는 변환 함수\n",
    "def parent_2(state: ParentState) -> ParentState:\n",
    "    return {\"my_parent_key\": f'([Parent2] {state[\"my_parent_key\"]})'}\n",
    "\n",
    "\n",
    "# 부모 상태와 자식 상태 간의 데이터 변환 및 자식 그래프 호출 처리\n",
    "def call_child_graph(state: ParentState) -> ParentState:\n",
    "    # 부모 상태 채널(my_parent_key)에서 자식 상태 채널(my_child_key)로 상태 변환\n",
    "    child_graph_input = {\"my_child_key\": state[\"my_parent_key\"]}\n",
    "    # 자식 상태 채널(my_child_key)에서 부모 상태 채널(my_parent_key)로 상태 변환\n",
    "    child_graph_output = child_graph.invoke(child_graph_input)\n",
    "    return {\"my_parent_key\": child_graph_output[\"my_child_key\"]}\n",
    "\n",
    "\n",
    "# 부모 상태 그래프 초기화 및 노드 구성\n",
    "parent = StateGraph(ParentState)\n",
    "parent.add_node(\"parent_1\", parent_1)\n",
    "\n",
    "# 참고: 컴파일된 그래프가 아닌 함수를 전달\n",
    "parent.add_node(\"child\", call_child_graph)\n",
    "parent.add_node(\"parent_2\", parent_2)\n",
    "\n",
    "# 상태 그래프의 실행 흐름을 정의하는 엣지 구성\n",
    "parent.add_edge(START, \"parent_1\")\n",
    "parent.add_edge(\"parent_1\", \"child\")\n",
    "parent.add_edge(\"child\", \"parent_2\")\n",
    "parent.add_edge(\"parent_2\", END)\n",
    "\n",
    "# 구성된 부모 상태 그래프의 컴파일 및 실행 가능한 그래프 생성\n",
    "parent_graph = parent.compile()\n"
   ]
  },
  {
   "cell_type": "code",
   "execution_count": null,
   "metadata": {},
   "outputs": [
    {
     "name": "stdout",
     "output_type": "stream",
     "text": [
      "((), {'parent_1': {'my_parent_key': '([Parent1] Hi, Teddy!)'}})\n",
      "(('child:c55a060a-d43e-e256-05ef-aa10545f4e7f', 'child_1:7e31b84b-f25f-10c8-8cdd-e6214adc4ba0'), {'grandchild_1': {'my_grandchild_key': '([GrandChild] ([Parent1] Hi, Teddy!))'}})\n",
      "(('child:c55a060a-d43e-e256-05ef-aa10545f4e7f',), {'child_1': {'my_child_key': '([Child] ([GrandChild] ([Parent1] Hi, Teddy!)))'}})\n",
      "((), {'child': {'my_parent_key': '([Child] ([GrandChild] ([Parent1] Hi, Teddy!)))'}})\n",
      "((), {'parent_2': {'my_parent_key': '([Parent2] ([Child] ([GrandChild] ([Parent1] Hi, Teddy!))))'}})\n"
     ]
    }
   ],
   "source": [
    "# 그래프 실행 및 \"my_parent_key\" 매개변수를 통한 \"Hi, Teddy!\" 값 전달\n",
    "for chunk in parent_graph.stream({\"my_parent_key\": \"Hi, Teddy!\"}, subgraphs=True):\n",
    "    print(chunk)"
   ]
  }
 ],
 "metadata": {
  "kernelspec": {
   "display_name": "llm",
   "language": "python",
   "name": "python3"
  },
  "language_info": {
   "codemirror_mode": {
    "name": "ipython",
    "version": 3
   },
   "file_extension": ".py",
   "mimetype": "text/x-python",
   "name": "python",
   "nbconvert_exporter": "python",
   "pygments_lexer": "ipython3",
   "version": "3.10.12"
  }
 },
 "nbformat": 4,
 "nbformat_minor": 2
}
