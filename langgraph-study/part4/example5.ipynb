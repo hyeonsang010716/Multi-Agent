{
 "cells": [
  {
   "cell_type": "markdown",
   "metadata": {},
   "source": [
    "## 이전 코드 세팅"
   ]
  },
  {
   "cell_type": "code",
   "execution_count": 3,
   "metadata": {},
   "outputs": [],
   "source": [
    "import feedparser\n",
    "from urllib.parse import quote\n",
    "from typing import List, Dict, Optional\n",
    "\n",
    "class GoogleNews:\n",
    "    \"\"\"\n",
    "    구글 뉴스를 검색하고 결과를 반환하는 클래스입니다.\n",
    "    \"\"\"\n",
    "\n",
    "    def __init__(self):\n",
    "        self.base_url = \"https://news.google.com/rss\"\n",
    "\n",
    "    def _fetch_news(self, url: str, k: int = 3) -> List[Dict[str, str]]:\n",
    "        news_data = feedparser.parse(url)\n",
    "        return [\n",
    "            {\"title\": entry.title, \"link\": entry.link}\n",
    "            for entry in news_data.entries[:k]\n",
    "        ]\n",
    "\n",
    "    def _collect_news(self, news_list: List[Dict[str, str]]) -> List[Dict[str, str]]:\n",
    "\n",
    "        if not news_list:\n",
    "            print(\"해당 키워드의 뉴스가 없습니다.\")\n",
    "            return []\n",
    "\n",
    "        result = []\n",
    "        for news in news_list:\n",
    "            result.append({\"url\": news[\"link\"], \"content\": news[\"title\"]})\n",
    "\n",
    "        return result\n",
    "\n",
    "    def search_latest(self, k: int = 3) -> List[Dict[str, str]]:\n",
    "        url = f\"{self.base_url}?hl=ko&gl=KR&ceid=KR:ko\"\n",
    "        news_list = self._fetch_news(url, k)\n",
    "        return self._collect_news(news_list)\n",
    "\n",
    "    def search_by_keyword(\n",
    "        self, keyword: Optional[str] = None, k: int = 3\n",
    "    ) -> List[Dict[str, str]]:\n",
    "        if keyword:\n",
    "            encoded_keyword = quote(keyword)\n",
    "            url = f\"{self.base_url}/search?q={encoded_keyword}&hl=ko&gl=KR&ceid=KR:ko\"\n",
    "        else:\n",
    "            url = f\"{self.base_url}?hl=ko&gl=KR&ceid=KR:ko\"\n",
    "        news_list = self._fetch_news(url, k)\n",
    "        return self._collect_news(news_list)"
   ]
  },
  {
   "cell_type": "code",
   "execution_count": 4,
   "metadata": {},
   "outputs": [],
   "source": [
    "from dotenv import load_dotenv\n",
    "from typing import Annotated, List, Dict\n",
    "from typing_extensions import TypedDict\n",
    "\n",
    "from langchain_core.tools import tool\n",
    "from langchain_openai import ChatOpenAI\n",
    "from langgraph.checkpoint.memory import MemorySaver\n",
    "from langgraph.graph import StateGraph, START, END\n",
    "from langgraph.graph.message import add_messages\n",
    "from langgraph.prebuilt import ToolNode, tools_condition\n",
    "\n",
    "load_dotenv()\n",
    "\n",
    "class State(TypedDict):\n",
    "    messages: Annotated[list, add_messages]\n",
    "\n",
    "news_tool = GoogleNews()\n",
    "\n",
    "\n",
    "@tool\n",
    "def search_keyword(query: str) -> List[Dict[str, str]]:\n",
    "    \"\"\"Look up news by keyword\"\"\"\n",
    "    news_tool = GoogleNews()\n",
    "    return news_tool.search_by_keyword(query, k=5)\n",
    "\n",
    "\n",
    "tools = [search_keyword]\n",
    "\n",
    "llm = ChatOpenAI(model=\"gpt-4o-mini\")\n",
    "\n",
    "llm_with_tools = llm.bind_tools(tools)\n",
    "\n",
    "def chatbot(state: State):\n",
    "    return {\"messages\": [llm_with_tools.invoke(state[\"messages\"])]}\n",
    "\n",
    "graph_builder = StateGraph(State)\n",
    "\n",
    "graph_builder.add_node(\"chatbot\", chatbot)\n",
    "\n",
    "tool_node = ToolNode(tools=tools)\n",
    "\n",
    "graph_builder.add_node(\"tools\", tool_node)\n",
    "\n",
    "graph_builder.add_conditional_edges(\n",
    "    \"chatbot\",\n",
    "    tools_condition,\n",
    ")\n",
    "\n",
    "graph_builder.add_edge(\"tools\", \"chatbot\")\n",
    "\n",
    "graph_builder.add_edge(START, \"chatbot\")\n",
    "\n",
    "graph_builder.add_edge(\"chatbot\", END)\n",
    "\n",
    "memory = MemorySaver()\n",
    "\n",
    "graph = graph_builder.compile(checkpointer=memory)"
   ]
  },
  {
   "cell_type": "markdown",
   "metadata": {},
   "source": [
    "## tools가 호출이 일어나면 멈추는 stream 구성 (이전과 동일)"
   ]
  },
  {
   "cell_type": "code",
   "execution_count": 5,
   "metadata": {},
   "outputs": [
    {
     "name": "stdout",
     "output_type": "stream",
     "text": [
      "\n",
      "[messages]\n",
      "\n",
      "================================\u001b[1m Human Message \u001b[0m=================================\n",
      "\n",
      "AI 관련 최신 뉴스를 알려주세요.\n",
      "\n",
      "[messages]\n",
      "\n",
      "================================\u001b[1m Human Message \u001b[0m=================================\n",
      "\n",
      "AI 관련 최신 뉴스를 알려주세요.\n",
      "==================================\u001b[1m Ai Message \u001b[0m==================================\n",
      "Tool Calls:\n",
      "  search_keyword (call_Ehgr6C0f3kdqhRg4sFaQ5kum)\n",
      " Call ID: call_Ehgr6C0f3kdqhRg4sFaQ5kum\n",
      "  Args:\n",
      "    query: AI\n"
     ]
    }
   ],
   "source": [
    "from langchain_teddynote.messages import pretty_print_messages\n",
    "from langchain_core.runnables import RunnableConfig\n",
    "\n",
    "question = \"AI 관련 최신 뉴스를 알려주세요.\"\n",
    "\n",
    "input = State(messages=[(\"user\", question)])\n",
    "\n",
    "config = RunnableConfig(\n",
    "    recursion_limit=10,  # 최대 10개의 노드까지 방문. 그 이상은 RecursionError 발생\n",
    "    configurable={\"thread_id\": \"1\"}, \n",
    "    tags=[\"my-rag\"],  \n",
    ")\n",
    "\n",
    "for event in graph.stream(\n",
    "    input=input,\n",
    "    config=config,\n",
    "    stream_mode=\"values\",\n",
    "    interrupt_before=[\"tools\"],  #interrupt before을 선택했기 때문에 tools가 호출이 일어나는 순간 멈춤\n",
    "):\n",
    "    for key, value in event.items():\n",
    "\n",
    "        print(f\"\\n[{key}]\\n\")\n",
    "\n",
    "        pretty_print_messages(value)\n",
    "\n",
    "        if \"messages\" in value:\n",
    "            print(f\"메시지 개수: {len(value['messages'])}\")"
   ]
  },
  {
   "cell_type": "markdown",
   "metadata": {},
   "source": [
    "### 다음 노드가 tools인 것을 볼 수 있음"
   ]
  },
  {
   "cell_type": "code",
   "execution_count": 7,
   "metadata": {},
   "outputs": [
    {
     "data": {
      "text/plain": [
       "('tools',)"
      ]
     },
     "execution_count": 7,
     "metadata": {},
     "output_type": "execute_result"
    }
   ],
   "source": [
    "snapshot = graph.get_state(config)\n",
    "\n",
    "# 다음 스냅샷 상태\n",
    "snapshot.next"
   ]
  },
  {
   "cell_type": "markdown",
   "metadata": {},
   "source": [
    "### 만약 아무 조건을 걸고 싶지 않다면 None을 넣어주면 됨"
   ]
  },
  {
   "cell_type": "code",
   "execution_count": 8,
   "metadata": {},
   "outputs": [
    {
     "name": "stdout",
     "output_type": "stream",
     "text": [
      "==================================\u001b[1m Ai Message \u001b[0m==================================\n",
      "Tool Calls:\n",
      "  search_keyword (call_Ehgr6C0f3kdqhRg4sFaQ5kum)\n",
      " Call ID: call_Ehgr6C0f3kdqhRg4sFaQ5kum\n",
      "  Args:\n",
      "    query: AI\n",
      "=================================\u001b[1m Tool Message \u001b[0m=================================\n",
      "Name: search_keyword\n",
      "\n",
      "[{\"url\": \"https://news.google.com/rss/articles/CBMiYEFVX3lxTE93ZzFNeGNPb1dsbU9iUmwtbi1EcGZnekRZWkNTd1RiaDRMaXk2dnRKTWhJbWh2NGxwc1gxSG96dm8xR1BOS2hHbmlnc0EtZlJkTW93bTNudmxEazE3YVg2dNIBeEFVX3lxTFB3d1JfVl9XVFRUWEVVR1NZbURtVEdRZ1JvRHdZbkJVQzNhMUF6Mm5pckZMeTFQUlR0X09zY201YWI1eTJSZjdPMU1UYlJvZnBPMHNEVkpkSDFzMmhBWDBaem5xT08xRjc4NEV3Z3pScG1sXzIyYkU5VQ?oc=5\", \"content\": \"대덕전자, AMD향 'AI 가속기' MLB 공급 최종승인 앞둬 - 뉴시스\"}, {\"url\": \"https://news.google.com/rss/articles/CBMiYEFVX3lxTE9DRnpMTlFBQ2hQQkctalB2LWQ1aFhhNVFFNzZnbXVPcnE3MndSVWRxRTk2S2FhWkFja21QeDVYTUhOVGNnVXl4YkY1eXgtdXZRWlpWckJYOVVYUUFqTlhUMQ?oc=5\", \"content\": \"‘AI 지우기’ 아이폰·갤럭시 대결…‘인생샷’에 찍힌 관광객 지워봤다 - 한겨레\"}, {\"url\": \"https://news.google.com/rss/articles/CBMiakFVX3lxTE1aRm1RR2FoWW9Ld3EyTkd2RlF2NlhfV0RwS0l6VW9BTlBDYUpQVnZ3ay1rRDZwTWVYTHZNR3AwSFI4dmhVVnlielJwcXFjU1RPNDM3YmkwaVJ3WU5rd0dPYjhMZC1sLUI4UUE?oc=5\", \"content\": \"[11월5일] 텍스트보다 이미지가 편향 심각...이제는 AI 검색 및 알고리즘 추천으로 확대 - AI타임스\"}, {\"url\": \"https://news.google.com/rss/articles/CBMicEFVX3lxTE9XZGdhSHpkcEVXM2VvY2p4Y2J1ME1oSUF1dl9xazlyVktIRmNxVG9Ub29leUs5OE1qRnowamw1Wk96bEdodGYwQVlPT2ZYWEJxQ2o1WmVESGpIejktcmFSdWRlMV9oSmxyd1NmTDhFdHDSAXRBVV95cUxON1FURTlmODgxM0ZNdGdyNHhkUEd1c0x3NzRMaGdrZlRXaWI5SUozTWxtUWphVkx0TlRDLXdmelNuV1Jpb3VTVldEZHVoUm9iU1hEMlBTcFNOakNVTkg1X3ExNVotVXpRbElHV2RkZ2hZanRldQ?oc=5\", \"content\": \"[시사금융용어] 소버린 AI - 연합인포맥스\"}, {\"url\": \"https://news.google.com/rss/articles/CBMiW0FVX3lxTE1LbzNKM0RaSDFGWGtJRzgtUkhuUEUzNnpzRjBrc2w2QmJtRFlkaVZPSEkxSW0tMm8xamt0ZlAwbngxQTJvRDI5NlFjNDYxaHoteVprUFMyaWVrVHfSAV5BVV95cUxQcjhZY0REVUNsdkYzd1hkcnI4Qmg2NVdTekRfSmNTZ09DSnFxZ2U2Z2I3OEVpX0dhS0thU05sMFZIbXh3azNkOEhwOFdpNUVoUHlfSkVycmpzTUNiOUZn?oc=5\", \"content\": \"AI시대, 문화혁신 방향 모색…문체부 '디지털혁신 포럼' 개최 - 연합뉴스\"}]\n",
      "==================================\u001b[1m Ai Message \u001b[0m==================================\n",
      "\n",
      "다음은 AI 관련 최신 뉴스입니다:\n",
      "\n",
      "1. **대덕전자, AMD향 'AI 가속기' MLB 공급 최종승인 앞둬**  \n",
      "   [뉴스 링크](https://news.google.com/rss/articles/CBMiYEFVX3lxTE93ZzFNeGNPb1dsbU9iUmwtbi1EcGZnekRZWkNTd1RiaDRMaXk2dnRKTWhJbWh2NGxwc1gxSG96dm8xR1BOS2hHbmlnc0EtZlJkTW93bTNudmxEazE3YVg2dNIBeEFVX3lxTFB3d1JfVl9XVFRUWEVVR1NZbURtVEdRZ1JvRHdZbkJVQzNhMUF6Mm5pckZMeTFQUlR0X09zY201YWI1eTJSZjdPMU1UYlJvZnBPMHNEVkpkSDFzMmhBWDBaem5xT08xRjc4NEV3Z3pScG1sXzIyYkU5VQ?oc=5)\n",
      "\n",
      "2. **‘AI 지우기’ 아이폰·갤럭시 대결…‘인생샷’에 찍힌 관광객 지워봤다**  \n",
      "   [뉴스 링크](https://news.google.com/rss/articles/CBMiYEFVX3lxTE9DRnpMTlFBQ2hQQkctalB2LWQ1aFhhNVFFNzZnbXVPcnE3MndSVWRxRTk2S2FhWkFja21QeDVYTUhOVGNnVXl4YkY1eXgtdXZRWlpWckJYOVVYUUFqTlhUMQ?oc=5)\n",
      "\n",
      "3. **[11월5일] 텍스트보다 이미지가 편향 심각...이제는 AI 검색 및 알고리즘 추천으로 확대**  \n",
      "   [뉴스 링크](https://news.google.com/rss/articles/CBMiakFVX3lxTE1aRm1RR2FoWW9Ld3EyTkd2RlF2NlhfV0RwS0l6VW9BTlBDYUpQVnZ3ay1rRDZwTWVYTHZNR3AwSFI4dmhVVnlielJwcXFjU1RPNDM3YmkwaVJ3WU5rd0dPYjhMZC1sLUI4UUE?oc=5)\n",
      "\n",
      "4. **[시사금융용어] 소버린 AI**  \n",
      "   [뉴스 링크](https://news.google.com/rss/articles/CBMicEFVX3lxTE9XZGdhSHpkcEVXM2VvY2p4Y2J1ME1oSUF1dl9xazlyVktIRmNxVG9Ub29leUs5OE1qRnowamw1Wk96bEdodGYwQVlPT2ZYWEJxQ2o1WmVESGpIejktcmFSdWRlMV9oSmxyd1NmTDhFdHDSAXRBVV95cUxON1FURTlmODgxM0ZNdGdyNHhkUEd1c0x3NzRMaGdrZlRXaWI5SUozTWxtUWphVkx0TlRDLXdmelNuV1Jpb3VTVldEZHVoUm9iU1hEMlBTcFNOakNVTkg1X3ExNVotVXpRbElHV2RkZ2hZanRldQ?oc=5)\n",
      "\n",
      "5. **AI시대, 문화혁신 방향 모색…문체부 '디지털혁신 포럼' 개최**  \n",
      "   [뉴스 링크](https://news.google.com/rss/articles/CBMiW0FVX3lxTE1LbzNKM0RaSDFGWGtJRzgtUkhuUEUzNnpzRjBrc2w2QmJtRFlkaVZPSEkxSW0tMm8xamt0ZlAwbngxQTJvRDI5NlFjNDYxaHoteVprUFMyaWVrVHfSAV5BVV95cUxQcjhZY0REVUNsdkYzd1hkcnI4Qmg2NVdTekRfSmNTZ09DSnFxZ2U2Z2I3OEVpX0dhS0thU05sMFZIbXh3azNkOEhwOFdpNUVoUHlfSkVycmpzTUNiOUZn?oc=5)\n",
      "\n",
      "이 뉴스들은 최신 AI 기술과 관련된 다양한 주제를 다루고 있습니다.\n"
     ]
    }
   ],
   "source": [
    "# `None`는 현재 상태에 아무것도 추가하지 않음\n",
    "events = graph.stream(None, config, stream_mode=\"values\")\n",
    "\n",
    "# 이벤트 반복 처리\n",
    "for event in events:\n",
    "    # 메시지가 이벤트에 포함된 경우\n",
    "    if \"messages\" in event:\n",
    "        # 마지막 메시지의 예쁜 출력\n",
    "        event[\"messages\"][-1].pretty_print()"
   ]
  },
  {
   "cell_type": "markdown",
   "metadata": {},
   "source": [
    "to_replay로 상태 저장"
   ]
  },
  {
   "cell_type": "code",
   "execution_count": 10,
   "metadata": {},
   "outputs": [
    {
     "name": "stdout",
     "output_type": "stream",
     "text": [
      "[HumanMessage(content='AI 관련 최신 뉴스를 알려주세요.', additional_kwargs={}, response_metadata={}, id='f8f72246-7671-4e5a-972c-9378ce6108c4'), AIMessage(content='', additional_kwargs={'tool_calls': [{'id': 'call_Ehgr6C0f3kdqhRg4sFaQ5kum', 'function': {'arguments': '{\"query\":\"AI\"}', 'name': 'search_keyword'}, 'type': 'function'}], 'refusal': None}, response_metadata={'token_usage': {'completion_tokens': 14, 'prompt_tokens': 51, 'total_tokens': 65, 'completion_tokens_details': {'reasoning_tokens': 0, 'accepted_prediction_tokens': 0, 'rejected_prediction_tokens': 0}, 'prompt_tokens_details': {'cached_tokens': 0}}, 'model_name': 'gpt-4o-mini-2024-07-18', 'system_fingerprint': 'fp_0ba0d124f1', 'finish_reason': 'tool_calls', 'logprobs': None}, id='run-90cdb57e-d621-4f27-9ec0-7be12ead1b8b-0', tool_calls=[{'name': 'search_keyword', 'args': {'query': 'AI'}, 'id': 'call_Ehgr6C0f3kdqhRg4sFaQ5kum', 'type': 'tool_call'}], usage_metadata={'input_tokens': 51, 'output_tokens': 14, 'total_tokens': 65}), ToolMessage(content='[{\"url\": \"https://news.google.com/rss/articles/CBMiYEFVX3lxTE93ZzFNeGNPb1dsbU9iUmwtbi1EcGZnekRZWkNTd1RiaDRMaXk2dnRKTWhJbWh2NGxwc1gxSG96dm8xR1BOS2hHbmlnc0EtZlJkTW93bTNudmxEazE3YVg2dNIBeEFVX3lxTFB3d1JfVl9XVFRUWEVVR1NZbURtVEdRZ1JvRHdZbkJVQzNhMUF6Mm5pckZMeTFQUlR0X09zY201YWI1eTJSZjdPMU1UYlJvZnBPMHNEVkpkSDFzMmhBWDBaem5xT08xRjc4NEV3Z3pScG1sXzIyYkU5VQ?oc=5\", \"content\": \"대덕전자, AMD향 \\'AI 가속기\\' MLB 공급 최종승인 앞둬 - 뉴시스\"}, {\"url\": \"https://news.google.com/rss/articles/CBMiYEFVX3lxTE9DRnpMTlFBQ2hQQkctalB2LWQ1aFhhNVFFNzZnbXVPcnE3MndSVWRxRTk2S2FhWkFja21QeDVYTUhOVGNnVXl4YkY1eXgtdXZRWlpWckJYOVVYUUFqTlhUMQ?oc=5\", \"content\": \"‘AI 지우기’ 아이폰·갤럭시 대결…‘인생샷’에 찍힌 관광객 지워봤다 - 한겨레\"}, {\"url\": \"https://news.google.com/rss/articles/CBMiakFVX3lxTE1aRm1RR2FoWW9Ld3EyTkd2RlF2NlhfV0RwS0l6VW9BTlBDYUpQVnZ3ay1rRDZwTWVYTHZNR3AwSFI4dmhVVnlielJwcXFjU1RPNDM3YmkwaVJ3WU5rd0dPYjhMZC1sLUI4UUE?oc=5\", \"content\": \"[11월5일] 텍스트보다 이미지가 편향 심각...이제는 AI 검색 및 알고리즘 추천으로 확대 - AI타임스\"}, {\"url\": \"https://news.google.com/rss/articles/CBMicEFVX3lxTE9XZGdhSHpkcEVXM2VvY2p4Y2J1ME1oSUF1dl9xazlyVktIRmNxVG9Ub29leUs5OE1qRnowamw1Wk96bEdodGYwQVlPT2ZYWEJxQ2o1WmVESGpIejktcmFSdWRlMV9oSmxyd1NmTDhFdHDSAXRBVV95cUxON1FURTlmODgxM0ZNdGdyNHhkUEd1c0x3NzRMaGdrZlRXaWI5SUozTWxtUWphVkx0TlRDLXdmelNuV1Jpb3VTVldEZHVoUm9iU1hEMlBTcFNOakNVTkg1X3ExNVotVXpRbElHV2RkZ2hZanRldQ?oc=5\", \"content\": \"[시사금융용어] 소버린 AI - 연합인포맥스\"}, {\"url\": \"https://news.google.com/rss/articles/CBMiW0FVX3lxTE1LbzNKM0RaSDFGWGtJRzgtUkhuUEUzNnpzRjBrc2w2QmJtRFlkaVZPSEkxSW0tMm8xamt0ZlAwbngxQTJvRDI5NlFjNDYxaHoteVprUFMyaWVrVHfSAV5BVV95cUxQcjhZY0REVUNsdkYzd1hkcnI4Qmg2NVdTekRfSmNTZ09DSnFxZ2U2Z2I3OEVpX0dhS0thU05sMFZIbXh3azNkOEhwOFdpNUVoUHlfSkVycmpzTUNiOUZn?oc=5\", \"content\": \"AI시대, 문화혁신 방향 모색…문체부 \\'디지털혁신 포럼\\' 개최 - 연합뉴스\"}]', name='search_keyword', id='d89627bb-44f0-4611-8f42-6e7c037f1410', tool_call_id='call_Ehgr6C0f3kdqhRg4sFaQ5kum'), AIMessage(content=\"다음은 AI 관련 최신 뉴스입니다:\\n\\n1. **대덕전자, AMD향 'AI 가속기' MLB 공급 최종승인 앞둬**  \\n   [뉴스 링크](https://news.google.com/rss/articles/CBMiYEFVX3lxTE93ZzFNeGNPb1dsbU9iUmwtbi1EcGZnekRZWkNTd1RiaDRMaXk2dnRKTWhJbWh2NGxwc1gxSG96dm8xR1BOS2hHbmlnc0EtZlJkTW93bTNudmxEazE3YVg2dNIBeEFVX3lxTFB3d1JfVl9XVFRUWEVVR1NZbURtVEdRZ1JvRHdZbkJVQzNhMUF6Mm5pckZMeTFQUlR0X09zY201YWI1eTJSZjdPMU1UYlJvZnBPMHNEVkpkSDFzMmhBWDBaem5xT08xRjc4NEV3Z3pScG1sXzIyYkU5VQ?oc=5)\\n\\n2. **‘AI 지우기’ 아이폰·갤럭시 대결…‘인생샷’에 찍힌 관광객 지워봤다**  \\n   [뉴스 링크](https://news.google.com/rss/articles/CBMiYEFVX3lxTE9DRnpMTlFBQ2hQQkctalB2LWQ1aFhhNVFFNzZnbXVPcnE3MndSVWRxRTk2S2FhWkFja21QeDVYTUhOVGNnVXl4YkY1eXgtdXZRWlpWckJYOVVYUUFqTlhUMQ?oc=5)\\n\\n3. **[11월5일] 텍스트보다 이미지가 편향 심각...이제는 AI 검색 및 알고리즘 추천으로 확대**  \\n   [뉴스 링크](https://news.google.com/rss/articles/CBMiakFVX3lxTE1aRm1RR2FoWW9Ld3EyTkd2RlF2NlhfV0RwS0l6VW9BTlBDYUpQVnZ3ay1rRDZwTWVYTHZNR3AwSFI4dmhVVnlielJwcXFjU1RPNDM3YmkwaVJ3WU5rd0dPYjhMZC1sLUI4UUE?oc=5)\\n\\n4. **[시사금융용어] 소버린 AI**  \\n   [뉴스 링크](https://news.google.com/rss/articles/CBMicEFVX3lxTE9XZGdhSHpkcEVXM2VvY2p4Y2J1ME1oSUF1dl9xazlyVktIRmNxVG9Ub29leUs5OE1qRnowamw1Wk96bEdodGYwQVlPT2ZYWEJxQ2o1WmVESGpIejktcmFSdWRlMV9oSmxyd1NmTDhFdHDSAXRBVV95cUxON1FURTlmODgxM0ZNdGdyNHhkUEd1c0x3NzRMaGdrZlRXaWI5SUozTWxtUWphVkx0TlRDLXdmelNuV1Jpb3VTVldEZHVoUm9iU1hEMlBTcFNOakNVTkg1X3ExNVotVXpRbElHV2RkZ2hZanRldQ?oc=5)\\n\\n5. **AI시대, 문화혁신 방향 모색…문체부 '디지털혁신 포럼' 개최**  \\n   [뉴스 링크](https://news.google.com/rss/articles/CBMiW0FVX3lxTE1LbzNKM0RaSDFGWGtJRzgtUkhuUEUzNnpzRjBrc2w2QmJtRFlkaVZPSEkxSW0tMm8xamt0ZlAwbngxQTJvRDI5NlFjNDYxaHoteVprUFMyaWVrVHfSAV5BVV95cUxQcjhZY0REVUNsdkYzd1hkcnI4Qmg2NVdTekRfSmNTZ09DSnFxZ2U2Z2I3OEVpX0dhS0thU05sMFZIbXh3azNkOEhwOFdpNUVoUHlfSkVycmpzTUNiOUZn?oc=5)\\n\\n이 뉴스들은 최신 AI 기술과 관련된 다양한 주제를 다루고 있습니다.\", additional_kwargs={'refusal': None}, response_metadata={'token_usage': {'completion_tokens': 1032, 'prompt_tokens': 1096, 'total_tokens': 2128, 'completion_tokens_details': {'reasoning_tokens': 0, 'accepted_prediction_tokens': 0, 'rejected_prediction_tokens': 0}, 'prompt_tokens_details': {'cached_tokens': 0}}, 'model_name': 'gpt-4o-mini-2024-07-18', 'system_fingerprint': 'fp_0ba0d124f1', 'finish_reason': 'stop', 'logprobs': None}, id='run-acaf0118-46f9-4599-8b28-213fafc0747e-0', usage_metadata={'input_tokens': 1096, 'output_tokens': 1032, 'total_tokens': 2128})]\n",
      "메시지 수:  4 다음 노드:  ()\n",
      "--------------------------------------------------------------------------------\n",
      "[HumanMessage(content='AI 관련 최신 뉴스를 알려주세요.', additional_kwargs={}, response_metadata={}, id='f8f72246-7671-4e5a-972c-9378ce6108c4'), AIMessage(content='', additional_kwargs={'tool_calls': [{'id': 'call_Ehgr6C0f3kdqhRg4sFaQ5kum', 'function': {'arguments': '{\"query\":\"AI\"}', 'name': 'search_keyword'}, 'type': 'function'}], 'refusal': None}, response_metadata={'token_usage': {'completion_tokens': 14, 'prompt_tokens': 51, 'total_tokens': 65, 'completion_tokens_details': {'reasoning_tokens': 0, 'accepted_prediction_tokens': 0, 'rejected_prediction_tokens': 0}, 'prompt_tokens_details': {'cached_tokens': 0}}, 'model_name': 'gpt-4o-mini-2024-07-18', 'system_fingerprint': 'fp_0ba0d124f1', 'finish_reason': 'tool_calls', 'logprobs': None}, id='run-90cdb57e-d621-4f27-9ec0-7be12ead1b8b-0', tool_calls=[{'name': 'search_keyword', 'args': {'query': 'AI'}, 'id': 'call_Ehgr6C0f3kdqhRg4sFaQ5kum', 'type': 'tool_call'}], usage_metadata={'input_tokens': 51, 'output_tokens': 14, 'total_tokens': 65}), ToolMessage(content='[{\"url\": \"https://news.google.com/rss/articles/CBMiYEFVX3lxTE93ZzFNeGNPb1dsbU9iUmwtbi1EcGZnekRZWkNTd1RiaDRMaXk2dnRKTWhJbWh2NGxwc1gxSG96dm8xR1BOS2hHbmlnc0EtZlJkTW93bTNudmxEazE3YVg2dNIBeEFVX3lxTFB3d1JfVl9XVFRUWEVVR1NZbURtVEdRZ1JvRHdZbkJVQzNhMUF6Mm5pckZMeTFQUlR0X09zY201YWI1eTJSZjdPMU1UYlJvZnBPMHNEVkpkSDFzMmhBWDBaem5xT08xRjc4NEV3Z3pScG1sXzIyYkU5VQ?oc=5\", \"content\": \"대덕전자, AMD향 \\'AI 가속기\\' MLB 공급 최종승인 앞둬 - 뉴시스\"}, {\"url\": \"https://news.google.com/rss/articles/CBMiYEFVX3lxTE9DRnpMTlFBQ2hQQkctalB2LWQ1aFhhNVFFNzZnbXVPcnE3MndSVWRxRTk2S2FhWkFja21QeDVYTUhOVGNnVXl4YkY1eXgtdXZRWlpWckJYOVVYUUFqTlhUMQ?oc=5\", \"content\": \"‘AI 지우기’ 아이폰·갤럭시 대결…‘인생샷’에 찍힌 관광객 지워봤다 - 한겨레\"}, {\"url\": \"https://news.google.com/rss/articles/CBMiakFVX3lxTE1aRm1RR2FoWW9Ld3EyTkd2RlF2NlhfV0RwS0l6VW9BTlBDYUpQVnZ3ay1rRDZwTWVYTHZNR3AwSFI4dmhVVnlielJwcXFjU1RPNDM3YmkwaVJ3WU5rd0dPYjhMZC1sLUI4UUE?oc=5\", \"content\": \"[11월5일] 텍스트보다 이미지가 편향 심각...이제는 AI 검색 및 알고리즘 추천으로 확대 - AI타임스\"}, {\"url\": \"https://news.google.com/rss/articles/CBMicEFVX3lxTE9XZGdhSHpkcEVXM2VvY2p4Y2J1ME1oSUF1dl9xazlyVktIRmNxVG9Ub29leUs5OE1qRnowamw1Wk96bEdodGYwQVlPT2ZYWEJxQ2o1WmVESGpIejktcmFSdWRlMV9oSmxyd1NmTDhFdHDSAXRBVV95cUxON1FURTlmODgxM0ZNdGdyNHhkUEd1c0x3NzRMaGdrZlRXaWI5SUozTWxtUWphVkx0TlRDLXdmelNuV1Jpb3VTVldEZHVoUm9iU1hEMlBTcFNOakNVTkg1X3ExNVotVXpRbElHV2RkZ2hZanRldQ?oc=5\", \"content\": \"[시사금융용어] 소버린 AI - 연합인포맥스\"}, {\"url\": \"https://news.google.com/rss/articles/CBMiW0FVX3lxTE1LbzNKM0RaSDFGWGtJRzgtUkhuUEUzNnpzRjBrc2w2QmJtRFlkaVZPSEkxSW0tMm8xamt0ZlAwbngxQTJvRDI5NlFjNDYxaHoteVprUFMyaWVrVHfSAV5BVV95cUxQcjhZY0REVUNsdkYzd1hkcnI4Qmg2NVdTekRfSmNTZ09DSnFxZ2U2Z2I3OEVpX0dhS0thU05sMFZIbXh3azNkOEhwOFdpNUVoUHlfSkVycmpzTUNiOUZn?oc=5\", \"content\": \"AI시대, 문화혁신 방향 모색…문체부 \\'디지털혁신 포럼\\' 개최 - 연합뉴스\"}]', name='search_keyword', id='d89627bb-44f0-4611-8f42-6e7c037f1410', tool_call_id='call_Ehgr6C0f3kdqhRg4sFaQ5kum')]\n",
      "메시지 수:  3 다음 노드:  ('chatbot',)\n",
      "--------------------------------------------------------------------------------\n",
      "[HumanMessage(content='AI 관련 최신 뉴스를 알려주세요.', additional_kwargs={}, response_metadata={}, id='f8f72246-7671-4e5a-972c-9378ce6108c4'), AIMessage(content='', additional_kwargs={'tool_calls': [{'id': 'call_Ehgr6C0f3kdqhRg4sFaQ5kum', 'function': {'arguments': '{\"query\":\"AI\"}', 'name': 'search_keyword'}, 'type': 'function'}], 'refusal': None}, response_metadata={'token_usage': {'completion_tokens': 14, 'prompt_tokens': 51, 'total_tokens': 65, 'completion_tokens_details': {'reasoning_tokens': 0, 'accepted_prediction_tokens': 0, 'rejected_prediction_tokens': 0}, 'prompt_tokens_details': {'cached_tokens': 0}}, 'model_name': 'gpt-4o-mini-2024-07-18', 'system_fingerprint': 'fp_0ba0d124f1', 'finish_reason': 'tool_calls', 'logprobs': None}, id='run-90cdb57e-d621-4f27-9ec0-7be12ead1b8b-0', tool_calls=[{'name': 'search_keyword', 'args': {'query': 'AI'}, 'id': 'call_Ehgr6C0f3kdqhRg4sFaQ5kum', 'type': 'tool_call'}], usage_metadata={'input_tokens': 51, 'output_tokens': 14, 'total_tokens': 65})]\n",
      "메시지 수:  2 다음 노드:  ('tools',)\n",
      "--------------------------------------------------------------------------------\n",
      "[HumanMessage(content='AI 관련 최신 뉴스를 알려주세요.', additional_kwargs={}, response_metadata={}, id='f8f72246-7671-4e5a-972c-9378ce6108c4')]\n",
      "메시지 수:  1 다음 노드:  ('chatbot',)\n",
      "--------------------------------------------------------------------------------\n",
      "[]\n",
      "메시지 수:  0 다음 노드:  ('__start__',)\n",
      "--------------------------------------------------------------------------------\n"
     ]
    }
   ],
   "source": [
    "to_replay = None\n",
    "\n",
    "# 상태 기록 가져오기\n",
    "for state in graph.get_state_history(config):\n",
    "    # 메시지 수 및 다음 상태 출력\n",
    "    print(state.values[\"messages\"])\n",
    "    print(\"메시지 수: \", len(state.values[\"messages\"]), \"다음 노드: \", state.next)\n",
    "    print(\"-\" * 80)\n",
    "    # 특정 상태 선택 기준: 채팅 메시지 수\n",
    "    if len(state.values[\"messages\"]) == 3:\n",
    "\n",
    "        to_replay = state"
   ]
  },
  {
   "cell_type": "markdown",
   "metadata": {},
   "source": [
    "to_replay 저장된 상태를 stream에 넣으면 그 상태부터 이어서 진행할 수 있음"
   ]
  },
  {
   "cell_type": "code",
   "execution_count": 11,
   "metadata": {},
   "outputs": [
    {
     "name": "stdout",
     "output_type": "stream",
     "text": [
      "=================================\u001b[1m Tool Message \u001b[0m=================================\n",
      "Name: search_keyword\n",
      "\n",
      "[{\"url\": \"https://news.google.com/rss/articles/CBMiYEFVX3lxTE93ZzFNeGNPb1dsbU9iUmwtbi1EcGZnekRZWkNTd1RiaDRMaXk2dnRKTWhJbWh2NGxwc1gxSG96dm8xR1BOS2hHbmlnc0EtZlJkTW93bTNudmxEazE3YVg2dNIBeEFVX3lxTFB3d1JfVl9XVFRUWEVVR1NZbURtVEdRZ1JvRHdZbkJVQzNhMUF6Mm5pckZMeTFQUlR0X09zY201YWI1eTJSZjdPMU1UYlJvZnBPMHNEVkpkSDFzMmhBWDBaem5xT08xRjc4NEV3Z3pScG1sXzIyYkU5VQ?oc=5\", \"content\": \"대덕전자, AMD향 'AI 가속기' MLB 공급 최종승인 앞둬 - 뉴시스\"}, {\"url\": \"https://news.google.com/rss/articles/CBMiYEFVX3lxTE9DRnpMTlFBQ2hQQkctalB2LWQ1aFhhNVFFNzZnbXVPcnE3MndSVWRxRTk2S2FhWkFja21QeDVYTUhOVGNnVXl4YkY1eXgtdXZRWlpWckJYOVVYUUFqTlhUMQ?oc=5\", \"content\": \"‘AI 지우기’ 아이폰·갤럭시 대결…‘인생샷’에 찍힌 관광객 지워봤다 - 한겨레\"}, {\"url\": \"https://news.google.com/rss/articles/CBMiakFVX3lxTE1aRm1RR2FoWW9Ld3EyTkd2RlF2NlhfV0RwS0l6VW9BTlBDYUpQVnZ3ay1rRDZwTWVYTHZNR3AwSFI4dmhVVnlielJwcXFjU1RPNDM3YmkwaVJ3WU5rd0dPYjhMZC1sLUI4UUE?oc=5\", \"content\": \"[11월5일] 텍스트보다 이미지가 편향 심각...이제는 AI 검색 및 알고리즘 추천으로 확대 - AI타임스\"}, {\"url\": \"https://news.google.com/rss/articles/CBMicEFVX3lxTE9XZGdhSHpkcEVXM2VvY2p4Y2J1ME1oSUF1dl9xazlyVktIRmNxVG9Ub29leUs5OE1qRnowamw1Wk96bEdodGYwQVlPT2ZYWEJxQ2o1WmVESGpIejktcmFSdWRlMV9oSmxyd1NmTDhFdHDSAXRBVV95cUxON1FURTlmODgxM0ZNdGdyNHhkUEd1c0x3NzRMaGdrZlRXaWI5SUozTWxtUWphVkx0TlRDLXdmelNuV1Jpb3VTVldEZHVoUm9iU1hEMlBTcFNOakNVTkg1X3ExNVotVXpRbElHV2RkZ2hZanRldQ?oc=5\", \"content\": \"[시사금융용어] 소버린 AI - 연합인포맥스\"}, {\"url\": \"https://news.google.com/rss/articles/CBMiW0FVX3lxTE1LbzNKM0RaSDFGWGtJRzgtUkhuUEUzNnpzRjBrc2w2QmJtRFlkaVZPSEkxSW0tMm8xamt0ZlAwbngxQTJvRDI5NlFjNDYxaHoteVprUFMyaWVrVHfSAV5BVV95cUxQcjhZY0REVUNsdkYzd1hkcnI4Qmg2NVdTekRfSmNTZ09DSnFxZ2U2Z2I3OEVpX0dhS0thU05sMFZIbXh3azNkOEhwOFdpNUVoUHlfSkVycmpzTUNiOUZn?oc=5\", \"content\": \"AI시대, 문화혁신 방향 모색…문체부 '디지털혁신 포럼' 개최 - 연합뉴스\"}]\n",
      "==================================\u001b[1m Ai Message \u001b[0m==================================\n",
      "\n",
      "다음은 AI 관련 최신 뉴스입니다:\n",
      "\n",
      "1. [대덕전자, AMD향 'AI 가속기' MLB 공급 최종승인 앞둬 - 뉴시스](https://news.google.com/rss/articles/CBMiYEFVX3lxTE93ZzFNeGNPb1dsbU9iUmwtbi1EcGZnekRZWkNTd1RiaDRMaXk2dnRKTWhJbWh2NGxwc1gxSG96dm8xR1BOS2hHbmlnc0EtZlJkTW93bTNudmxEazE3YVg2dNIBeEFVX3lxTFB3d1JfVl9XVFRUWEVVR1NZbURtVEdRZ1JvRHdZbkJVQzNhMUF6Mm5pckZMeTFQUlR0X09zY201YWI1eTJSZjdPMU1UYlJvZnBPMHNEVkpkSDFzMmhBWDBaem5xT08xRjc4NEV3Z3pScG1sXzIyYkU5VQ?oc=5)\n",
      "\n",
      "2. [‘AI 지우기’ 아이폰·갤럭시 대결…‘인생샷’에 찍힌 관광객 지워봤다 - 한겨레](https://news.google.com/rss/articles/CBMiYEFVX3lxTE9DRnpMTlFBQ2hQQkctalB2LWQ1aFhhNVFFNzZnbXVPcnE3MndSVWRxRTk2S2FhWkFja21QeDVYTUhOVGNnVXl4YkY1eXgtdXZRWlpWckJYOVVYUUFqTlhUMQ?oc=5)\n",
      "\n",
      "3. [텍스트보다 이미지가 편향 심각...이제는 AI 검색 및 알고리즘 추천으로 확대 - AI타임스](https://news.google.com/rss/articles/CBMiakFVX3lxTE1aRm1RR2FoWW9Ld3EyTkd2RlF2NlhfV0RwS0l6VW9BTlBDYUpQVnZ3ay1rRDZwTWVYTHZNR3AwSFI4dmhVVnlielJwcXFjU1RPNDM3YmkwaVJ3WU5rd0dPYjhMZC1sLUI4UUE?oc=5)\n",
      "\n",
      "4. [[시사금융용어] 소버린 AI - 연합인포맥스](https://news.google.com/rss/articles/CBMicEFVX3lxTE9XZGdhSHpkcEVXM2VvY2p4Y2J1ME1oSUF1dl9xazlyVktIRmNxVG9Ub29leUs5OE1qRnowamw1Wk96bEdodGYwQVlPT2ZYWEJxQ2o1WmVESGpIejktcmFSdWRlMV9oSmxyd1NmTDhFdHDSAXRBVV95cUxON1FURTlmODgxM0ZNdGdyNHhkUEd1c0x3NzRMaGdrZlRXaWI5SUozTWxtUWphVkx0TlRDLXdmelNuV1Jpb3VTVldEZHVoUm9iU1hEMlBTcFNOakNVTkg1X3ExNVotVXpRbElHV2RkZ2hZanRldQ?oc=5)\n",
      "\n",
      "5. [AI시대, 문화혁신 방향 모색…문체부 '디지털혁신 포럼' 개최 - 연합뉴스](https://news.google.com/rss/articles/CBMiW0FVX3lxTE1LbzNKM0RaSDFGWGtJRzgtUkhuUEUzNnpzRjBrc2w2QmJtRFlkaVZPSEkxSW0tMm8xamt0ZlAwbngxQTJvRDI5NlFjNDYxaHoteVprUFMyaWVrVHfSAV5BVV95cUxQcjhZY0REVUNsdkYzd1hkcnI4Qmg2NVdTekRfSmNTZ09DSnFxZ2U2Z2I3OEVpX0dhS0thU05sMFZIbXh3azNkOEhwOFdpNUVoUHlfSkVycmpzTUNiOUZn?oc=5)\n",
      "\n",
      "이 뉴스들은 AI 기술의 발전 및 적용에 대한 다양한 측면을 다루고 있습니다.\n"
     ]
    }
   ],
   "source": [
    "for event in graph.stream(None, to_replay.config, stream_mode=\"values\"):\n",
    "    # 메시지가 이벤트에 포함된 경우\n",
    "    if \"messages\" in event:\n",
    "        # 마지막 메시지 출력\n",
    "        event[\"messages\"][-1].pretty_print()"
   ]
  }
 ],
 "metadata": {
  "kernelspec": {
   "display_name": "llm",
   "language": "python",
   "name": "python3"
  },
  "language_info": {
   "codemirror_mode": {
    "name": "ipython",
    "version": 3
   },
   "file_extension": ".py",
   "mimetype": "text/x-python",
   "name": "python",
   "nbconvert_exporter": "python",
   "pygments_lexer": "ipython3",
   "version": "3.10.12"
  }
 },
 "nbformat": 4,
 "nbformat_minor": 2
}
