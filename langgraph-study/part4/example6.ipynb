{
 "cells": [
  {
   "cell_type": "markdown",
   "metadata": {},
   "source": [
    "### 이전 코드 세팅"
   ]
  },
  {
   "cell_type": "code",
   "execution_count": 2,
   "metadata": {},
   "outputs": [],
   "source": [
    "import feedparser\n",
    "from urllib.parse import quote\n",
    "from typing import List, Dict, Optional\n",
    "\n",
    "class GoogleNews:\n",
    "    \"\"\"\n",
    "    구글 뉴스를 검색하고 결과를 반환하는 클래스입니다.\n",
    "    \"\"\"\n",
    "\n",
    "    def __init__(self):\n",
    "        self.base_url = \"https://news.google.com/rss\"\n",
    "\n",
    "    def _fetch_news(self, url: str, k: int = 3) -> List[Dict[str, str]]:\n",
    "        news_data = feedparser.parse(url)\n",
    "        return [\n",
    "            {\"title\": entry.title, \"link\": entry.link}\n",
    "            for entry in news_data.entries[:k]\n",
    "        ]\n",
    "\n",
    "    def _collect_news(self, news_list: List[Dict[str, str]]) -> List[Dict[str, str]]:\n",
    "\n",
    "        if not news_list:\n",
    "            print(\"해당 키워드의 뉴스가 없습니다.\")\n",
    "            return []\n",
    "\n",
    "        result = []\n",
    "        for news in news_list:\n",
    "            result.append({\"url\": news[\"link\"], \"content\": news[\"title\"]})\n",
    "\n",
    "        return result\n",
    "\n",
    "    def search_latest(self, k: int = 3) -> List[Dict[str, str]]:\n",
    "        url = f\"{self.base_url}?hl=ko&gl=KR&ceid=KR:ko\"\n",
    "        news_list = self._fetch_news(url, k)\n",
    "        return self._collect_news(news_list)\n",
    "\n",
    "    def search_by_keyword(\n",
    "        self, keyword: Optional[str] = None, k: int = 3\n",
    "    ) -> List[Dict[str, str]]:\n",
    "        if keyword:\n",
    "            encoded_keyword = quote(keyword)\n",
    "            url = f\"{self.base_url}/search?q={encoded_keyword}&hl=ko&gl=KR&ceid=KR:ko\"\n",
    "        else:\n",
    "            url = f\"{self.base_url}?hl=ko&gl=KR&ceid=KR:ko\"\n",
    "        news_list = self._fetch_news(url, k)\n",
    "        return self._collect_news(news_list)"
   ]
  },
  {
   "cell_type": "code",
   "execution_count": 3,
   "metadata": {},
   "outputs": [],
   "source": [
    "from dotenv import load_dotenv\n",
    "from typing import Annotated, List, Dict\n",
    "from typing_extensions import TypedDict\n",
    "\n",
    "from langchain_core.tools import tool\n",
    "from langchain_openai import ChatOpenAI\n",
    "from langgraph.checkpoint.memory import MemorySaver\n",
    "from langgraph.graph import StateGraph, START, END\n",
    "from langgraph.graph.message import add_messages\n",
    "from langgraph.prebuilt import ToolNode, tools_condition\n",
    "\n",
    "load_dotenv()\n",
    "\n",
    "class State(TypedDict):\n",
    "    messages: Annotated[list, add_messages]\n",
    "\n",
    "news_tool = GoogleNews()\n",
    "\n",
    "\n",
    "@tool\n",
    "def search_keyword(query: str) -> List[Dict[str, str]]:\n",
    "    \"\"\"Look up news by keyword\"\"\"\n",
    "    news_tool = GoogleNews()\n",
    "    return news_tool.search_by_keyword(query, k=5)\n",
    "\n",
    "\n",
    "tools = [search_keyword]\n",
    "\n",
    "llm = ChatOpenAI(model=\"gpt-4o-mini\")\n",
    "\n",
    "llm_with_tools = llm.bind_tools(tools)\n",
    "\n",
    "def chatbot(state: State):\n",
    "    return {\"messages\": [llm_with_tools.invoke(state[\"messages\"])]}\n",
    "\n",
    "graph_builder = StateGraph(State)\n",
    "\n",
    "graph_builder.add_node(\"chatbot\", chatbot)\n",
    "\n",
    "tool_node = ToolNode(tools=tools)\n",
    "\n",
    "graph_builder.add_node(\"tools\", tool_node)\n",
    "\n",
    "graph_builder.add_conditional_edges(\n",
    "    \"chatbot\",\n",
    "    tools_condition,\n",
    ")\n",
    "\n",
    "graph_builder.add_edge(\"tools\", \"chatbot\")\n",
    "\n",
    "graph_builder.add_edge(START, \"chatbot\")\n",
    "\n",
    "graph_builder.add_edge(\"chatbot\", END)\n",
    "\n",
    "memory = MemorySaver()\n",
    "\n",
    "graph = graph_builder.compile(checkpointer=memory)"
   ]
  },
  {
   "cell_type": "code",
   "execution_count": 4,
   "metadata": {},
   "outputs": [],
   "source": [
    "from langchain_core.runnables import RunnableConfig\n",
    "\n",
    "# 질문\n",
    "question = \"LangGraph 가 무엇인지 조사하여 알려주세요!\"\n",
    "\n",
    "# 초기 입력 상태를 정의\n",
    "input = State(messages=[(\"user\", question)])\n",
    "\n",
    "# config 설정\n",
    "config = RunnableConfig(\n",
    "    configurable={\"thread_id\": \"1\"},  # 스레드 ID 설정\n",
    ")"
   ]
  },
  {
   "cell_type": "code",
   "execution_count": 5,
   "metadata": {},
   "outputs": [
    {
     "data": {
      "text/plain": [
       "['messages',\n",
       " '__start__',\n",
       " 'chatbot',\n",
       " 'tools',\n",
       " 'start:chatbot',\n",
       " 'branch:chatbot:tools_condition:chatbot',\n",
       " 'branch:chatbot:tools_condition:tools']"
      ]
     },
     "execution_count": 5,
     "metadata": {},
     "output_type": "execute_result"
    }
   ],
   "source": [
    "list(graph.channels)"
   ]
  },
  {
   "cell_type": "markdown",
   "metadata": {},
   "source": [
    "tools 에서 interrupt before 걸리도록"
   ]
  },
  {
   "cell_type": "code",
   "execution_count": 6,
   "metadata": {},
   "outputs": [
    {
     "name": "stdout",
     "output_type": "stream",
     "text": [
      "================================\u001b[1m Human Message \u001b[0m=================================\n",
      "\n",
      "LangGraph 가 무엇인지 조사하여 알려주세요!\n",
      "==================================\u001b[1m Ai Message \u001b[0m==================================\n",
      "Tool Calls:\n",
      "  search_keyword (call_zyzjRbv24s72LH31uFs7eUXR)\n",
      " Call ID: call_zyzjRbv24s72LH31uFs7eUXR\n",
      "  Args:\n",
      "    query: LangGraph\n"
     ]
    }
   ],
   "source": [
    "# 그래프 스트림 호출\n",
    "events = graph.stream(\n",
    "    input=input, config=config, interrupt_before=[\"tools\"], stream_mode=\"values\"\n",
    ")\n",
    "\n",
    "# 이벤트 반복 처리\n",
    "for event in events:\n",
    "    # 메시지가 이벤트에 포함된 경우\n",
    "    if \"messages\" in event:\n",
    "        # 마지막 메시지의 예쁜 출력\n",
    "        event[\"messages\"][-1].pretty_print()"
   ]
  },
  {
   "cell_type": "code",
   "execution_count": 7,
   "metadata": {},
   "outputs": [
    {
     "name": "stdout",
     "output_type": "stream",
     "text": [
      "==================================\u001b[1m Ai Message \u001b[0m==================================\n",
      "Tool Calls:\n",
      "  search_keyword (call_zyzjRbv24s72LH31uFs7eUXR)\n",
      " Call ID: call_zyzjRbv24s72LH31uFs7eUXR\n",
      "  Args:\n",
      "    query: LangGraph\n"
     ]
    }
   ],
   "source": [
    "# 그래프 상태 스냅샷 생성\n",
    "snapshot = graph.get_state(config)\n",
    "\n",
    "# 가장 최근 메시지 추출\n",
    "last_message = snapshot.values[\"messages\"][-1]\n",
    "\n",
    "# 메시지 출력\n",
    "last_message.pretty_print()"
   ]
  },
  {
   "cell_type": "markdown",
   "metadata": {},
   "source": [
    "### 지금부터 진행하는 것은 사람이 직접 개입해서 상태를 바꾸는 것이다.\n",
    "\n",
    "#### 예시로 진행하는 것은 tool 호출 부분을 개입해서 바꿀 것이다."
   ]
  },
  {
   "cell_type": "markdown",
   "metadata": {},
   "source": [
    "먼저 도구 호출 id 획득"
   ]
  },
  {
   "cell_type": "code",
   "execution_count": 8,
   "metadata": {},
   "outputs": [
    {
     "name": "stdout",
     "output_type": "stream",
     "text": [
      "call_zyzjRbv24s72LH31uFs7eUXR\n"
     ]
    }
   ],
   "source": [
    "tool_call_id = last_message.tool_calls[0][\"id\"]\n",
    "print(tool_call_id)"
   ]
  },
  {
   "cell_type": "code",
   "execution_count": 9,
   "metadata": {},
   "outputs": [
    {
     "name": "stdout",
     "output_type": "stream",
     "text": [
      "[수정된 웹 검색 결과] \n",
      "LangGraph 말고 LangChain으로 검색하세요.\n",
      "\n",
      "테디노트의 [랭체인 한국어 튜토리얼](https://wikidocs.net/233785) 을 참고하세요.\n"
     ]
    }
   ],
   "source": [
    "modified_search_result = \"\"\"[수정된 웹 검색 결과] \n",
    "LangGraph 말고 LangChain으로 검색하세요.\n",
    "\n",
    "테디노트의 [랭체인 한국어 튜토리얼](https://wikidocs.net/233785) 을 참고하세요.\"\"\"\n",
    "\n",
    "print(modified_search_result)"
   ]
  },
  {
   "cell_type": "markdown",
   "metadata": {},
   "source": [
    "상태 변경"
   ]
  },
  {
   "cell_type": "code",
   "execution_count": 10,
   "metadata": {},
   "outputs": [
    {
     "name": "stdout",
     "output_type": "stream",
     "text": [
      "=================================\u001b[1m Tool Message \u001b[0m=================================\n",
      "\n",
      "[수정된 웹 검색 결과] \n",
      "LangGraph 말고 LangChain으로 검색하세요.\n",
      "\n",
      "테디노트의 [랭체인 한국어 튜토리얼](https://wikidocs.net/233785) 을 참고하세요.\n"
     ]
    }
   ],
   "source": [
    "from langchain_core.messages import AIMessage, ToolMessage\n",
    "\n",
    "new_messages = [\n",
    "    # LLM API의 도구 호출과 일치하는 ToolMessage 필요\n",
    "    ToolMessage(\n",
    "        content=modified_search_result,\n",
    "        tool_call_id=tool_call_id,\n",
    "    ),\n",
    "    # LLM의 응답에 직접적으로 내용 추가\n",
    "    # AIMessage(content=modified_search_result),\n",
    "]\n",
    "\n",
    "new_messages[-1].pretty_print()"
   ]
  },
  {
   "cell_type": "markdown",
   "metadata": {},
   "source": [
    "다시 시작할 때 변경된 메시지를 집어 넣을 예정"
   ]
  },
  {
   "cell_type": "code",
   "execution_count": 11,
   "metadata": {},
   "outputs": [
    {
     "name": "stdout",
     "output_type": "stream",
     "text": [
      "(최근 1개의 메시지 출력)\n",
      "\n",
      "content='[수정된 웹 검색 결과] \\nLangGraph 말고 LangChain으로 검색하세요.\\n\\n테디노트의 [랭체인 한국어 튜토리얼](https://wikidocs.net/233785) 을 참고하세요.' id='7cfe0022-57f1-4612-af67-8e8a058bb7dd' tool_call_id='call_zyzjRbv24s72LH31uFs7eUXR'\n"
     ]
    }
   ],
   "source": [
    "graph.update_state(\n",
    "    # 업데이트할 상태 지정\n",
    "    config,\n",
    "    # 제공할 업데이트된 값. `State`의 메시지는 \"추가 전용\"으로 기존 상태에 추가됨\n",
    "    {\"messages\": new_messages},\n",
    "    as_node=\"tools\",\n",
    ")\n",
    "\n",
    "print(\"(최근 1개의 메시지 출력)\\n\")\n",
    "print(graph.get_state(config).values[\"messages\"][-1])"
   ]
  },
  {
   "cell_type": "code",
   "execution_count": 12,
   "metadata": {},
   "outputs": [
    {
     "name": "stdout",
     "output_type": "stream",
     "text": [
      "=================================\u001b[1m Tool Message \u001b[0m=================================\n",
      "\n",
      "[수정된 웹 검색 결과] \n",
      "LangGraph 말고 LangChain으로 검색하세요.\n",
      "\n",
      "테디노트의 [랭체인 한국어 튜토리얼](https://wikidocs.net/233785) 을 참고하세요.\n",
      "==================================\u001b[1m Ai Message \u001b[0m==================================\n",
      "Tool Calls:\n",
      "  search_keyword (call_iiRF0fGqOoCEQiq6dJdgRcts)\n",
      " Call ID: call_iiRF0fGqOoCEQiq6dJdgRcts\n",
      "  Args:\n",
      "    query: LangChain\n",
      "=================================\u001b[1m Tool Message \u001b[0m=================================\n",
      "Name: search_keyword\n",
      "\n",
      "[{\"url\": \"https://news.google.com/rss/articles/CBMieEFVX3lxTE15VWVUMHAxYVdMcmpKWnhHLXVRZnh4LVB5cnd0Vldia2ZlRmNGMnByWVVlWXJMakhyZTJKVlJvMWRIRkRjVTFuUE52WU9oVnN2VkM1UTRnWThFLVRaaE04TDZKM0VzbmNJMkFLLWoyNzc0SktDVXJ4Rw?oc=5\", \"content\": \"가볍게 훑어보는 LangChain (랭체인) | 인사이트리포트 | 삼성SDS - Samsung SDS\"}, {\"url\": \"https://news.google.com/rss/articles/CBMisANBVV95cUxOLXNzMUpYX3NHa1FVMkI0TTFmSGRFZ05vVTNKYnlta04wRUF0SlRVLXltbHhoQk1BcjJHR1ZFRFJLZnFUMGxveXl0MElNdXBVZjRQeDVrZkdRczU5MEY2RFZEb1ZZU21fRE44X0ZtUko0QmJfZjc2OVZjOXprMXBpVXhfbTNmTklNNzJ4LTNfRWZfZkhYY0NrN0N0WGgweHhBMEQ1ZElXQXE1WFlBQTlBa1NvR1owOUNQMXp6d1l1XzRZcTI2RTQ2Q3ZQR2YwcC1mb212SmlBMUZJYzNDaTJqN0NBcXpmbnIzNVVOZG95QUdvRmxUaWdwNzZsczRKNUNRdm5qZVNMWmVqRGdaWWRKT2JCUHd3UVA4MW1rbDVTV1B2aFdvVUR4QWRrSnRPaDh4M0ZaVTVQbnZkSktwX2lLeEh0VmFCUjhiQ1dWXzcxYVpRNkV4bEZDRm1oRkVyc2FwU0UzMklaM0VibXByQ2JwZmYxXzczNXFTMzdqamEtVkh3QTJrSlhra1NtRkxmbWNYdTQ2NllKNmJRTG9JcGxKUHR6TjVFTEpZY1BVYWNha2g?oc=5\", \"content\": \"LangChain을 사용하여 RAG 애플리케이션을 빌드하는 것에 대한 포괄적인 튜토리얼 - HackerNoon\"}, {\"url\": \"https://news.google.com/rss/articles/CBMipAFBVV95cUxNMTZEUmQ3MTd6Q3BWblRSOHMzZ1N1ekYzamNLbnVlcG13ZXFTUEp2SHZJajMtMWVrNklTSmVwT3dCX3I0YUJBQnBUM3NTdHlUTlVLci1IRWV6X0hhU2lVZURtNEFaVmdQSEpIaHNxOGZzRGJXLUMzQmhsMjlfd0hodWF4X0JBTzJjQ25DV004MDJOUkswbTdrVkJ0bkhTTlhqOWJGUg?oc=5\", \"content\": \"랭체인 아키텍처 및 동작 메커니즘 분석 - 캐드앤그래픽스\"}, {\"url\": \"https://news.google.com/rss/articles/CBMimAJBVV95cUxNOVZyeVBUMFRrbHYxaVYzWEFlNFNlZWpYaUxacEJxVjRfMFNsbUJwMWt0OTlNZE9QbVJucUZMQ1llSGRhcjdpeGdpQnFvelFnajNfZlczSHhISE1RTWtvSDl3cmlxeGk0RVJGZ2dfSEMtak13NHJCOXozbFE0UUptaXE2ZzU0ZjRjcFhaaWpDZ3dJMEcyendhY2ViZFZEbHpjYWFsVlBxNmhRQzh3UmdEVV95WWJNLWREYW1TUDNhcktrVDgyM2hnN3lJTGdOeFVFb2QzN05MX2FKMG1xaVhWaXJhLTJZckhfVGtzNGFNRk02ZGRlS1djZDRnNElpekhhc3A2eDRpM3A5djZqNWRnRWgtVHNsdWxl0gGYAkFVX3lxTE05VnJ5UFQwVGtsdjFpVjNYQWU0U2VlalhpTFpwQnFWNF8wU2xtQnAxa3Q5OU1kT1BtUm5xRkxDWWVIZGFyN2l4Z2lCcW96UWdqM19mVzNIeEhITVFNa29IOXdyaXF4aTRFUkZnZ19IQy1qTXc0ckI5ejNsUTRRSm1pcTZnNTRmNGNwWFppakNnd0kwRzJ6d2FjZWJkVkRsemNhYWxWUHE2aFFDOHdSZ0RVX3lZYk0tZERhbVNQM2FyS2tUODIzaGc3eUlMZ054VUVvZDM3TkxfYUowbXFpWFZpcmEtMllySF9Ua3M0YU1GTTZkZGVLV2NkNGc0SWl6SGFzcDZ4NGkzcDl2Nmo1ZGdFaC1Uc2x1bGU?oc=5\", \"content\": \"LLM옵스 개발사 랭체인, 2500만 달러 투자 유치 - CIO.com\"}, {\"url\": \"https://news.google.com/rss/articles/CBMiiwFBVV95cUxNTF9wdzNISGRrdzdYbDFfeUhMVWFXNnlVQWg0aVAzMFBaOExPNDRZd2Z3ckJua1AyaUZJbmxISXhZX1lGTXZLdDFQb29VTTZFQWV5bzMzc0dYV0JOQzhCMlg5VkdxX29aM0NTM1p1OW51T19Fa1FoZW5FR0lVQWVCb05IRENSZ3pRT2hJ?oc=5\", \"content\": \"Workers AI, Vectorize, D1에 대한 LangChain 지원 - Cloudflare\"}]\n",
      "==================================\u001b[1m Ai Message \u001b[0m==================================\n",
      "\n",
      "LangChain(랭체인)은 대규모 언어 모델(LLM)을 활용한 애플리케이션을 개발하는 데 사용되는 프레임워크입니다. 이는 LLM을 다양한 데이터 소스와 통합하여, 사용자가 원하는 정보를 효율적으로 검색하고 활용할 수 있도록 돕습니다. LangChain은 특히 Retrieval-Augmented Generation(RAG) 애플리케이션을 구축하는 데 유용하며, 데이터를 수집하고 처리하는 여러 가지 방법을 제공합니다.\n",
      "\n",
      "최근 LangChain은 2500만 달러의 투자를 유치하기도 했으며, 이를 통해 더욱 다양한 기능과 서비스를 제공할 계획입니다. LangChain의 아키텍처는 데이터 처리와 언어 모델의 효율적인 통합을 목표로 하며, 사용자가 손쉽게 LLM을 활용할 수 있는 환경을 제공합니다.\n",
      "\n",
      "더 자세한 정보는 [여기](https://news.google.com/rss/articles/CBMieEFVX3lxTE15VWVUMHAxYVdMcmpKWnhHLXVRZnh4LVB5cnd0Vldia2ZlRmNGMnByWVVlWXJMakhyZTJKVlJvMWRIRkRjVTFuUE52WU9oVnN2VkM1UTRnWThFLVRaaE04TDZKM0VzbmNJMkFLLWoyNzc0SktDVXJ4Rw?oc=5)에서 확인할 수 있습니다.\n"
     ]
    }
   ],
   "source": [
    "# `None`는 현재 상태에 아무것도 추가하지 않음\n",
    "events = graph.stream(None, config, stream_mode=\"values\")\n",
    "\n",
    "# 이벤트 반복 처리\n",
    "for event in events:\n",
    "    # 메시지가 이벤트에 포함된 경우\n",
    "    if \"messages\" in event:\n",
    "        # 마지막 메시지의 예쁜 출력\n",
    "        event[\"messages\"][-1].pretty_print()"
   ]
  },
  {
   "cell_type": "code",
   "execution_count": 15,
   "metadata": {},
   "outputs": [
    {
     "name": "stdout",
     "output_type": "stream",
     "text": [
      "================================\u001b[1m Human Message \u001b[0m=================================\n",
      "\n",
      "LangGraph 가 무엇인지 조사하여 알려주세요!\n",
      "==================================\u001b[1m Ai Message \u001b[0m==================================\n",
      "Tool Calls:\n",
      "  search_keyword (call_zyzjRbv24s72LH31uFs7eUXR)\n",
      " Call ID: call_zyzjRbv24s72LH31uFs7eUXR\n",
      "  Args:\n",
      "    query: LangGraph\n",
      "=================================\u001b[1m Tool Message \u001b[0m=================================\n",
      "\n",
      "[수정된 웹 검색 결과] \n",
      "LangGraph 말고 LangChain으로 검색하세요.\n",
      "\n",
      "테디노트의 [랭체인 한국어 튜토리얼](https://wikidocs.net/233785) 을 참고하세요.\n",
      "==================================\u001b[1m Ai Message \u001b[0m==================================\n",
      "Tool Calls:\n",
      "  search_keyword (call_iiRF0fGqOoCEQiq6dJdgRcts)\n",
      " Call ID: call_iiRF0fGqOoCEQiq6dJdgRcts\n",
      "  Args:\n",
      "    query: LangChain\n",
      "=================================\u001b[1m Tool Message \u001b[0m=================================\n",
      "Name: search_keyword\n",
      "\n",
      "[{\"url\": \"https://news.google.com/rss/articles/CBMieEFVX3lxTE15VWVUMHAxYVdMcmpKWnhHLXVRZnh4LVB5cnd0Vldia2ZlRmNGMnByWVVlWXJMakhyZTJKVlJvMWRIRkRjVTFuUE52WU9oVnN2VkM1UTRnWThFLVRaaE04TDZKM0VzbmNJMkFLLWoyNzc0SktDVXJ4Rw?oc=5\", \"content\": \"가볍게 훑어보는 LangChain (랭체인) | 인사이트리포트 | 삼성SDS - Samsung SDS\"}, {\"url\": \"https://news.google.com/rss/articles/CBMisANBVV95cUxOLXNzMUpYX3NHa1FVMkI0TTFmSGRFZ05vVTNKYnlta04wRUF0SlRVLXltbHhoQk1BcjJHR1ZFRFJLZnFUMGxveXl0MElNdXBVZjRQeDVrZkdRczU5MEY2RFZEb1ZZU21fRE44X0ZtUko0QmJfZjc2OVZjOXprMXBpVXhfbTNmTklNNzJ4LTNfRWZfZkhYY0NrN0N0WGgweHhBMEQ1ZElXQXE1WFlBQTlBa1NvR1owOUNQMXp6d1l1XzRZcTI2RTQ2Q3ZQR2YwcC1mb212SmlBMUZJYzNDaTJqN0NBcXpmbnIzNVVOZG95QUdvRmxUaWdwNzZsczRKNUNRdm5qZVNMWmVqRGdaWWRKT2JCUHd3UVA4MW1rbDVTV1B2aFdvVUR4QWRrSnRPaDh4M0ZaVTVQbnZkSktwX2lLeEh0VmFCUjhiQ1dWXzcxYVpRNkV4bEZDRm1oRkVyc2FwU0UzMklaM0VibXByQ2JwZmYxXzczNXFTMzdqamEtVkh3QTJrSlhra1NtRkxmbWNYdTQ2NllKNmJRTG9JcGxKUHR6TjVFTEpZY1BVYWNha2g?oc=5\", \"content\": \"LangChain을 사용하여 RAG 애플리케이션을 빌드하는 것에 대한 포괄적인 튜토리얼 - HackerNoon\"}, {\"url\": \"https://news.google.com/rss/articles/CBMipAFBVV95cUxNMTZEUmQ3MTd6Q3BWblRSOHMzZ1N1ekYzamNLbnVlcG13ZXFTUEp2SHZJajMtMWVrNklTSmVwT3dCX3I0YUJBQnBUM3NTdHlUTlVLci1IRWV6X0hhU2lVZURtNEFaVmdQSEpIaHNxOGZzRGJXLUMzQmhsMjlfd0hodWF4X0JBTzJjQ25DV004MDJOUkswbTdrVkJ0bkhTTlhqOWJGUg?oc=5\", \"content\": \"랭체인 아키텍처 및 동작 메커니즘 분석 - 캐드앤그래픽스\"}, {\"url\": \"https://news.google.com/rss/articles/CBMimAJBVV95cUxNOVZyeVBUMFRrbHYxaVYzWEFlNFNlZWpYaUxacEJxVjRfMFNsbUJwMWt0OTlNZE9QbVJucUZMQ1llSGRhcjdpeGdpQnFvelFnajNfZlczSHhISE1RTWtvSDl3cmlxeGk0RVJGZ2dfSEMtak13NHJCOXozbFE0UUptaXE2ZzU0ZjRjcFhaaWpDZ3dJMEcyendhY2ViZFZEbHpjYWFsVlBxNmhRQzh3UmdEVV95WWJNLWREYW1TUDNhcktrVDgyM2hnN3lJTGdOeFVFb2QzN05MX2FKMG1xaVhWaXJhLTJZckhfVGtzNGFNRk02ZGRlS1djZDRnNElpekhhc3A2eDRpM3A5djZqNWRnRWgtVHNsdWxl0gGYAkFVX3lxTE05VnJ5UFQwVGtsdjFpVjNYQWU0U2VlalhpTFpwQnFWNF8wU2xtQnAxa3Q5OU1kT1BtUm5xRkxDWWVIZGFyN2l4Z2lCcW96UWdqM19mVzNIeEhITVFNa29IOXdyaXF4aTRFUkZnZ19IQy1qTXc0ckI5ejNsUTRRSm1pcTZnNTRmNGNwWFppakNnd0kwRzJ6d2FjZWJkVkRsemNhYWxWUHE2aFFDOHdSZ0RVX3lZYk0tZERhbVNQM2FyS2tUODIzaGc3eUlMZ054VUVvZDM3TkxfYUowbXFpWFZpcmEtMllySF9Ua3M0YU1GTTZkZGVLV2NkNGc0SWl6SGFzcDZ4NGkzcDl2Nmo1ZGdFaC1Uc2x1bGU?oc=5\", \"content\": \"LLM옵스 개발사 랭체인, 2500만 달러 투자 유치 - CIO.com\"}, {\"url\": \"https://news.google.com/rss/articles/CBMiiwFBVV95cUxNTF9wdzNISGRrdzdYbDFfeUhMVWFXNnlVQWg0aVAzMFBaOExPNDRZd2Z3ckJua1AyaUZJbmxISXhZX1lGTXZLdDFQb29VTTZFQWV5bzMzc0dYV0JOQzhCMlg5VkdxX29aM0NTM1p1OW51T19Fa1FoZW5FR0lVQWVCb05IRENSZ3pRT2hJ?oc=5\", \"content\": \"Workers AI, Vectorize, D1에 대한 LangChain 지원 - Cloudflare\"}]\n",
      "==================================\u001b[1m Ai Message \u001b[0m==================================\n",
      "\n",
      "LangChain(랭체인)은 대규모 언어 모델(LLM)을 활용한 애플리케이션을 개발하는 데 사용되는 프레임워크입니다. 이는 LLM을 다양한 데이터 소스와 통합하여, 사용자가 원하는 정보를 효율적으로 검색하고 활용할 수 있도록 돕습니다. LangChain은 특히 Retrieval-Augmented Generation(RAG) 애플리케이션을 구축하는 데 유용하며, 데이터를 수집하고 처리하는 여러 가지 방법을 제공합니다.\n",
      "\n",
      "최근 LangChain은 2500만 달러의 투자를 유치하기도 했으며, 이를 통해 더욱 다양한 기능과 서비스를 제공할 계획입니다. LangChain의 아키텍처는 데이터 처리와 언어 모델의 효율적인 통합을 목표로 하며, 사용자가 손쉽게 LLM을 활용할 수 있는 환경을 제공합니다.\n",
      "\n",
      "더 자세한 정보는 [여기](https://news.google.com/rss/articles/CBMieEFVX3lxTE15VWVUMHAxYVdMcmpKWnhHLXVRZnh4LVB5cnd0Vldia2ZlRmNGMnByWVVlWXJMakhyZTJKVlJvMWRIRkRjVTFuUE52WU9oVnN2VkM1UTRnWThFLVRaaE04TDZKM0VzbmNJMkFLLWoyNzc0SktDVXJ4Rw?oc=5)에서 확인할 수 있습니다.\n"
     ]
    }
   ],
   "source": [
    "# 그래프 상태 스냅샷 생성\n",
    "snapshot = graph.get_state(config)\n",
    "\n",
    "# 최근 세 개의 메시지 출력\n",
    "for message in snapshot.values[\"messages\"]:\n",
    "    message.pretty_print()"
   ]
  },
  {
   "cell_type": "markdown",
   "metadata": {},
   "source": [
    "### 예시 한 개 더 추가"
   ]
  },
  {
   "cell_type": "code",
   "execution_count": 16,
   "metadata": {},
   "outputs": [
    {
     "name": "stdout",
     "output_type": "stream",
     "text": [
      "thread_id: 791024\n",
      "================================\u001b[1m Human Message \u001b[0m=================================\n",
      "\n",
      "LangGraph 에 대해서 배워보고 싶습니다. 유용한 자료를 추천해 주세요!\n",
      "==================================\u001b[1m Ai Message \u001b[0m==================================\n",
      "Tool Calls:\n",
      "  search_keyword (call_lEVcNbZeUEGDs6tnFOVTTY3Q)\n",
      " Call ID: call_lEVcNbZeUEGDs6tnFOVTTY3Q\n",
      "  Args:\n",
      "    query: LangGraph\n"
     ]
    }
   ],
   "source": [
    "import random\n",
    "\n",
    "def generate_random_hash():\n",
    "    return f\"{random.randint(0, 0xffffff):06x}\"\n",
    "\n",
    "thread_id = generate_random_hash()\n",
    "print(f\"thread_id: {thread_id}\")\n",
    "\n",
    "question = \"LangGraph 에 대해서 배워보고 싶습니다. 유용한 자료를 추천해 주세요!\"\n",
    "\n",
    "# 초기 입력 상태를 정의\n",
    "input = State(messages=[(\"user\", question)])\n",
    "\n",
    "# 새로운 config 생성\n",
    "config = {\"configurable\": {\"thread_id\": thread_id}}\n",
    "\n",
    "events = graph.stream(\n",
    "    input=input,\n",
    "    config=config,\n",
    "    interrupt_before=[\"tools\"],\n",
    "    stream_mode=\"values\",\n",
    ")\n",
    "for event in events:\n",
    "    if \"messages\" in event:\n",
    "        event[\"messages\"][-1].pretty_print()"
   ]
  },
  {
   "cell_type": "code",
   "execution_count": 17,
   "metadata": {},
   "outputs": [],
   "source": [
    "config_copy = config.copy()"
   ]
  },
  {
   "cell_type": "code",
   "execution_count": 18,
   "metadata": {},
   "outputs": [
    {
     "name": "stdout",
     "output_type": "stream",
     "text": [
      "Message ID run-6f9b8ef9-72d8-4d24-b4ee-485e596cc632-0\n"
     ]
    }
   ],
   "source": [
    "from langchain_core.messages import AIMessage\n",
    "\n",
    "# 스냅샷 상태 가져오기\n",
    "snapshot = graph.get_state(config)\n",
    "\n",
    "# messages 의 마지막 메시지 가져오기\n",
    "existing_message = snapshot.values[\"messages\"][-1]\n",
    "\n",
    "# 메시지 ID 출력\n",
    "print(\"Message ID\", existing_message.id)"
   ]
  },
  {
   "cell_type": "code",
   "execution_count": 19,
   "metadata": {},
   "outputs": [
    {
     "data": {
      "text/plain": [
       "{'name': 'search_keyword',\n",
       " 'args': {'query': 'LangGraph site:teddylee777.github.io'},\n",
       " 'id': 'call_lEVcNbZeUEGDs6tnFOVTTY3Q',\n",
       " 'type': 'tool_call'}"
      ]
     },
     "execution_count": 19,
     "metadata": {},
     "output_type": "execute_result"
    }
   ],
   "source": [
    "# tool_calls 를 복사하여 새로운 도구 호출 생성\n",
    "new_tool_call = existing_message.tool_calls[0].copy()\n",
    "\n",
    "# 쿼리 매개변수 업데이트(갱신)\n",
    "new_tool_call[\"args\"] = {\"query\": \"LangGraph site:teddylee777.github.io\"}\n",
    "new_tool_call"
   ]
  },
  {
   "cell_type": "markdown",
   "metadata": {},
   "source": [
    "Update"
   ]
  },
  {
   "cell_type": "code",
   "execution_count": 20,
   "metadata": {},
   "outputs": [
    {
     "name": "stdout",
     "output_type": "stream",
     "text": [
      "run-6f9b8ef9-72d8-4d24-b4ee-485e596cc632-0\n",
      "==================================\u001b[1m Ai Message \u001b[0m==================================\n",
      "Tool Calls:\n",
      "  search_keyword (call_lEVcNbZeUEGDs6tnFOVTTY3Q)\n",
      " Call ID: call_lEVcNbZeUEGDs6tnFOVTTY3Q\n",
      "  Args:\n",
      "    query: LangGraph site:teddylee777.github.io\n"
     ]
    }
   ],
   "source": [
    "# AIMessage 생성\n",
    "new_message = AIMessage(\n",
    "    content=existing_message.content,\n",
    "    tool_calls=[new_tool_call],\n",
    "    # 중요! ID는 메시지를 상태에 추가하는 대신 교체하는 방법\n",
    "    id=existing_message.id,\n",
    ")\n",
    "\n",
    "print(new_message.id)\n",
    "\n",
    "# 수정한 메시지 출력\n",
    "new_message.pretty_print()"
   ]
  },
  {
   "cell_type": "code",
   "execution_count": 21,
   "metadata": {},
   "outputs": [
    {
     "data": {
      "text/plain": [
       "{'configurable': {'thread_id': '791024',\n",
       "  'checkpoint_ns': '',\n",
       "  'checkpoint_id': '1ef9beec-31dc-65e8-8002-72e40468b90b'}}"
      ]
     },
     "execution_count": 21,
     "metadata": {},
     "output_type": "execute_result"
    }
   ],
   "source": [
    "# 상태 업데이트\n",
    "graph.update_state(config, {\"messages\": [new_message]})"
   ]
  },
  {
   "cell_type": "code",
   "execution_count": 22,
   "metadata": {},
   "outputs": [
    {
     "name": "stdout",
     "output_type": "stream",
     "text": [
      "==================================\u001b[1m Ai Message \u001b[0m==================================\n",
      "Tool Calls:\n",
      "  search_keyword (call_lEVcNbZeUEGDs6tnFOVTTY3Q)\n",
      " Call ID: call_lEVcNbZeUEGDs6tnFOVTTY3Q\n",
      "  Args:\n",
      "    query: LangGraph site:teddylee777.github.io\n",
      "=================================\u001b[1m Tool Message \u001b[0m=================================\n",
      "Name: search_keyword\n",
      "\n",
      "[{\"url\": \"https://news.google.com/rss/articles/CBMiREFVX3lxTE9YdjI3SVhReEpSc2ctaUl1ZzBpb2hFbUxpRnFacGtCRHdROEoyNjlVVkZJS09RdnlqSml6U2d0RGk4a1JG?oc=5\", \"content\": \"테디노트 - GitHub Pages\"}, {\"url\": \"https://news.google.com/rss/articles/CBMib0FVX3lxTE9iTXZZTlNoMEw1QnVvXzJZUTRyT19CanNUbUZicUVqNGtIdWFTSnprb2VoYU9oRUZGVDNRTVhsa2RIT2xBVnVVUXY4SXJtWXpJVW1fZ2xUQ1g2VWZqQnFyMklXc3FiYzJDb056eTM2NA?oc=5\", \"content\": \"LangGraph Retrieval Agent를 활용한 동적 문서 검색 및 처리 - GitHub Pages\"}, {\"url\": \"https://news.google.com/rss/articles/CBMiYEFVX3lxTE9BVEhGRGZGLXduVDd5LVJKSk1TSUwwNHdGb0xWVjZtU2FIdF9GZjZVbDRhaWRFOGpoVEc3WHlubFFWVGs3UnVKT18yTlRwcjZEaGFkaGtXdjJWei13X3o4NA?oc=5\", \"content\": \"OpenAI API 모델 리스트 / 요금표 - GitHub Pages\"}, {\"url\": \"https://news.google.com/rss/articles/CBMiY0FVX3lxTE9GV3pHTTFrRnl5M0xNcWozX3JrZTFjQUFGWlMtcFRkTi00M210R3pvdDJCSUdSbmZqQTRNZWZseWJUektieVo4SmdFTlRBaFdQUWIwT3I0WlVNVkJwRG01QWRvaw?oc=5\", \"content\": \"LangChain RAG 파헤치기: 문서 기반 QA 시스템 설계 방법 - 심화편 - GitHub Pages\"}, {\"url\": \"https://news.google.com/rss/articles/CBMiY0FVX3lxTE13clZKZXp0SVZ6RmJORVE1SnVtZUtGVk9mNlg0bzY4Y191N3ozWEFwUzF5TkJRTkdOMlVvZEljWHNJeTB0UFM3d1JMajZWTkthQlJmVjJTRG8zTTI4VkZ5dnAxSQ?oc=5\", \"content\": \"poetry 의 거의 모든것 (튜토리얼) - GitHub Pages\"}]\n",
      "==================================\u001b[1m Ai Message \u001b[0m==================================\n",
      "\n",
      "LangGraph에 대한 유용한 자료를 아래에 추천합니다:\n",
      "\n",
      "1. [LangGraph Retrieval Agent를 활용한 동적 문서 검색 및 처리](https://news.google.com/rss/articles/CBMib0FVX3lxTE9iTXZZTlNoMEw1QnVvXzJZUTRyT19CanNUbUZicUVqNGtIdWFTSnprb2VoYU9oRUZGVDNRTVhsa2RIT2xBVnVVUXY4SXJtWXpJVW1fZ2xUQ1g2VWZqQnFyMklXc3FiYzJDb056eTM2NA?oc=5) - LangGraph를 사용하여 문서를 동적으로 검색하고 처리하는 방법에 대한 자료입니다.\n",
      "\n",
      "2. [LangChain RAG 파헤치기: 문서 기반 QA 시스템 설계 방법 - 심화편](https://news.google.com/rss/articles/CBMiY0FVX3lxTE13clZKZXp0SVZ6RmJORVE1SnVtZUtGVk9mNlg0bzY4Y191N3ozWEFwUzF5TkJRTkdOMlVvZEljWHNJeTB0UFM3d1JMajZWTkthQlJmVjJTRG8zTTI4VkZ5dnAxSQ?oc=5) - LangChain과 LangGraph를 활용한 문서 기반 QA 시스템 설계에 대한 심화 자료입니다.\n",
      "\n",
      "이 외에도 LangGraph와 관련된 다양한 주제를 다루는 자료들을 찾아보실 수 있습니다.\n"
     ]
    }
   ],
   "source": [
    "events = graph.stream(None, config, stream_mode=\"values\")\n",
    "\n",
    "# 각 이벤트에 대한 처리\n",
    "for event in events:\n",
    "    # 메시지가 있는 경우 마지막 메시지 출력\n",
    "    if \"messages\" in event:\n",
    "        event[\"messages\"][-1].pretty_print()"
   ]
  },
  {
   "cell_type": "code",
   "execution_count": 23,
   "metadata": {},
   "outputs": [
    {
     "name": "stdout",
     "output_type": "stream",
     "text": [
      "================================\u001b[1m Human Message \u001b[0m=================================\n",
      "\n",
      "내가 지금까지 배운 내용에 대해서 매우 친절하고 정성스럽게 한국어로 답변해줘! 출처를 반드시 포함해줘!\n",
      "==================================\u001b[1m Ai Message \u001b[0m==================================\n",
      "\n",
      "LangGraph에 대해 배운 내용을 정리해 드리겠습니다.\n",
      "\n",
      "1. **LangGraph Retrieval Agent**: 이 도구는 동적 문서 검색 및 처리에 사용됩니다. 사용자는 LangGraph를 활용하여 특정한 정보나 데이터를 효율적으로 검색하고, 이를 기반으로 다양한 작업을 수행할 수 있습니다. 이 자료는 LangGraph의 기능과 활용 방법을 자세히 설명하고 있습니다. [자세한 내용 보기](https://news.google.com/rss/articles/CBMib0FVX3lxTE9iTXZZTlNoMEw1QnVvXzJZUTRyT19CanNUbUZicUVqNGtIdWFTSnprb2VoYU9oRUZGVDNRTVhsa2RIT2xBVnVVUXY4SXJtWXpJVW1fZ2xUQ1g2VWZqQnFyMklXc3FiYzJDb056eTM2NA?oc=5)\n",
      "\n",
      "2. **문서 기반 QA 시스템 설계**: LangChain과 LangGraph를 활용하여 문서 기반의 질문-답변(QA) 시스템을 설계하는 방법에 대한 심화 자료입니다. 이 자료에서는 시스템의 구조와 기능, 그리고 구현 방법에 대해 깊이 있는 내용을 다루고 있습니다. [자세한 내용 보기](https://news.google.com/rss/articles/CBMiY0FVX3lxTE13clZKZXp0SVZ6RmJORVE1SnVtZUtGVk9mNlg0bzY4Y191N3ozWEFwUzF5TkJRTkdOMlVvZEljWHNJeTB0UFM3d1JMajZWTkthQlJmVjJTRG8zTTI4VkZ5dnAxSQ?oc=5)\n",
      "\n",
      "이 두 가지 자료를 통해 LangGraph의 기능과 활용 사례에 대해 잘 이해할 수 있을 것입니다. 추가로 궁금한 점이 있으시면 언제든지 물어보세요!\n"
     ]
    }
   ],
   "source": [
    "# 이벤트 스트림 생성\n",
    "events = graph.stream(\n",
    "    {\n",
    "        \"messages\": (\n",
    "            \"user\",\n",
    "            \"내가 지금까지 배운 내용에 대해서 매우 친절하고 정성스럽게 한국어로 답변해줘! 출처를 반드시 포함해줘!\",\n",
    "        )\n",
    "    },\n",
    "    config,\n",
    "    stream_mode=\"values\",\n",
    ")\n",
    "\n",
    "# 메시지 이벤트 처리\n",
    "for event in events:\n",
    "    if \"messages\" in event:\n",
    "        # 마지막 메시지 출력\n",
    "        event[\"messages\"][-1].pretty_print()"
   ]
  },
  {
   "cell_type": "markdown",
   "metadata": {},
   "source": [
    "### replay에 update 적용"
   ]
  },
  {
   "cell_type": "markdown",
   "metadata": {},
   "source": [
    "먼저 replay 할 곳 지정"
   ]
  },
  {
   "cell_type": "code",
   "execution_count": 24,
   "metadata": {},
   "outputs": [
    {
     "name": "stdout",
     "output_type": "stream",
     "text": [
      "run-9b5802f7-0021-4b45-90cd-2cfc2292d5ea-0\n",
      "메시지 수:  6 다음 노드:  ()\n",
      "--------------------------------------------------------------------------------\n",
      "220db059-14e2-4abe-b429-afdfea20e05b\n",
      "메시지 수:  5 다음 노드:  ('chatbot',)\n",
      "--------------------------------------------------------------------------------\n",
      "run-886231d4-594a-4bbd-b613-74f0bfbb7a7d-0\n",
      "메시지 수:  4 다음 노드:  ('__start__',)\n",
      "--------------------------------------------------------------------------------\n",
      "run-886231d4-594a-4bbd-b613-74f0bfbb7a7d-0\n",
      "메시지 수:  4 다음 노드:  ()\n",
      "--------------------------------------------------------------------------------\n",
      "295f8c2a-0964-4497-bc79-efa6f149893d\n",
      "메시지 수:  3 다음 노드:  ('chatbot',)\n",
      "--------------------------------------------------------------------------------\n",
      "run-6f9b8ef9-72d8-4d24-b4ee-485e596cc632-0\n",
      "메시지 수:  2 다음 노드:  ('tools',)\n",
      "--------------------------------------------------------------------------------\n",
      "run-6f9b8ef9-72d8-4d24-b4ee-485e596cc632-0\n",
      "메시지 수:  2 다음 노드:  ('tools',)\n",
      "--------------------------------------------------------------------------------\n",
      "f5522634-0eeb-4d70-b550-abd1563adb1c\n",
      "메시지 수:  1 다음 노드:  ('chatbot',)\n",
      "--------------------------------------------------------------------------------\n"
     ]
    }
   ],
   "source": [
    "to_replay_state = None\n",
    "\n",
    "# 상태 기록 가져오기\n",
    "for state in graph.get_state_history(config):\n",
    "\n",
    "    messages = state.values[\"messages\"]\n",
    "\n",
    "    if len(messages) > 0:\n",
    "        print(state.values[\"messages\"][-1].id)\n",
    "        # 메시지 수 및 다음 상태 출력\n",
    "        print(\"메시지 수: \", len(state.values[\"messages\"]), \"다음 노드: \", state.next)\n",
    "        print(\"-\" * 80)\n",
    "        # 특정 상태 선택 기준: 채팅 메시지 수\n",
    "        if len(state.values[\"messages\"]) == 2:\n",
    "            # 특정 메시지 ID 선택\n",
    "            to_replay_state = state"
   ]
  },
  {
   "cell_type": "code",
   "execution_count": 25,
   "metadata": {},
   "outputs": [],
   "source": [
    "# 선택한 메시지 가져오기\n",
    "existing_message = to_replay_state.values[\"messages\"][-1]"
   ]
  },
  {
   "cell_type": "markdown",
   "metadata": {},
   "source": [
    "메시지 수정"
   ]
  },
  {
   "cell_type": "code",
   "execution_count": 29,
   "metadata": {},
   "outputs": [],
   "source": [
    "tool_call = existing_message.tool_calls[0].copy()\n",
    "tool_call[\"args\"] = {\"query\": \"미국 대선 관련 뉴스\"}\n",
    "# AIMessage 생성\n",
    "new_message = AIMessage(\n",
    "    content=existing_message.content,\n",
    "    tool_calls=[tool_call],\n",
    "    # 중요! ID는 메시지를 상태에 추가하는 대신 교체하는 방법\n",
    "    id=existing_message.id,\n",
    ")\n",
    "\n",
    "# 상태 업데이트\n",
    "updated_state = graph.update_state(\n",
    "    to_replay_state.config,\n",
    "    {\"messages\": [new_message]},\n",
    ")"
   ]
  },
  {
   "cell_type": "markdown",
   "metadata": {},
   "source": [
    "업데이트 된 질문 스트림"
   ]
  },
  {
   "cell_type": "code",
   "execution_count": 30,
   "metadata": {},
   "outputs": [
    {
     "name": "stdout",
     "output_type": "stream",
     "text": [
      "==================================\u001b[1m Ai Message \u001b[0m==================================\n",
      "Tool Calls:\n",
      "  search_keyword (call_lEVcNbZeUEGDs6tnFOVTTY3Q)\n",
      " Call ID: call_lEVcNbZeUEGDs6tnFOVTTY3Q\n",
      "  Args:\n",
      "    query: 미국 대선 관련 뉴스\n",
      "=================================\u001b[1m Tool Message \u001b[0m=================================\n",
      "Name: search_keyword\n",
      "\n",
      "[{\"url\": \"https://news.google.com/rss/articles/CBMiXEFVX3lxTE5ZeGtTRGowektQaktCUXdJbjJMN1pWS05UUVpXckpwWUFhcTJpNWgtOV9tMHBCRGRFVmc0NERVZVNXcUFUZlF4VWhzbGZCeXlEanhncGlDRVlrbnVX0gFiQVVfeXFMTWtuQUtrSXVEdkNZay1WZ0FrOVFMT1NGSXBXY2dHTDQ1ZklMNHNqQlNTZHFBbnVuVURKa2Q2OHg5cW9PcGRVajBYV2FpV0lhYjl2WU1rWHZDdGI4V2p5VzhNTXc?oc=5\", \"content\": \"2024 미국 대선 개표 현황 - BBC.com\"}, {\"url\": \"https://news.google.com/rss/articles/CBMiUEFVX3lxTFBUT2NiQ0NMWEI5a2NjTE9yYzJ4UG81and1WE1JWEVDWHI4bXlXLTNwenVnU2puODVtZy0yRGhvYktDSmE5ZlB6TUlqaU90RkIy?oc=5\", \"content\": \"2024 미국 대선 - 동아일보\"}, {\"url\": \"https://news.google.com/rss/articles/CBMiW0FVX3lxTE9GblJYOG9CNTRXU0dqVTc4WEwteC1obTJhRm9ZNC1rczJGSXhPRzVfb3oxQ1dTOVcyYzdCV0lER2E2N2VGelNTVGJUZV85a3BKQ2FuNjQ0aTJLOEXSAV5BVV95cUxOMG45NGw2eW1FdUhuVkcwTlNMM01ZYUpRSGRWM1ZzM3EtNDJpMGdPQWNULUdJcUdoWDc3TUNkcXhFZFNsNS1MOVpjSkNiTjBEZXA1b2tVcUtVaEpHb2tB?oc=5\", \"content\": \"[美대선] 누가되든 韓경제 '불확실성' 밀려온다…'버팀목' 수출 흔들 - 연합뉴스\"}, {\"url\": \"https://news.google.com/rss/articles/CBMiW0FVX3lxTE9jbHhGRXRqZENkRVgtUTZEWEFMMHBZZERiV1AwR2JTNGFfMUoyN3RZVkwxZk5INTZjY1d4N215SHU1MTE4NnZJWklwSHBkUVV2bGJ4bUU2SkNpSTQ?oc=5\", \"content\": \"‘역대급 초접전’ 미 대선 오늘 본투표…마지막 날까지 경합주 공략 - KBS뉴스\"}, {\"url\": \"https://news.google.com/rss/articles/CBMiWkFVX3lxTE5GbWVReHNmZHR5dXY1LWNuNzk2VmFtM2lra0dMMXM4XzAxOGhHTWxFZGRTa3NyYVZXSHZFZjlZQ3VueGlmMF91cmEteWdPOTBRQnVpdzNrVTZPUdIBVEFVX3lxTE43Z3MwTnhRR1J5NGYySHNqY29kSjE0MHNuMlhIODBibmszX2xNcEw0cXZNd0gwTHZ6NEVhcG5ETnYzZ0FRMG45VXA3YTNaNk9ZcDdXZw?oc=5\", \"content\": \"\\\"해리스 vs 트럼프, 선두는 누구?\\\"…실시간 '선거 상황판' 떴다 [2024 美대선] - 한국경제\"}]\n",
      "==================================\u001b[1m Ai Message \u001b[0m==================================\n",
      "\n",
      "LangGraph에 대한 자료를 찾고자 하셨다면, 다음과 같은 유용한 리소스를 추천드립니다:\n",
      "\n",
      "1. **LangGraph 공식 문서**: LangGraph의 공식 웹사이트나 GitHub 저장소에서 제공하는 문서를 통해 기본적인 개념과 사용법을 익힐 수 있습니다.\n",
      "\n",
      "2. **튜토리얼 비디오**: YouTube에서 LangGraph 관련 튜토리얼을 검색하면, 다양한 예제와 실습 과정을 통해 더욱 심층적으로 배울 수 있습니다.\n",
      "\n",
      "3. **기술 블로그**: 여러 개발자들이 작성한 블로그 포스트에서 LangGraph의 사용 사례나 팁을 찾아볼 수 있습니다.\n",
      "\n",
      "4. **커뮤니티 포럼**: Stack Overflow나 Reddit의 관련 서브레딧에서 질문을 하거나 다른 사용자들의 경험담을 공유받을 수 있습니다.\n",
      "\n",
      "5. **온라인 강의**: Udemy, Coursera와 같은 플랫폼에서 LangGraph 또는 관련 기술에 대한 강의를 찾아 수강할 수 있습니다.\n",
      "\n",
      "이 리소스들을 통해 LangGraph에 대한 이해도를 높일 수 있을 것입니다. 추가적으로 궁금한 점이 있으시면 언제든지 질문해 주세요!\n"
     ]
    }
   ],
   "source": [
    "# config 에는 updated_state 를 전달합니다. 이는 임의로 갱신한 상태를 전달하는 것입니다.\n",
    "for event in graph.stream(None, updated_state, stream_mode=\"values\"):\n",
    "    # 메시지가 이벤트에 포함된 경우\n",
    "    if \"messages\" in event:\n",
    "        # 마지막 메시지 출력\n",
    "        event[\"messages\"][-1].pretty_print()"
   ]
  }
 ],
 "metadata": {
  "kernelspec": {
   "display_name": "llm",
   "language": "python",
   "name": "python3"
  },
  "language_info": {
   "codemirror_mode": {
    "name": "ipython",
    "version": 3
   },
   "file_extension": ".py",
   "mimetype": "text/x-python",
   "name": "python",
   "nbconvert_exporter": "python",
   "pygments_lexer": "ipython3",
   "version": "3.10.12"
  }
 },
 "nbformat": 4,
 "nbformat_minor": 2
}
